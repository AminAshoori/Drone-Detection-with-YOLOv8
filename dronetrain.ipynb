{
  "cells": [
    {
      "cell_type": "code",
      "execution_count": 1,
      "metadata": {
        "colab": {
          "base_uri": "https://localhost:8080/"
        },
        "id": "dQoO1ObSg9G3",
        "outputId": "04b1cb6f-8dac-41b3-d5a3-6efbd2ee8888"
      },
      "outputs": [
        {
          "name": "stdout",
          "output_type": "stream",
          "text": [
            "Collecting ultralytics\n",
            "  Downloading ultralytics-8.2.64-py3-none-any.whl.metadata (41 kB)\n",
            "\u001b[?25l     \u001b[90m━━━━━━━━━━━━━━━━━━━━━━━━━━━━━━━━━━━━━━━━\u001b[0m \u001b[32m0.0/41.2 kB\u001b[0m \u001b[31m?\u001b[0m eta \u001b[36m-:--:--\u001b[0m\r\u001b[2K     \u001b[90m━━━━━━━━━━━━━━━━━━━━━━━━━━━━━━━━━━━━━━━━\u001b[0m \u001b[32m41.2/41.2 kB\u001b[0m \u001b[31m3.8 MB/s\u001b[0m eta \u001b[36m0:00:00\u001b[0m\n",
            "\u001b[?25hRequirement already satisfied: opencv-python-headless in /usr/local/lib/python3.10/dist-packages (4.10.0.84)\n",
            "Requirement already satisfied: numpy<2.0.0,>=1.23.0 in /usr/local/lib/python3.10/dist-packages (from ultralytics) (1.25.2)\n",
            "Requirement already satisfied: matplotlib>=3.3.0 in /usr/local/lib/python3.10/dist-packages (from ultralytics) (3.7.1)\n",
            "Requirement already satisfied: opencv-python>=4.6.0 in /usr/local/lib/python3.10/dist-packages (from ultralytics) (4.8.0.76)\n",
            "Requirement already satisfied: pillow>=7.1.2 in /usr/local/lib/python3.10/dist-packages (from ultralytics) (9.4.0)\n",
            "Requirement already satisfied: pyyaml>=5.3.1 in /usr/local/lib/python3.10/dist-packages (from ultralytics) (6.0.1)\n",
            "Requirement already satisfied: requests>=2.23.0 in /usr/local/lib/python3.10/dist-packages (from ultralytics) (2.31.0)\n",
            "Requirement already satisfied: scipy>=1.4.1 in /usr/local/lib/python3.10/dist-packages (from ultralytics) (1.11.4)\n",
            "Requirement already satisfied: torch>=1.8.0 in /usr/local/lib/python3.10/dist-packages (from ultralytics) (2.3.1+cu121)\n",
            "Requirement already satisfied: torchvision>=0.9.0 in /usr/local/lib/python3.10/dist-packages (from ultralytics) (0.18.1+cu121)\n",
            "Requirement already satisfied: tqdm>=4.64.0 in /usr/local/lib/python3.10/dist-packages (from ultralytics) (4.66.4)\n",
            "Requirement already satisfied: psutil in /usr/local/lib/python3.10/dist-packages (from ultralytics) (5.9.5)\n",
            "Requirement already satisfied: py-cpuinfo in /usr/local/lib/python3.10/dist-packages (from ultralytics) (9.0.0)\n",
            "Requirement already satisfied: pandas>=1.1.4 in /usr/local/lib/python3.10/dist-packages (from ultralytics) (2.0.3)\n",
            "Requirement already satisfied: seaborn>=0.11.0 in /usr/local/lib/python3.10/dist-packages (from ultralytics) (0.13.1)\n",
            "Collecting ultralytics-thop>=2.0.0 (from ultralytics)\n",
            "  Downloading ultralytics_thop-2.0.0-py3-none-any.whl.metadata (8.5 kB)\n",
            "Requirement already satisfied: contourpy>=1.0.1 in /usr/local/lib/python3.10/dist-packages (from matplotlib>=3.3.0->ultralytics) (1.2.1)\n",
            "Requirement already satisfied: cycler>=0.10 in /usr/local/lib/python3.10/dist-packages (from matplotlib>=3.3.0->ultralytics) (0.12.1)\n",
            "Requirement already satisfied: fonttools>=4.22.0 in /usr/local/lib/python3.10/dist-packages (from matplotlib>=3.3.0->ultralytics) (4.53.1)\n",
            "Requirement already satisfied: kiwisolver>=1.0.1 in /usr/local/lib/python3.10/dist-packages (from matplotlib>=3.3.0->ultralytics) (1.4.5)\n",
            "Requirement already satisfied: packaging>=20.0 in /usr/local/lib/python3.10/dist-packages (from matplotlib>=3.3.0->ultralytics) (24.1)\n",
            "Requirement already satisfied: pyparsing>=2.3.1 in /usr/local/lib/python3.10/dist-packages (from matplotlib>=3.3.0->ultralytics) (3.1.2)\n",
            "Requirement already satisfied: python-dateutil>=2.7 in /usr/local/lib/python3.10/dist-packages (from matplotlib>=3.3.0->ultralytics) (2.8.2)\n",
            "Requirement already satisfied: pytz>=2020.1 in /usr/local/lib/python3.10/dist-packages (from pandas>=1.1.4->ultralytics) (2023.4)\n",
            "Requirement already satisfied: tzdata>=2022.1 in /usr/local/lib/python3.10/dist-packages (from pandas>=1.1.4->ultralytics) (2024.1)\n",
            "Requirement already satisfied: charset-normalizer<4,>=2 in /usr/local/lib/python3.10/dist-packages (from requests>=2.23.0->ultralytics) (3.3.2)\n",
            "Requirement already satisfied: idna<4,>=2.5 in /usr/local/lib/python3.10/dist-packages (from requests>=2.23.0->ultralytics) (3.7)\n",
            "Requirement already satisfied: urllib3<3,>=1.21.1 in /usr/local/lib/python3.10/dist-packages (from requests>=2.23.0->ultralytics) (2.0.7)\n",
            "Requirement already satisfied: certifi>=2017.4.17 in /usr/local/lib/python3.10/dist-packages (from requests>=2.23.0->ultralytics) (2024.7.4)\n",
            "Requirement already satisfied: filelock in /usr/local/lib/python3.10/dist-packages (from torch>=1.8.0->ultralytics) (3.15.4)\n",
            "Requirement already satisfied: typing-extensions>=4.8.0 in /usr/local/lib/python3.10/dist-packages (from torch>=1.8.0->ultralytics) (4.12.2)\n",
            "Requirement already satisfied: sympy in /usr/local/lib/python3.10/dist-packages (from torch>=1.8.0->ultralytics) (1.13.1)\n",
            "Requirement already satisfied: networkx in /usr/local/lib/python3.10/dist-packages (from torch>=1.8.0->ultralytics) (3.3)\n",
            "Requirement already satisfied: jinja2 in /usr/local/lib/python3.10/dist-packages (from torch>=1.8.0->ultralytics) (3.1.4)\n",
            "Requirement already satisfied: fsspec in /usr/local/lib/python3.10/dist-packages (from torch>=1.8.0->ultralytics) (2023.6.0)\n",
            "Collecting nvidia-cuda-nvrtc-cu12==12.1.105 (from torch>=1.8.0->ultralytics)\n",
            "  Using cached nvidia_cuda_nvrtc_cu12-12.1.105-py3-none-manylinux1_x86_64.whl.metadata (1.5 kB)\n",
            "Collecting nvidia-cuda-runtime-cu12==12.1.105 (from torch>=1.8.0->ultralytics)\n",
            "  Using cached nvidia_cuda_runtime_cu12-12.1.105-py3-none-manylinux1_x86_64.whl.metadata (1.5 kB)\n",
            "Collecting nvidia-cuda-cupti-cu12==12.1.105 (from torch>=1.8.0->ultralytics)\n",
            "  Using cached nvidia_cuda_cupti_cu12-12.1.105-py3-none-manylinux1_x86_64.whl.metadata (1.6 kB)\n",
            "Collecting nvidia-cudnn-cu12==8.9.2.26 (from torch>=1.8.0->ultralytics)\n",
            "  Using cached nvidia_cudnn_cu12-8.9.2.26-py3-none-manylinux1_x86_64.whl.metadata (1.6 kB)\n",
            "Collecting nvidia-cublas-cu12==12.1.3.1 (from torch>=1.8.0->ultralytics)\n",
            "  Using cached nvidia_cublas_cu12-12.1.3.1-py3-none-manylinux1_x86_64.whl.metadata (1.5 kB)\n",
            "Collecting nvidia-cufft-cu12==11.0.2.54 (from torch>=1.8.0->ultralytics)\n",
            "  Using cached nvidia_cufft_cu12-11.0.2.54-py3-none-manylinux1_x86_64.whl.metadata (1.5 kB)\n",
            "Collecting nvidia-curand-cu12==10.3.2.106 (from torch>=1.8.0->ultralytics)\n",
            "  Using cached nvidia_curand_cu12-10.3.2.106-py3-none-manylinux1_x86_64.whl.metadata (1.5 kB)\n",
            "Collecting nvidia-cusolver-cu12==11.4.5.107 (from torch>=1.8.0->ultralytics)\n",
            "  Using cached nvidia_cusolver_cu12-11.4.5.107-py3-none-manylinux1_x86_64.whl.metadata (1.6 kB)\n",
            "Collecting nvidia-cusparse-cu12==12.1.0.106 (from torch>=1.8.0->ultralytics)\n",
            "  Using cached nvidia_cusparse_cu12-12.1.0.106-py3-none-manylinux1_x86_64.whl.metadata (1.6 kB)\n",
            "Collecting nvidia-nccl-cu12==2.20.5 (from torch>=1.8.0->ultralytics)\n",
            "  Using cached nvidia_nccl_cu12-2.20.5-py3-none-manylinux2014_x86_64.whl.metadata (1.8 kB)\n",
            "Collecting nvidia-nvtx-cu12==12.1.105 (from torch>=1.8.0->ultralytics)\n",
            "  Using cached nvidia_nvtx_cu12-12.1.105-py3-none-manylinux1_x86_64.whl.metadata (1.7 kB)\n",
            "Requirement already satisfied: triton==2.3.1 in /usr/local/lib/python3.10/dist-packages (from torch>=1.8.0->ultralytics) (2.3.1)\n",
            "Collecting nvidia-nvjitlink-cu12 (from nvidia-cusolver-cu12==11.4.5.107->torch>=1.8.0->ultralytics)\n",
            "  Downloading nvidia_nvjitlink_cu12-12.5.82-py3-none-manylinux2014_x86_64.whl.metadata (1.5 kB)\n",
            "Requirement already satisfied: six>=1.5 in /usr/local/lib/python3.10/dist-packages (from python-dateutil>=2.7->matplotlib>=3.3.0->ultralytics) (1.16.0)\n",
            "Requirement already satisfied: MarkupSafe>=2.0 in /usr/local/lib/python3.10/dist-packages (from jinja2->torch>=1.8.0->ultralytics) (2.1.5)\n",
            "Requirement already satisfied: mpmath<1.4,>=1.1.0 in /usr/local/lib/python3.10/dist-packages (from sympy->torch>=1.8.0->ultralytics) (1.3.0)\n",
            "Downloading ultralytics-8.2.64-py3-none-any.whl (824 kB)\n",
            "\u001b[2K   \u001b[90m━━━━━━━━━━━━━━━━━━━━━━━━━━━━━━━━━━━━━━━━\u001b[0m \u001b[32m824.8/824.8 kB\u001b[0m \u001b[31m48.9 MB/s\u001b[0m eta \u001b[36m0:00:00\u001b[0m\n",
            "\u001b[?25hUsing cached nvidia_cublas_cu12-12.1.3.1-py3-none-manylinux1_x86_64.whl (410.6 MB)\n",
            "Using cached nvidia_cuda_cupti_cu12-12.1.105-py3-none-manylinux1_x86_64.whl (14.1 MB)\n",
            "Using cached nvidia_cuda_nvrtc_cu12-12.1.105-py3-none-manylinux1_x86_64.whl (23.7 MB)\n",
            "Using cached nvidia_cuda_runtime_cu12-12.1.105-py3-none-manylinux1_x86_64.whl (823 kB)\n",
            "Using cached nvidia_cudnn_cu12-8.9.2.26-py3-none-manylinux1_x86_64.whl (731.7 MB)\n",
            "Using cached nvidia_cufft_cu12-11.0.2.54-py3-none-manylinux1_x86_64.whl (121.6 MB)\n",
            "Using cached nvidia_curand_cu12-10.3.2.106-py3-none-manylinux1_x86_64.whl (56.5 MB)\n",
            "Using cached nvidia_cusolver_cu12-11.4.5.107-py3-none-manylinux1_x86_64.whl (124.2 MB)\n",
            "Using cached nvidia_cusparse_cu12-12.1.0.106-py3-none-manylinux1_x86_64.whl (196.0 MB)\n",
            "Using cached nvidia_nccl_cu12-2.20.5-py3-none-manylinux2014_x86_64.whl (176.2 MB)\n",
            "Using cached nvidia_nvtx_cu12-12.1.105-py3-none-manylinux1_x86_64.whl (99 kB)\n",
            "Downloading ultralytics_thop-2.0.0-py3-none-any.whl (25 kB)\n",
            "Downloading nvidia_nvjitlink_cu12-12.5.82-py3-none-manylinux2014_x86_64.whl (21.3 MB)\n",
            "\u001b[2K   \u001b[90m━━━━━━━━━━━━━━━━━━━━━━━━━━━━━━━━━━━━━━━━\u001b[0m \u001b[32m21.3/21.3 MB\u001b[0m \u001b[31m81.3 MB/s\u001b[0m eta \u001b[36m0:00:00\u001b[0m\n",
            "\u001b[?25hInstalling collected packages: nvidia-nvtx-cu12, nvidia-nvjitlink-cu12, nvidia-nccl-cu12, nvidia-curand-cu12, nvidia-cufft-cu12, nvidia-cuda-runtime-cu12, nvidia-cuda-nvrtc-cu12, nvidia-cuda-cupti-cu12, nvidia-cublas-cu12, nvidia-cusparse-cu12, nvidia-cudnn-cu12, nvidia-cusolver-cu12, ultralytics-thop, ultralytics\n",
            "Successfully installed nvidia-cublas-cu12-12.1.3.1 nvidia-cuda-cupti-cu12-12.1.105 nvidia-cuda-nvrtc-cu12-12.1.105 nvidia-cuda-runtime-cu12-12.1.105 nvidia-cudnn-cu12-8.9.2.26 nvidia-cufft-cu12-11.0.2.54 nvidia-curand-cu12-10.3.2.106 nvidia-cusolver-cu12-11.4.5.107 nvidia-cusparse-cu12-12.1.0.106 nvidia-nccl-cu12-2.20.5 nvidia-nvjitlink-cu12-12.5.82 nvidia-nvtx-cu12-12.1.105 ultralytics-8.2.64 ultralytics-thop-2.0.0\n"
          ]
        }
      ],
      "source": [
        "!pip install ultralytics opencv-python-headless\n"
      ]
    },
    {
      "cell_type": "code",
      "execution_count": 2,
      "metadata": {
        "colab": {
          "base_uri": "https://localhost:8080/"
        },
        "id": "YlmN64wEhGkX",
        "outputId": "5269de3d-dfe3-4710-e020-a3f5a0486f8e"
      },
      "outputs": [
        {
          "name": "stdout",
          "output_type": "stream",
          "text": [
            "Mounted at /content/drive\n"
          ]
        }
      ],
      "source": [
        "from google.colab import drive\n",
        "drive.mount('/content/drive')\n"
      ]
    },
    {
      "cell_type": "code",
      "execution_count": 3,
      "metadata": {
        "id": "i8j-pCs3hups"
      },
      "outputs": [],
      "source": [
        "dataset_path = '/content/drive/MyDrive/archive_3'\n"
      ]
    },
    {
      "cell_type": "code",
      "execution_count": 4,
      "metadata": {
        "id": "yyWRRpreh-bf"
      },
      "outputs": [],
      "source": [
        "data_yaml_content = f\"\"\"\n",
        "train: {dataset_path}/train/images\n",
        "val: {dataset_path}/valid/images\n",
        "\n",
        "nc: 1  # تعداد کلاس‌ها\n",
        "names: ['drone']  # نام کلاس‌ها\n",
        "\"\"\"\n",
        "\n",
        "with open(f'{dataset_path}/data.yaml', 'w') as file:\n",
        "    file.write(data_yaml_content)\n"
      ]
    },
    {
      "cell_type": "code",
      "execution_count": 5,
      "metadata": {
        "colab": {
          "base_uri": "https://localhost:8080/"
        },
        "id": "dtLr1nhiiF2n",
        "outputId": "9ae7b913-0a93-49bb-b264-a4fed795a17f"
      },
      "outputs": [
        {
          "name": "stdout",
          "output_type": "stream",
          "text": [
            "Downloading https://github.com/ultralytics/assets/releases/download/v8.2.0/yolov8n.pt to 'yolov8n.pt'...\n"
          ]
        },
        {
          "name": "stderr",
          "output_type": "stream",
          "text": [
            "100%|██████████| 6.25M/6.25M [00:00<00:00, 348MB/s]\n"
          ]
        },
        {
          "name": "stdout",
          "output_type": "stream",
          "text": [
            "Ultralytics YOLOv8.2.64 🚀 Python-3.10.12 torch-2.3.1+cu121 CUDA:0 (Tesla T4, 15102MiB)\n",
            "\u001b[34m\u001b[1mengine/trainer: \u001b[0mtask=detect, mode=train, model=yolov8n.pt, data=/content/drive/MyDrive/archive_3/data.yaml, epochs=100, time=None, patience=100, batch=16, imgsz=640, save=True, save_period=-1, cache=False, device=None, workers=8, project=None, name=train, exist_ok=False, pretrained=True, optimizer=auto, verbose=True, seed=0, deterministic=True, single_cls=False, rect=False, cos_lr=False, close_mosaic=10, resume=False, amp=True, fraction=1.0, profile=False, freeze=None, multi_scale=False, overlap_mask=True, mask_ratio=4, dropout=0.0, val=True, split=val, save_json=False, save_hybrid=False, conf=None, iou=0.7, max_det=300, half=False, dnn=False, plots=True, source=None, vid_stride=1, stream_buffer=False, visualize=False, augment=False, agnostic_nms=False, classes=None, retina_masks=False, embed=None, show=False, save_frames=False, save_txt=False, save_conf=False, save_crop=False, show_labels=True, show_conf=True, show_boxes=True, line_width=None, format=torchscript, keras=False, optimize=False, int8=False, dynamic=False, simplify=False, opset=None, workspace=4, nms=False, lr0=0.01, lrf=0.01, momentum=0.937, weight_decay=0.0005, warmup_epochs=3.0, warmup_momentum=0.8, warmup_bias_lr=0.1, box=7.5, cls=0.5, dfl=1.5, pose=12.0, kobj=1.0, label_smoothing=0.0, nbs=64, hsv_h=0.015, hsv_s=0.7, hsv_v=0.4, degrees=0.0, translate=0.1, scale=0.5, shear=0.0, perspective=0.0, flipud=0.0, fliplr=0.5, bgr=0.0, mosaic=1.0, mixup=0.0, copy_paste=0.0, auto_augment=randaugment, erasing=0.4, crop_fraction=1.0, cfg=None, tracker=botsort.yaml, save_dir=runs/detect/train\n",
            "Downloading https://ultralytics.com/assets/Arial.ttf to '/root/.config/Ultralytics/Arial.ttf'...\n"
          ]
        },
        {
          "name": "stderr",
          "output_type": "stream",
          "text": [
            "100%|██████████| 755k/755k [00:00<00:00, 69.3MB/s]\n"
          ]
        },
        {
          "name": "stdout",
          "output_type": "stream",
          "text": [
            "Overriding model.yaml nc=80 with nc=1\n",
            "\n",
            "                   from  n    params  module                                       arguments                     \n",
            "  0                  -1  1       464  ultralytics.nn.modules.conv.Conv             [3, 16, 3, 2]                 \n",
            "  1                  -1  1      4672  ultralytics.nn.modules.conv.Conv             [16, 32, 3, 2]                \n",
            "  2                  -1  1      7360  ultralytics.nn.modules.block.C2f             [32, 32, 1, True]             \n",
            "  3                  -1  1     18560  ultralytics.nn.modules.conv.Conv             [32, 64, 3, 2]                \n",
            "  4                  -1  2     49664  ultralytics.nn.modules.block.C2f             [64, 64, 2, True]             \n",
            "  5                  -1  1     73984  ultralytics.nn.modules.conv.Conv             [64, 128, 3, 2]               \n",
            "  6                  -1  2    197632  ultralytics.nn.modules.block.C2f             [128, 128, 2, True]           \n",
            "  7                  -1  1    295424  ultralytics.nn.modules.conv.Conv             [128, 256, 3, 2]              \n",
            "  8                  -1  1    460288  ultralytics.nn.modules.block.C2f             [256, 256, 1, True]           \n",
            "  9                  -1  1    164608  ultralytics.nn.modules.block.SPPF            [256, 256, 5]                 \n",
            " 10                  -1  1         0  torch.nn.modules.upsampling.Upsample         [None, 2, 'nearest']          \n",
            " 11             [-1, 6]  1         0  ultralytics.nn.modules.conv.Concat           [1]                           \n",
            " 12                  -1  1    148224  ultralytics.nn.modules.block.C2f             [384, 128, 1]                 \n",
            " 13                  -1  1         0  torch.nn.modules.upsampling.Upsample         [None, 2, 'nearest']          \n",
            " 14             [-1, 4]  1         0  ultralytics.nn.modules.conv.Concat           [1]                           \n",
            " 15                  -1  1     37248  ultralytics.nn.modules.block.C2f             [192, 64, 1]                  \n",
            " 16                  -1  1     36992  ultralytics.nn.modules.conv.Conv             [64, 64, 3, 2]                \n",
            " 17            [-1, 12]  1         0  ultralytics.nn.modules.conv.Concat           [1]                           \n",
            " 18                  -1  1    123648  ultralytics.nn.modules.block.C2f             [192, 128, 1]                 \n",
            " 19                  -1  1    147712  ultralytics.nn.modules.conv.Conv             [128, 128, 3, 2]              \n",
            " 20             [-1, 9]  1         0  ultralytics.nn.modules.conv.Concat           [1]                           \n",
            " 21                  -1  1    493056  ultralytics.nn.modules.block.C2f             [384, 256, 1]                 \n",
            " 22        [15, 18, 21]  1    751507  ultralytics.nn.modules.head.Detect           [1, [64, 128, 256]]           \n",
            "Model summary: 225 layers, 3,011,043 parameters, 3,011,027 gradients, 8.2 GFLOPs\n",
            "\n",
            "Transferred 319/355 items from pretrained weights\n",
            "\u001b[34m\u001b[1mTensorBoard: \u001b[0mStart with 'tensorboard --logdir runs/detect/train', view at http://localhost:6006/\n",
            "Freezing layer 'model.22.dfl.conv.weight'\n",
            "\u001b[34m\u001b[1mAMP: \u001b[0mrunning Automatic Mixed Precision (AMP) checks with YOLOv8n...\n",
            "\u001b[34m\u001b[1mAMP: \u001b[0mchecks passed ✅\n"
          ]
        },
        {
          "name": "stderr",
          "output_type": "stream",
          "text": [
            "\u001b[34m\u001b[1mtrain: \u001b[0mScanning /content/drive/MyDrive/archive_3/train/labels... 1012 images, 6 backgrounds, 0 corrupt: 100%|██████████| 1018/1018 [12:52<00:00,  1.32it/s]"
          ]
        },
        {
          "name": "stdout",
          "output_type": "stream",
          "text": [
            "\u001b[34m\u001b[1mtrain: \u001b[0mWARNING ⚠️ /content/drive/MyDrive/archive_3/train/images/pic_722.jpg: corrupt JPEG restored and saved\n"
          ]
        },
        {
          "name": "stderr",
          "output_type": "stream",
          "text": [
            "\n"
          ]
        },
        {
          "name": "stdout",
          "output_type": "stream",
          "text": [
            "\u001b[34m\u001b[1mtrain: \u001b[0mNew cache created: /content/drive/MyDrive/archive_3/train/labels.cache\n",
            "\u001b[34m\u001b[1malbumentations: \u001b[0mBlur(p=0.01, blur_limit=(3, 7)), MedianBlur(p=0.01, blur_limit=(3, 7)), ToGray(p=0.01), CLAHE(p=0.01, clip_limit=(1, 4.0), tile_grid_size=(8, 8))\n"
          ]
        },
        {
          "name": "stderr",
          "output_type": "stream",
          "text": [
            "/usr/lib/python3.10/multiprocessing/popen_fork.py:66: RuntimeWarning: os.fork() was called. os.fork() is incompatible with multithreaded code, and JAX is multithreaded, so this will likely lead to a deadlock.\n",
            "  self.pid = os.fork()\n",
            "\u001b[34m\u001b[1mval: \u001b[0mScanning /content/drive/MyDrive/archive_3/valid/labels... 347 images, 0 backgrounds, 0 corrupt: 100%|██████████| 347/347 [04:21<00:00,  1.33it/s]\n"
          ]
        },
        {
          "name": "stdout",
          "output_type": "stream",
          "text": [
            "\u001b[34m\u001b[1mval: \u001b[0mNew cache created: /content/drive/MyDrive/archive_3/valid/labels.cache\n",
            "Plotting labels to runs/detect/train/labels.jpg... \n",
            "\u001b[34m\u001b[1moptimizer:\u001b[0m 'optimizer=auto' found, ignoring 'lr0=0.01' and 'momentum=0.937' and determining best 'optimizer', 'lr0' and 'momentum' automatically... \n",
            "\u001b[34m\u001b[1moptimizer:\u001b[0m AdamW(lr=0.002, momentum=0.9) with parameter groups 57 weight(decay=0.0), 64 weight(decay=0.0005), 63 bias(decay=0.0)\n",
            "\u001b[34m\u001b[1mTensorBoard: \u001b[0mmodel graph visualization added ✅\n",
            "Image sizes 640 train, 640 val\n",
            "Using 2 dataloader workers\n",
            "Logging results to \u001b[1mruns/detect/train\u001b[0m\n",
            "Starting training for 100 epochs...\n",
            "\n",
            "      Epoch    GPU_mem   box_loss   cls_loss   dfl_loss  Instances       Size\n"
          ]
        },
        {
          "name": "stderr",
          "output_type": "stream",
          "text": [
            "      1/100      2.47G      1.462      2.021      1.636         23        640: 100%|██████████| 64/64 [00:46<00:00,  1.37it/s]\n",
            "                 Class     Images  Instances      Box(P          R      mAP50  mAP50-95): 100%|██████████| 11/11 [00:13<00:00,  1.26s/it]"
          ]
        },
        {
          "name": "stdout",
          "output_type": "stream",
          "text": [
            "                   all        347        369      0.546      0.385      0.446      0.189\n"
          ]
        },
        {
          "name": "stderr",
          "output_type": "stream",
          "text": [
            "\n"
          ]
        },
        {
          "name": "stdout",
          "output_type": "stream",
          "text": [
            "\n",
            "      Epoch    GPU_mem   box_loss   cls_loss   dfl_loss  Instances       Size\n"
          ]
        },
        {
          "name": "stderr",
          "output_type": "stream",
          "text": [
            "      2/100      2.28G      1.418      1.657      1.586         24        640: 100%|██████████| 64/64 [00:38<00:00,  1.65it/s]\n",
            "                 Class     Images  Instances      Box(P          R      mAP50  mAP50-95): 100%|██████████| 11/11 [00:12<00:00,  1.12s/it]\n"
          ]
        },
        {
          "name": "stdout",
          "output_type": "stream",
          "text": [
            "                   all        347        369      0.616      0.575      0.591      0.275\n",
            "\n",
            "      Epoch    GPU_mem   box_loss   cls_loss   dfl_loss  Instances       Size\n"
          ]
        },
        {
          "name": "stderr",
          "output_type": "stream",
          "text": [
            "      3/100      2.25G      1.482      1.613      1.651         25        640: 100%|██████████| 64/64 [00:40<00:00,  1.57it/s]\n",
            "                 Class     Images  Instances      Box(P          R      mAP50  mAP50-95): 100%|██████████| 11/11 [00:07<00:00,  1.40it/s]"
          ]
        },
        {
          "name": "stdout",
          "output_type": "stream",
          "text": [
            "                   all        347        369      0.278      0.263      0.206     0.0673\n"
          ]
        },
        {
          "name": "stderr",
          "output_type": "stream",
          "text": [
            "\n"
          ]
        },
        {
          "name": "stdout",
          "output_type": "stream",
          "text": [
            "\n",
            "      Epoch    GPU_mem   box_loss   cls_loss   dfl_loss  Instances       Size\n"
          ]
        },
        {
          "name": "stderr",
          "output_type": "stream",
          "text": [
            "      4/100      2.27G      1.496      1.457       1.63         26        640: 100%|██████████| 64/64 [00:41<00:00,  1.56it/s]\n",
            "                 Class     Images  Instances      Box(P          R      mAP50  mAP50-95): 100%|██████████| 11/11 [00:12<00:00,  1.10s/it]"
          ]
        },
        {
          "name": "stdout",
          "output_type": "stream",
          "text": [
            "                   all        347        369      0.429      0.369       0.34      0.125\n"
          ]
        },
        {
          "name": "stderr",
          "output_type": "stream",
          "text": [
            "\n"
          ]
        },
        {
          "name": "stdout",
          "output_type": "stream",
          "text": [
            "\n",
            "      Epoch    GPU_mem   box_loss   cls_loss   dfl_loss  Instances       Size\n"
          ]
        },
        {
          "name": "stderr",
          "output_type": "stream",
          "text": [
            "      5/100      2.26G      1.506      1.387      1.637         21        640: 100%|██████████| 64/64 [00:40<00:00,  1.59it/s]\n",
            "                 Class     Images  Instances      Box(P          R      mAP50  mAP50-95): 100%|██████████| 11/11 [00:11<00:00,  1.02s/it]"
          ]
        },
        {
          "name": "stdout",
          "output_type": "stream",
          "text": [
            "                   all        347        369      0.625      0.469      0.435      0.165\n"
          ]
        },
        {
          "name": "stderr",
          "output_type": "stream",
          "text": [
            "\n"
          ]
        },
        {
          "name": "stdout",
          "output_type": "stream",
          "text": [
            "\n",
            "      Epoch    GPU_mem   box_loss   cls_loss   dfl_loss  Instances       Size\n"
          ]
        },
        {
          "name": "stderr",
          "output_type": "stream",
          "text": [
            "      6/100      2.25G      1.467      1.306      1.609         26        640: 100%|██████████| 64/64 [00:40<00:00,  1.58it/s]\n",
            "                 Class     Images  Instances      Box(P          R      mAP50  mAP50-95): 100%|██████████| 11/11 [00:08<00:00,  1.30it/s]"
          ]
        },
        {
          "name": "stdout",
          "output_type": "stream",
          "text": [
            "                   all        347        369      0.585      0.424      0.458      0.156\n"
          ]
        },
        {
          "name": "stderr",
          "output_type": "stream",
          "text": [
            "\n"
          ]
        },
        {
          "name": "stdout",
          "output_type": "stream",
          "text": [
            "\n",
            "      Epoch    GPU_mem   box_loss   cls_loss   dfl_loss  Instances       Size\n"
          ]
        },
        {
          "name": "stderr",
          "output_type": "stream",
          "text": [
            "      7/100      2.25G      1.429      1.267      1.574         31        640: 100%|██████████| 64/64 [00:41<00:00,  1.56it/s]\n",
            "                 Class     Images  Instances      Box(P          R      mAP50  mAP50-95): 100%|██████████| 11/11 [00:11<00:00,  1.06s/it]"
          ]
        },
        {
          "name": "stdout",
          "output_type": "stream",
          "text": [
            "                   all        347        369       0.72      0.705      0.739      0.357\n"
          ]
        },
        {
          "name": "stderr",
          "output_type": "stream",
          "text": [
            "\n"
          ]
        },
        {
          "name": "stdout",
          "output_type": "stream",
          "text": [
            "\n",
            "      Epoch    GPU_mem   box_loss   cls_loss   dfl_loss  Instances       Size\n"
          ]
        },
        {
          "name": "stderr",
          "output_type": "stream",
          "text": [
            "      8/100      2.25G      1.427      1.239      1.559         34        640: 100%|██████████| 64/64 [00:41<00:00,  1.56it/s]\n",
            "                 Class     Images  Instances      Box(P          R      mAP50  mAP50-95): 100%|██████████| 11/11 [00:12<00:00,  1.14s/it]"
          ]
        },
        {
          "name": "stdout",
          "output_type": "stream",
          "text": [
            "                   all        347        369      0.741      0.593      0.655      0.308\n"
          ]
        },
        {
          "name": "stderr",
          "output_type": "stream",
          "text": [
            "\n"
          ]
        },
        {
          "name": "stdout",
          "output_type": "stream",
          "text": [
            "\n",
            "      Epoch    GPU_mem   box_loss   cls_loss   dfl_loss  Instances       Size\n"
          ]
        },
        {
          "name": "stderr",
          "output_type": "stream",
          "text": [
            "      9/100      2.25G      1.377       1.16      1.527         33        640: 100%|██████████| 64/64 [00:40<00:00,  1.58it/s]\n",
            "                 Class     Images  Instances      Box(P          R      mAP50  mAP50-95): 100%|██████████| 11/11 [00:08<00:00,  1.35it/s]"
          ]
        },
        {
          "name": "stdout",
          "output_type": "stream",
          "text": [
            "                   all        347        369       0.72      0.629      0.665       0.33\n"
          ]
        },
        {
          "name": "stderr",
          "output_type": "stream",
          "text": [
            "\n"
          ]
        },
        {
          "name": "stdout",
          "output_type": "stream",
          "text": [
            "\n",
            "      Epoch    GPU_mem   box_loss   cls_loss   dfl_loss  Instances       Size\n"
          ]
        },
        {
          "name": "stderr",
          "output_type": "stream",
          "text": [
            "     10/100      2.25G      1.357      1.108      1.494         25        640: 100%|██████████| 64/64 [00:41<00:00,  1.54it/s]\n",
            "                 Class     Images  Instances      Box(P          R      mAP50  mAP50-95): 100%|██████████| 11/11 [00:12<00:00,  1.17s/it]"
          ]
        },
        {
          "name": "stdout",
          "output_type": "stream",
          "text": [
            "                   all        347        369       0.78      0.661      0.745      0.378\n"
          ]
        },
        {
          "name": "stderr",
          "output_type": "stream",
          "text": [
            "\n"
          ]
        },
        {
          "name": "stdout",
          "output_type": "stream",
          "text": [
            "\n",
            "      Epoch    GPU_mem   box_loss   cls_loss   dfl_loss  Instances       Size\n"
          ]
        },
        {
          "name": "stderr",
          "output_type": "stream",
          "text": [
            "     11/100      2.25G      1.342      1.091      1.495         29        640: 100%|██████████| 64/64 [00:41<00:00,  1.53it/s]\n",
            "                 Class     Images  Instances      Box(P          R      mAP50  mAP50-95): 100%|██████████| 11/11 [00:09<00:00,  1.21it/s]"
          ]
        },
        {
          "name": "stdout",
          "output_type": "stream",
          "text": [
            "                   all        347        369      0.817       0.64       0.78      0.356\n"
          ]
        },
        {
          "name": "stderr",
          "output_type": "stream",
          "text": [
            "\n"
          ]
        },
        {
          "name": "stdout",
          "output_type": "stream",
          "text": [
            "\n",
            "      Epoch    GPU_mem   box_loss   cls_loss   dfl_loss  Instances       Size\n"
          ]
        },
        {
          "name": "stderr",
          "output_type": "stream",
          "text": [
            "     12/100      2.27G      1.343       1.09      1.519         22        640: 100%|██████████| 64/64 [00:42<00:00,  1.49it/s]\n",
            "                 Class     Images  Instances      Box(P          R      mAP50  mAP50-95): 100%|██████████| 11/11 [00:08<00:00,  1.25it/s]"
          ]
        },
        {
          "name": "stdout",
          "output_type": "stream",
          "text": [
            "                   all        347        369      0.792      0.696       0.79      0.419\n"
          ]
        },
        {
          "name": "stderr",
          "output_type": "stream",
          "text": [
            "\n"
          ]
        },
        {
          "name": "stdout",
          "output_type": "stream",
          "text": [
            "\n",
            "      Epoch    GPU_mem   box_loss   cls_loss   dfl_loss  Instances       Size\n"
          ]
        },
        {
          "name": "stderr",
          "output_type": "stream",
          "text": [
            "     13/100      2.25G      1.325      1.049      1.479         21        640: 100%|██████████| 64/64 [00:41<00:00,  1.53it/s]\n",
            "                 Class     Images  Instances      Box(P          R      mAP50  mAP50-95): 100%|██████████| 11/11 [00:12<00:00,  1.14s/it]"
          ]
        },
        {
          "name": "stdout",
          "output_type": "stream",
          "text": [
            "                   all        347        369      0.807      0.621      0.627      0.299\n"
          ]
        },
        {
          "name": "stderr",
          "output_type": "stream",
          "text": [
            "\n"
          ]
        },
        {
          "name": "stdout",
          "output_type": "stream",
          "text": [
            "\n",
            "      Epoch    GPU_mem   box_loss   cls_loss   dfl_loss  Instances       Size\n"
          ]
        },
        {
          "name": "stderr",
          "output_type": "stream",
          "text": [
            "     14/100      2.25G      1.289     0.9913      1.467         34        640: 100%|██████████| 64/64 [00:40<00:00,  1.56it/s]\n",
            "                 Class     Images  Instances      Box(P          R      mAP50  mAP50-95): 100%|██████████| 11/11 [00:08<00:00,  1.24it/s]"
          ]
        },
        {
          "name": "stdout",
          "output_type": "stream",
          "text": [
            "                   all        347        369      0.851      0.783       0.83      0.407\n"
          ]
        },
        {
          "name": "stderr",
          "output_type": "stream",
          "text": [
            "\n"
          ]
        },
        {
          "name": "stdout",
          "output_type": "stream",
          "text": [
            "\n",
            "      Epoch    GPU_mem   box_loss   cls_loss   dfl_loss  Instances       Size\n"
          ]
        },
        {
          "name": "stderr",
          "output_type": "stream",
          "text": [
            "     15/100      2.25G      1.291      1.009       1.45         26        640: 100%|██████████| 64/64 [00:41<00:00,  1.53it/s]\n",
            "                 Class     Images  Instances      Box(P          R      mAP50  mAP50-95): 100%|██████████| 11/11 [00:09<00:00,  1.15it/s]"
          ]
        },
        {
          "name": "stdout",
          "output_type": "stream",
          "text": [
            "                   all        347        369      0.758      0.764      0.793      0.415\n"
          ]
        },
        {
          "name": "stderr",
          "output_type": "stream",
          "text": [
            "\n"
          ]
        },
        {
          "name": "stdout",
          "output_type": "stream",
          "text": [
            "\n",
            "      Epoch    GPU_mem   box_loss   cls_loss   dfl_loss  Instances       Size\n"
          ]
        },
        {
          "name": "stderr",
          "output_type": "stream",
          "text": [
            "     16/100      2.25G      1.292     0.9639      1.465         23        640: 100%|██████████| 64/64 [00:40<00:00,  1.56it/s]\n",
            "                 Class     Images  Instances      Box(P          R      mAP50  mAP50-95): 100%|██████████| 11/11 [00:12<00:00,  1.11s/it]"
          ]
        },
        {
          "name": "stdout",
          "output_type": "stream",
          "text": [
            "                   all        347        369      0.865       0.64      0.752      0.406\n"
          ]
        },
        {
          "name": "stderr",
          "output_type": "stream",
          "text": [
            "\n"
          ]
        },
        {
          "name": "stdout",
          "output_type": "stream",
          "text": [
            "\n",
            "      Epoch    GPU_mem   box_loss   cls_loss   dfl_loss  Instances       Size\n"
          ]
        },
        {
          "name": "stderr",
          "output_type": "stream",
          "text": [
            "     17/100      2.25G      1.285     0.9963      1.464         37        640: 100%|██████████| 64/64 [00:38<00:00,  1.67it/s]\n",
            "                 Class     Images  Instances      Box(P          R      mAP50  mAP50-95): 100%|██████████| 11/11 [00:09<00:00,  1.22it/s]"
          ]
        },
        {
          "name": "stdout",
          "output_type": "stream",
          "text": [
            "                   all        347        369      0.828      0.734      0.784       0.37\n"
          ]
        },
        {
          "name": "stderr",
          "output_type": "stream",
          "text": [
            "\n"
          ]
        },
        {
          "name": "stdout",
          "output_type": "stream",
          "text": [
            "\n",
            "      Epoch    GPU_mem   box_loss   cls_loss   dfl_loss  Instances       Size\n"
          ]
        },
        {
          "name": "stderr",
          "output_type": "stream",
          "text": [
            "     18/100      2.25G      1.273     0.9604      1.434         42        640: 100%|██████████| 64/64 [00:39<00:00,  1.61it/s]\n",
            "                 Class     Images  Instances      Box(P          R      mAP50  mAP50-95): 100%|██████████| 11/11 [00:09<00:00,  1.10it/s]"
          ]
        },
        {
          "name": "stdout",
          "output_type": "stream",
          "text": [
            "                   all        347        369      0.788      0.676      0.745      0.367\n"
          ]
        },
        {
          "name": "stderr",
          "output_type": "stream",
          "text": [
            "\n"
          ]
        },
        {
          "name": "stdout",
          "output_type": "stream",
          "text": [
            "\n",
            "      Epoch    GPU_mem   box_loss   cls_loss   dfl_loss  Instances       Size\n"
          ]
        },
        {
          "name": "stderr",
          "output_type": "stream",
          "text": [
            "     19/100      2.25G      1.229      0.928      1.428         28        640: 100%|██████████| 64/64 [00:40<00:00,  1.57it/s]\n",
            "                 Class     Images  Instances      Box(P          R      mAP50  mAP50-95): 100%|██████████| 11/11 [00:12<00:00,  1.13s/it]"
          ]
        },
        {
          "name": "stdout",
          "output_type": "stream",
          "text": [
            "                   all        347        369      0.789       0.74      0.814      0.437\n"
          ]
        },
        {
          "name": "stderr",
          "output_type": "stream",
          "text": [
            "\n"
          ]
        },
        {
          "name": "stdout",
          "output_type": "stream",
          "text": [
            "\n",
            "      Epoch    GPU_mem   box_loss   cls_loss   dfl_loss  Instances       Size\n"
          ]
        },
        {
          "name": "stderr",
          "output_type": "stream",
          "text": [
            "     20/100      2.25G      1.239     0.9296      1.414         30        640: 100%|██████████| 64/64 [00:40<00:00,  1.59it/s]\n",
            "                 Class     Images  Instances      Box(P          R      mAP50  mAP50-95): 100%|██████████| 11/11 [00:08<00:00,  1.33it/s]"
          ]
        },
        {
          "name": "stdout",
          "output_type": "stream",
          "text": [
            "                   all        347        369      0.823      0.748      0.776      0.428\n"
          ]
        },
        {
          "name": "stderr",
          "output_type": "stream",
          "text": [
            "\n"
          ]
        },
        {
          "name": "stdout",
          "output_type": "stream",
          "text": [
            "\n",
            "      Epoch    GPU_mem   box_loss   cls_loss   dfl_loss  Instances       Size\n"
          ]
        },
        {
          "name": "stderr",
          "output_type": "stream",
          "text": [
            "     21/100      2.25G      1.243     0.9527      1.421         28        640: 100%|██████████| 64/64 [00:40<00:00,  1.59it/s]\n",
            "                 Class     Images  Instances      Box(P          R      mAP50  mAP50-95): 100%|██████████| 11/11 [00:11<00:00,  1.01s/it]"
          ]
        },
        {
          "name": "stdout",
          "output_type": "stream",
          "text": [
            "                   all        347        369      0.808      0.694        0.8      0.409\n"
          ]
        },
        {
          "name": "stderr",
          "output_type": "stream",
          "text": [
            "\n"
          ]
        },
        {
          "name": "stdout",
          "output_type": "stream",
          "text": [
            "\n",
            "      Epoch    GPU_mem   box_loss   cls_loss   dfl_loss  Instances       Size\n"
          ]
        },
        {
          "name": "stderr",
          "output_type": "stream",
          "text": [
            "     22/100      2.25G      1.216     0.8797      1.402         27        640: 100%|██████████| 64/64 [00:40<00:00,  1.59it/s]\n",
            "                 Class     Images  Instances      Box(P          R      mAP50  mAP50-95): 100%|██████████| 11/11 [00:10<00:00,  1.08it/s]"
          ]
        },
        {
          "name": "stdout",
          "output_type": "stream",
          "text": [
            "                   all        347        369      0.871      0.735      0.834       0.45\n"
          ]
        },
        {
          "name": "stderr",
          "output_type": "stream",
          "text": [
            "\n"
          ]
        },
        {
          "name": "stdout",
          "output_type": "stream",
          "text": [
            "\n",
            "      Epoch    GPU_mem   box_loss   cls_loss   dfl_loss  Instances       Size\n"
          ]
        },
        {
          "name": "stderr",
          "output_type": "stream",
          "text": [
            "     23/100      2.29G      1.213     0.9135      1.404         26        640: 100%|██████████| 64/64 [00:40<00:00,  1.59it/s]\n",
            "                 Class     Images  Instances      Box(P          R      mAP50  mAP50-95): 100%|██████████| 11/11 [00:08<00:00,  1.27it/s]"
          ]
        },
        {
          "name": "stdout",
          "output_type": "stream",
          "text": [
            "                   all        347        369      0.788      0.776      0.781      0.433\n"
          ]
        },
        {
          "name": "stderr",
          "output_type": "stream",
          "text": [
            "\n"
          ]
        },
        {
          "name": "stdout",
          "output_type": "stream",
          "text": [
            "\n",
            "      Epoch    GPU_mem   box_loss   cls_loss   dfl_loss  Instances       Size\n"
          ]
        },
        {
          "name": "stderr",
          "output_type": "stream",
          "text": [
            "     24/100      2.25G      1.213     0.8742      1.416         22        640: 100%|██████████| 64/64 [00:39<00:00,  1.61it/s]\n",
            "                 Class     Images  Instances      Box(P          R      mAP50  mAP50-95): 100%|██████████| 11/11 [00:12<00:00,  1.16s/it]"
          ]
        },
        {
          "name": "stdout",
          "output_type": "stream",
          "text": [
            "                   all        347        369      0.818      0.764      0.807      0.435\n"
          ]
        },
        {
          "name": "stderr",
          "output_type": "stream",
          "text": [
            "\n"
          ]
        },
        {
          "name": "stdout",
          "output_type": "stream",
          "text": [
            "\n",
            "      Epoch    GPU_mem   box_loss   cls_loss   dfl_loss  Instances       Size\n"
          ]
        },
        {
          "name": "stderr",
          "output_type": "stream",
          "text": [
            "     25/100      2.25G       1.18     0.8335       1.38         26        640: 100%|██████████| 64/64 [00:40<00:00,  1.58it/s]\n",
            "                 Class     Images  Instances      Box(P          R      mAP50  mAP50-95): 100%|██████████| 11/11 [00:09<00:00,  1.22it/s]"
          ]
        },
        {
          "name": "stdout",
          "output_type": "stream",
          "text": [
            "                   all        347        369      0.851      0.799      0.864      0.495\n"
          ]
        },
        {
          "name": "stderr",
          "output_type": "stream",
          "text": [
            "\n"
          ]
        },
        {
          "name": "stdout",
          "output_type": "stream",
          "text": [
            "\n",
            "      Epoch    GPU_mem   box_loss   cls_loss   dfl_loss  Instances       Size\n"
          ]
        },
        {
          "name": "stderr",
          "output_type": "stream",
          "text": [
            "     26/100      2.25G      1.192     0.8246      1.353         31        640: 100%|██████████| 64/64 [00:40<00:00,  1.58it/s]\n",
            "                 Class     Images  Instances      Box(P          R      mAP50  mAP50-95): 100%|██████████| 11/11 [00:10<00:00,  1.05it/s]"
          ]
        },
        {
          "name": "stdout",
          "output_type": "stream",
          "text": [
            "                   all        347        369      0.859      0.808      0.853      0.479\n"
          ]
        },
        {
          "name": "stderr",
          "output_type": "stream",
          "text": [
            "\n"
          ]
        },
        {
          "name": "stdout",
          "output_type": "stream",
          "text": [
            "\n",
            "      Epoch    GPU_mem   box_loss   cls_loss   dfl_loss  Instances       Size\n"
          ]
        },
        {
          "name": "stderr",
          "output_type": "stream",
          "text": [
            "     27/100      2.25G      1.196     0.8626       1.39         39        640: 100%|██████████| 64/64 [00:39<00:00,  1.60it/s]\n",
            "                 Class     Images  Instances      Box(P          R      mAP50  mAP50-95): 100%|██████████| 11/11 [00:10<00:00,  1.04it/s]"
          ]
        },
        {
          "name": "stdout",
          "output_type": "stream",
          "text": [
            "                   all        347        369      0.915      0.764      0.861      0.428\n"
          ]
        },
        {
          "name": "stderr",
          "output_type": "stream",
          "text": [
            "\n"
          ]
        },
        {
          "name": "stdout",
          "output_type": "stream",
          "text": [
            "\n",
            "      Epoch    GPU_mem   box_loss   cls_loss   dfl_loss  Instances       Size\n"
          ]
        },
        {
          "name": "stderr",
          "output_type": "stream",
          "text": [
            "     28/100      2.25G      1.167     0.8282      1.371         23        640: 100%|██████████| 64/64 [00:39<00:00,  1.64it/s]\n",
            "                 Class     Images  Instances      Box(P          R      mAP50  mAP50-95): 100%|██████████| 11/11 [00:08<00:00,  1.29it/s]"
          ]
        },
        {
          "name": "stdout",
          "output_type": "stream",
          "text": [
            "                   all        347        369      0.885      0.832      0.878      0.478\n"
          ]
        },
        {
          "name": "stderr",
          "output_type": "stream",
          "text": [
            "\n"
          ]
        },
        {
          "name": "stdout",
          "output_type": "stream",
          "text": [
            "\n",
            "      Epoch    GPU_mem   box_loss   cls_loss   dfl_loss  Instances       Size\n"
          ]
        },
        {
          "name": "stderr",
          "output_type": "stream",
          "text": [
            "     29/100      2.25G      1.154     0.7905      1.349         27        640: 100%|██████████| 64/64 [00:40<00:00,  1.56it/s]\n",
            "                 Class     Images  Instances      Box(P          R      mAP50  mAP50-95): 100%|██████████| 11/11 [00:12<00:00,  1.15s/it]"
          ]
        },
        {
          "name": "stdout",
          "output_type": "stream",
          "text": [
            "                   all        347        369      0.872      0.851      0.883      0.498\n"
          ]
        },
        {
          "name": "stderr",
          "output_type": "stream",
          "text": [
            "\n"
          ]
        },
        {
          "name": "stdout",
          "output_type": "stream",
          "text": [
            "\n",
            "      Epoch    GPU_mem   box_loss   cls_loss   dfl_loss  Instances       Size\n"
          ]
        },
        {
          "name": "stderr",
          "output_type": "stream",
          "text": [
            "     30/100      2.25G      1.164     0.7965      1.351         27        640: 100%|██████████| 64/64 [00:39<00:00,  1.60it/s]\n",
            "                 Class     Images  Instances      Box(P          R      mAP50  mAP50-95): 100%|██████████| 11/11 [00:07<00:00,  1.40it/s]"
          ]
        },
        {
          "name": "stdout",
          "output_type": "stream",
          "text": [
            "                   all        347        369      0.865      0.859      0.904      0.564\n"
          ]
        },
        {
          "name": "stderr",
          "output_type": "stream",
          "text": [
            "\n"
          ]
        },
        {
          "name": "stdout",
          "output_type": "stream",
          "text": [
            "\n",
            "      Epoch    GPU_mem   box_loss   cls_loss   dfl_loss  Instances       Size\n"
          ]
        },
        {
          "name": "stderr",
          "output_type": "stream",
          "text": [
            "     31/100      2.27G      1.158     0.8022      1.359         25        640: 100%|██████████| 64/64 [00:40<00:00,  1.58it/s]\n",
            "                 Class     Images  Instances      Box(P          R      mAP50  mAP50-95): 100%|██████████| 11/11 [00:12<00:00,  1.10s/it]"
          ]
        },
        {
          "name": "stdout",
          "output_type": "stream",
          "text": [
            "                   all        347        369      0.778      0.813      0.818      0.457\n"
          ]
        },
        {
          "name": "stderr",
          "output_type": "stream",
          "text": [
            "\n"
          ]
        },
        {
          "name": "stdout",
          "output_type": "stream",
          "text": [
            "\n",
            "      Epoch    GPU_mem   box_loss   cls_loss   dfl_loss  Instances       Size\n"
          ]
        },
        {
          "name": "stderr",
          "output_type": "stream",
          "text": [
            "     32/100      2.25G      1.155     0.8059      1.363         26        640: 100%|██████████| 64/64 [00:40<00:00,  1.58it/s]\n",
            "                 Class     Images  Instances      Box(P          R      mAP50  mAP50-95): 100%|██████████| 11/11 [00:09<00:00,  1.21it/s]"
          ]
        },
        {
          "name": "stdout",
          "output_type": "stream",
          "text": [
            "                   all        347        369      0.878      0.816      0.898      0.476\n"
          ]
        },
        {
          "name": "stderr",
          "output_type": "stream",
          "text": [
            "\n"
          ]
        },
        {
          "name": "stdout",
          "output_type": "stream",
          "text": [
            "\n",
            "      Epoch    GPU_mem   box_loss   cls_loss   dfl_loss  Instances       Size\n"
          ]
        },
        {
          "name": "stderr",
          "output_type": "stream",
          "text": [
            "     33/100      2.25G      1.127     0.7743      1.336         26        640: 100%|██████████| 64/64 [00:39<00:00,  1.61it/s]\n",
            "                 Class     Images  Instances      Box(P          R      mAP50  mAP50-95): 100%|██████████| 11/11 [00:09<00:00,  1.11it/s]"
          ]
        },
        {
          "name": "stdout",
          "output_type": "stream",
          "text": [
            "                   all        347        369      0.888      0.793       0.87       0.48\n"
          ]
        },
        {
          "name": "stderr",
          "output_type": "stream",
          "text": [
            "\n"
          ]
        },
        {
          "name": "stdout",
          "output_type": "stream",
          "text": [
            "\n",
            "      Epoch    GPU_mem   box_loss   cls_loss   dfl_loss  Instances       Size\n"
          ]
        },
        {
          "name": "stderr",
          "output_type": "stream",
          "text": [
            "     34/100      2.25G      1.146     0.7799      1.354         23        640: 100%|██████████| 64/64 [00:39<00:00,  1.60it/s]\n",
            "                 Class     Images  Instances      Box(P          R      mAP50  mAP50-95): 100%|██████████| 11/11 [00:12<00:00,  1.09s/it]"
          ]
        },
        {
          "name": "stdout",
          "output_type": "stream",
          "text": [
            "                   all        347        369      0.894      0.822      0.868      0.488\n"
          ]
        },
        {
          "name": "stderr",
          "output_type": "stream",
          "text": [
            "\n"
          ]
        },
        {
          "name": "stdout",
          "output_type": "stream",
          "text": [
            "\n",
            "      Epoch    GPU_mem   box_loss   cls_loss   dfl_loss  Instances       Size\n"
          ]
        },
        {
          "name": "stderr",
          "output_type": "stream",
          "text": [
            "     35/100      2.25G      1.125     0.7646      1.337         21        640: 100%|██████████| 64/64 [00:39<00:00,  1.62it/s]\n",
            "                 Class     Images  Instances      Box(P          R      mAP50  mAP50-95): 100%|██████████| 11/11 [00:07<00:00,  1.42it/s]"
          ]
        },
        {
          "name": "stdout",
          "output_type": "stream",
          "text": [
            "                   all        347        369       0.85      0.781      0.813      0.452\n"
          ]
        },
        {
          "name": "stderr",
          "output_type": "stream",
          "text": [
            "\n"
          ]
        },
        {
          "name": "stdout",
          "output_type": "stream",
          "text": [
            "\n",
            "      Epoch    GPU_mem   box_loss   cls_loss   dfl_loss  Instances       Size\n"
          ]
        },
        {
          "name": "stderr",
          "output_type": "stream",
          "text": [
            "     36/100      2.25G      1.105     0.7419      1.317         20        640: 100%|██████████| 64/64 [00:39<00:00,  1.61it/s]\n",
            "                 Class     Images  Instances      Box(P          R      mAP50  mAP50-95): 100%|██████████| 11/11 [00:11<00:00,  1.00s/it]"
          ]
        },
        {
          "name": "stdout",
          "output_type": "stream",
          "text": [
            "                   all        347        369      0.919      0.856      0.913      0.539\n"
          ]
        },
        {
          "name": "stderr",
          "output_type": "stream",
          "text": [
            "\n"
          ]
        },
        {
          "name": "stdout",
          "output_type": "stream",
          "text": [
            "\n",
            "      Epoch    GPU_mem   box_loss   cls_loss   dfl_loss  Instances       Size\n"
          ]
        },
        {
          "name": "stderr",
          "output_type": "stream",
          "text": [
            "     37/100      2.27G      1.106     0.7588      1.325         31        640: 100%|██████████| 64/64 [00:39<00:00,  1.62it/s]\n",
            "                 Class     Images  Instances      Box(P          R      mAP50  mAP50-95): 100%|██████████| 11/11 [00:09<00:00,  1.11it/s]"
          ]
        },
        {
          "name": "stdout",
          "output_type": "stream",
          "text": [
            "                   all        347        369      0.898       0.87       0.92      0.503\n"
          ]
        },
        {
          "name": "stderr",
          "output_type": "stream",
          "text": [
            "\n"
          ]
        },
        {
          "name": "stdout",
          "output_type": "stream",
          "text": [
            "\n",
            "      Epoch    GPU_mem   box_loss   cls_loss   dfl_loss  Instances       Size\n"
          ]
        },
        {
          "name": "stderr",
          "output_type": "stream",
          "text": [
            "     38/100      2.29G      1.095     0.7431      1.327         24        640: 100%|██████████| 64/64 [00:38<00:00,  1.64it/s]\n",
            "                 Class     Images  Instances      Box(P          R      mAP50  mAP50-95): 100%|██████████| 11/11 [00:09<00:00,  1.17it/s]"
          ]
        },
        {
          "name": "stdout",
          "output_type": "stream",
          "text": [
            "                   all        347        369       0.85      0.867      0.877       0.51\n"
          ]
        },
        {
          "name": "stderr",
          "output_type": "stream",
          "text": [
            "\n"
          ]
        },
        {
          "name": "stdout",
          "output_type": "stream",
          "text": [
            "\n",
            "      Epoch    GPU_mem   box_loss   cls_loss   dfl_loss  Instances       Size\n"
          ]
        },
        {
          "name": "stderr",
          "output_type": "stream",
          "text": [
            "     39/100      2.25G      1.087     0.7279      1.323         24        640: 100%|██████████| 64/64 [00:39<00:00,  1.62it/s]\n",
            "                 Class     Images  Instances      Box(P          R      mAP50  mAP50-95): 100%|██████████| 11/11 [00:11<00:00,  1.01s/it]"
          ]
        },
        {
          "name": "stdout",
          "output_type": "stream",
          "text": [
            "                   all        347        369      0.783      0.791      0.797      0.431\n"
          ]
        },
        {
          "name": "stderr",
          "output_type": "stream",
          "text": [
            "\n"
          ]
        },
        {
          "name": "stdout",
          "output_type": "stream",
          "text": [
            "\n",
            "      Epoch    GPU_mem   box_loss   cls_loss   dfl_loss  Instances       Size\n"
          ]
        },
        {
          "name": "stderr",
          "output_type": "stream",
          "text": [
            "     40/100      2.25G       1.08     0.7348      1.307         26        640: 100%|██████████| 64/64 [00:39<00:00,  1.63it/s]\n",
            "                 Class     Images  Instances      Box(P          R      mAP50  mAP50-95): 100%|██████████| 11/11 [00:08<00:00,  1.28it/s]"
          ]
        },
        {
          "name": "stdout",
          "output_type": "stream",
          "text": [
            "                   all        347        369      0.896      0.854      0.905      0.527\n"
          ]
        },
        {
          "name": "stderr",
          "output_type": "stream",
          "text": [
            "\n"
          ]
        },
        {
          "name": "stdout",
          "output_type": "stream",
          "text": [
            "\n",
            "      Epoch    GPU_mem   box_loss   cls_loss   dfl_loss  Instances       Size\n"
          ]
        },
        {
          "name": "stderr",
          "output_type": "stream",
          "text": [
            "     41/100      2.29G      1.076      0.728      1.316         23        640: 100%|██████████| 64/64 [00:39<00:00,  1.63it/s]\n",
            "                 Class     Images  Instances      Box(P          R      mAP50  mAP50-95): 100%|██████████| 11/11 [00:11<00:00,  1.07s/it]"
          ]
        },
        {
          "name": "stdout",
          "output_type": "stream",
          "text": [
            "                   all        347        369      0.857      0.843      0.879      0.499\n"
          ]
        },
        {
          "name": "stderr",
          "output_type": "stream",
          "text": [
            "\n"
          ]
        },
        {
          "name": "stdout",
          "output_type": "stream",
          "text": [
            "\n",
            "      Epoch    GPU_mem   box_loss   cls_loss   dfl_loss  Instances       Size\n"
          ]
        },
        {
          "name": "stderr",
          "output_type": "stream",
          "text": [
            "     42/100      2.25G      1.083     0.7111      1.318         28        640: 100%|██████████| 64/64 [00:39<00:00,  1.60it/s]\n",
            "                 Class     Images  Instances      Box(P          R      mAP50  mAP50-95): 100%|██████████| 11/11 [00:07<00:00,  1.48it/s]"
          ]
        },
        {
          "name": "stdout",
          "output_type": "stream",
          "text": [
            "                   all        347        369      0.901      0.856      0.902      0.512\n"
          ]
        },
        {
          "name": "stderr",
          "output_type": "stream",
          "text": [
            "\n"
          ]
        },
        {
          "name": "stdout",
          "output_type": "stream",
          "text": [
            "\n",
            "      Epoch    GPU_mem   box_loss   cls_loss   dfl_loss  Instances       Size\n"
          ]
        },
        {
          "name": "stderr",
          "output_type": "stream",
          "text": [
            "     43/100      2.16G      1.049     0.7046      1.284         31        640: 100%|██████████| 64/64 [00:39<00:00,  1.64it/s]\n",
            "                 Class     Images  Instances      Box(P          R      mAP50  mAP50-95): 100%|██████████| 11/11 [00:11<00:00,  1.09s/it]"
          ]
        },
        {
          "name": "stdout",
          "output_type": "stream",
          "text": [
            "                   all        347        369      0.902        0.8      0.891      0.497\n"
          ]
        },
        {
          "name": "stderr",
          "output_type": "stream",
          "text": [
            "\n"
          ]
        },
        {
          "name": "stdout",
          "output_type": "stream",
          "text": [
            "\n",
            "      Epoch    GPU_mem   box_loss   cls_loss   dfl_loss  Instances       Size\n"
          ]
        },
        {
          "name": "stderr",
          "output_type": "stream",
          "text": [
            "     44/100      2.25G      1.045     0.6784      1.277         28        640: 100%|██████████| 64/64 [00:38<00:00,  1.66it/s]\n",
            "                 Class     Images  Instances      Box(P          R      mAP50  mAP50-95): 100%|██████████| 11/11 [00:08<00:00,  1.36it/s]"
          ]
        },
        {
          "name": "stdout",
          "output_type": "stream",
          "text": [
            "                   all        347        369      0.844      0.873      0.898      0.498\n"
          ]
        },
        {
          "name": "stderr",
          "output_type": "stream",
          "text": [
            "\n"
          ]
        },
        {
          "name": "stdout",
          "output_type": "stream",
          "text": [
            "\n",
            "      Epoch    GPU_mem   box_loss   cls_loss   dfl_loss  Instances       Size\n"
          ]
        },
        {
          "name": "stderr",
          "output_type": "stream",
          "text": [
            "     45/100      2.25G      1.049     0.6831      1.291         22        640: 100%|██████████| 64/64 [00:39<00:00,  1.61it/s]\n",
            "                 Class     Images  Instances      Box(P          R      mAP50  mAP50-95): 100%|██████████| 11/11 [00:10<00:00,  1.04it/s]"
          ]
        },
        {
          "name": "stdout",
          "output_type": "stream",
          "text": [
            "                   all        347        369      0.866      0.821      0.861      0.506\n"
          ]
        },
        {
          "name": "stderr",
          "output_type": "stream",
          "text": [
            "\n"
          ]
        },
        {
          "name": "stdout",
          "output_type": "stream",
          "text": [
            "\n",
            "      Epoch    GPU_mem   box_loss   cls_loss   dfl_loss  Instances       Size\n"
          ]
        },
        {
          "name": "stderr",
          "output_type": "stream",
          "text": [
            "     46/100      2.27G      1.035     0.6646       1.27         26        640: 100%|██████████| 64/64 [00:39<00:00,  1.63it/s]\n",
            "                 Class     Images  Instances      Box(P          R      mAP50  mAP50-95): 100%|██████████| 11/11 [00:09<00:00,  1.15it/s]"
          ]
        },
        {
          "name": "stdout",
          "output_type": "stream",
          "text": [
            "                   all        347        369      0.923      0.859      0.935      0.506\n"
          ]
        },
        {
          "name": "stderr",
          "output_type": "stream",
          "text": [
            "\n"
          ]
        },
        {
          "name": "stdout",
          "output_type": "stream",
          "text": [
            "\n",
            "      Epoch    GPU_mem   box_loss   cls_loss   dfl_loss  Instances       Size\n"
          ]
        },
        {
          "name": "stderr",
          "output_type": "stream",
          "text": [
            "     47/100      2.27G      1.045     0.6831      1.279         28        640: 100%|██████████| 64/64 [00:38<00:00,  1.65it/s]\n",
            "                 Class     Images  Instances      Box(P          R      mAP50  mAP50-95): 100%|██████████| 11/11 [00:08<00:00,  1.27it/s]"
          ]
        },
        {
          "name": "stdout",
          "output_type": "stream",
          "text": [
            "                   all        347        369      0.882      0.875      0.897      0.512\n"
          ]
        },
        {
          "name": "stderr",
          "output_type": "stream",
          "text": [
            "\n"
          ]
        },
        {
          "name": "stdout",
          "output_type": "stream",
          "text": [
            "\n",
            "      Epoch    GPU_mem   box_loss   cls_loss   dfl_loss  Instances       Size\n"
          ]
        },
        {
          "name": "stderr",
          "output_type": "stream",
          "text": [
            "     48/100      2.25G      1.027     0.6689      1.277         25        640: 100%|██████████| 64/64 [00:38<00:00,  1.66it/s]\n",
            "                 Class     Images  Instances      Box(P          R      mAP50  mAP50-95): 100%|██████████| 11/11 [00:11<00:00,  1.07s/it]"
          ]
        },
        {
          "name": "stdout",
          "output_type": "stream",
          "text": [
            "                   all        347        369      0.912      0.872      0.916      0.518\n"
          ]
        },
        {
          "name": "stderr",
          "output_type": "stream",
          "text": [
            "\n"
          ]
        },
        {
          "name": "stdout",
          "output_type": "stream",
          "text": [
            "\n",
            "      Epoch    GPU_mem   box_loss   cls_loss   dfl_loss  Instances       Size\n"
          ]
        },
        {
          "name": "stderr",
          "output_type": "stream",
          "text": [
            "     49/100      2.25G      1.052     0.6709      1.291         29        640: 100%|██████████| 64/64 [00:39<00:00,  1.64it/s]\n",
            "                 Class     Images  Instances      Box(P          R      mAP50  mAP50-95): 100%|██████████| 11/11 [00:07<00:00,  1.44it/s]"
          ]
        },
        {
          "name": "stdout",
          "output_type": "stream",
          "text": [
            "                   all        347        369      0.895      0.856        0.9      0.504\n"
          ]
        },
        {
          "name": "stderr",
          "output_type": "stream",
          "text": [
            "\n"
          ]
        },
        {
          "name": "stdout",
          "output_type": "stream",
          "text": [
            "\n",
            "      Epoch    GPU_mem   box_loss   cls_loss   dfl_loss  Instances       Size\n"
          ]
        },
        {
          "name": "stderr",
          "output_type": "stream",
          "text": [
            "     50/100      2.25G      1.033      0.659      1.268         36        640: 100%|██████████| 64/64 [00:39<00:00,  1.63it/s]\n",
            "                 Class     Images  Instances      Box(P          R      mAP50  mAP50-95): 100%|██████████| 11/11 [00:12<00:00,  1.11s/it]"
          ]
        },
        {
          "name": "stdout",
          "output_type": "stream",
          "text": [
            "                   all        347        369      0.883      0.856      0.899      0.508\n"
          ]
        },
        {
          "name": "stderr",
          "output_type": "stream",
          "text": [
            "\n"
          ]
        },
        {
          "name": "stdout",
          "output_type": "stream",
          "text": [
            "\n",
            "      Epoch    GPU_mem   box_loss   cls_loss   dfl_loss  Instances       Size\n"
          ]
        },
        {
          "name": "stderr",
          "output_type": "stream",
          "text": [
            "     51/100      2.25G       1.01     0.6451      1.263         28        640: 100%|██████████| 64/64 [00:40<00:00,  1.59it/s]\n",
            "                 Class     Images  Instances      Box(P          R      mAP50  mAP50-95): 100%|██████████| 11/11 [00:08<00:00,  1.35it/s]"
          ]
        },
        {
          "name": "stdout",
          "output_type": "stream",
          "text": [
            "                   all        347        369      0.881      0.844      0.903      0.533\n"
          ]
        },
        {
          "name": "stderr",
          "output_type": "stream",
          "text": [
            "\n"
          ]
        },
        {
          "name": "stdout",
          "output_type": "stream",
          "text": [
            "\n",
            "      Epoch    GPU_mem   box_loss   cls_loss   dfl_loss  Instances       Size\n"
          ]
        },
        {
          "name": "stderr",
          "output_type": "stream",
          "text": [
            "     52/100      2.25G      1.017      0.655      1.261         35        640: 100%|██████████| 64/64 [00:39<00:00,  1.62it/s]\n",
            "                 Class     Images  Instances      Box(P          R      mAP50  mAP50-95): 100%|██████████| 11/11 [00:09<00:00,  1.18it/s]"
          ]
        },
        {
          "name": "stdout",
          "output_type": "stream",
          "text": [
            "                   all        347        369      0.907      0.847        0.9      0.505\n"
          ]
        },
        {
          "name": "stderr",
          "output_type": "stream",
          "text": [
            "\n"
          ]
        },
        {
          "name": "stdout",
          "output_type": "stream",
          "text": [
            "\n",
            "      Epoch    GPU_mem   box_loss   cls_loss   dfl_loss  Instances       Size\n"
          ]
        },
        {
          "name": "stderr",
          "output_type": "stream",
          "text": [
            "     53/100      2.25G      1.013     0.6288      1.259         25        640: 100%|██████████| 64/64 [00:39<00:00,  1.61it/s]\n",
            "                 Class     Images  Instances      Box(P          R      mAP50  mAP50-95): 100%|██████████| 11/11 [00:11<00:00,  1.08s/it]"
          ]
        },
        {
          "name": "stdout",
          "output_type": "stream",
          "text": [
            "                   all        347        369      0.911      0.883      0.935      0.548\n"
          ]
        },
        {
          "name": "stderr",
          "output_type": "stream",
          "text": [
            "\n"
          ]
        },
        {
          "name": "stdout",
          "output_type": "stream",
          "text": [
            "\n",
            "      Epoch    GPU_mem   box_loss   cls_loss   dfl_loss  Instances       Size\n"
          ]
        },
        {
          "name": "stderr",
          "output_type": "stream",
          "text": [
            "     54/100      2.25G     0.9892     0.6265      1.247         29        640: 100%|██████████| 64/64 [00:40<00:00,  1.59it/s]\n",
            "                 Class     Images  Instances      Box(P          R      mAP50  mAP50-95): 100%|██████████| 11/11 [00:07<00:00,  1.46it/s]"
          ]
        },
        {
          "name": "stdout",
          "output_type": "stream",
          "text": [
            "                   all        347        369      0.929      0.846      0.911      0.502\n"
          ]
        },
        {
          "name": "stderr",
          "output_type": "stream",
          "text": [
            "\n"
          ]
        },
        {
          "name": "stdout",
          "output_type": "stream",
          "text": [
            "\n",
            "      Epoch    GPU_mem   box_loss   cls_loss   dfl_loss  Instances       Size\n"
          ]
        },
        {
          "name": "stderr",
          "output_type": "stream",
          "text": [
            "     55/100      2.27G     0.9911     0.6336      1.247         31        640: 100%|██████████| 64/64 [00:39<00:00,  1.61it/s]\n",
            "                 Class     Images  Instances      Box(P          R      mAP50  mAP50-95): 100%|██████████| 11/11 [00:11<00:00,  1.06s/it]"
          ]
        },
        {
          "name": "stdout",
          "output_type": "stream",
          "text": [
            "                   all        347        369       0.89      0.853      0.908       0.53\n"
          ]
        },
        {
          "name": "stderr",
          "output_type": "stream",
          "text": [
            "\n"
          ]
        },
        {
          "name": "stdout",
          "output_type": "stream",
          "text": [
            "\n",
            "      Epoch    GPU_mem   box_loss   cls_loss   dfl_loss  Instances       Size\n"
          ]
        },
        {
          "name": "stderr",
          "output_type": "stream",
          "text": [
            "     56/100      2.25G     0.9958     0.6317      1.264         27        640: 100%|██████████| 64/64 [00:39<00:00,  1.61it/s]\n",
            "                 Class     Images  Instances      Box(P          R      mAP50  mAP50-95): 100%|██████████| 11/11 [00:07<00:00,  1.40it/s]"
          ]
        },
        {
          "name": "stdout",
          "output_type": "stream",
          "text": [
            "                   all        347        369      0.912      0.842      0.922      0.498\n"
          ]
        },
        {
          "name": "stderr",
          "output_type": "stream",
          "text": [
            "\n"
          ]
        },
        {
          "name": "stdout",
          "output_type": "stream",
          "text": [
            "\n",
            "      Epoch    GPU_mem   box_loss   cls_loss   dfl_loss  Instances       Size\n"
          ]
        },
        {
          "name": "stderr",
          "output_type": "stream",
          "text": [
            "     57/100      2.25G     0.9702     0.6221      1.237         31        640: 100%|██████████| 64/64 [00:39<00:00,  1.61it/s]\n",
            "                 Class     Images  Instances      Box(P          R      mAP50  mAP50-95): 100%|██████████| 11/11 [00:11<00:00,  1.00s/it]"
          ]
        },
        {
          "name": "stdout",
          "output_type": "stream",
          "text": [
            "                   all        347        369      0.885      0.853      0.875      0.521\n"
          ]
        },
        {
          "name": "stderr",
          "output_type": "stream",
          "text": [
            "\n"
          ]
        },
        {
          "name": "stdout",
          "output_type": "stream",
          "text": [
            "\n",
            "      Epoch    GPU_mem   box_loss   cls_loss   dfl_loss  Instances       Size\n"
          ]
        },
        {
          "name": "stderr",
          "output_type": "stream",
          "text": [
            "     58/100      2.25G     0.9732     0.6214      1.242         25        640: 100%|██████████| 64/64 [00:39<00:00,  1.60it/s]\n",
            "                 Class     Images  Instances      Box(P          R      mAP50  mAP50-95): 100%|██████████| 11/11 [00:08<00:00,  1.28it/s]"
          ]
        },
        {
          "name": "stdout",
          "output_type": "stream",
          "text": [
            "                   all        347        369      0.919      0.905      0.928      0.529\n"
          ]
        },
        {
          "name": "stderr",
          "output_type": "stream",
          "text": [
            "\n"
          ]
        },
        {
          "name": "stdout",
          "output_type": "stream",
          "text": [
            "\n",
            "      Epoch    GPU_mem   box_loss   cls_loss   dfl_loss  Instances       Size\n"
          ]
        },
        {
          "name": "stderr",
          "output_type": "stream",
          "text": [
            "     59/100      2.25G     0.9718     0.6107      1.237         25        640: 100%|██████████| 64/64 [00:39<00:00,  1.63it/s]\n",
            "                 Class     Images  Instances      Box(P          R      mAP50  mAP50-95): 100%|██████████| 11/11 [00:11<00:00,  1.05s/it]"
          ]
        },
        {
          "name": "stdout",
          "output_type": "stream",
          "text": [
            "                   all        347        369        0.9       0.84      0.896      0.517\n"
          ]
        },
        {
          "name": "stderr",
          "output_type": "stream",
          "text": [
            "\n"
          ]
        },
        {
          "name": "stdout",
          "output_type": "stream",
          "text": [
            "\n",
            "      Epoch    GPU_mem   box_loss   cls_loss   dfl_loss  Instances       Size\n"
          ]
        },
        {
          "name": "stderr",
          "output_type": "stream",
          "text": [
            "     60/100      2.25G     0.9607     0.6048      1.228         24        640: 100%|██████████| 64/64 [00:38<00:00,  1.67it/s]\n",
            "                 Class     Images  Instances      Box(P          R      mAP50  mAP50-95): 100%|██████████| 11/11 [00:09<00:00,  1.12it/s]"
          ]
        },
        {
          "name": "stdout",
          "output_type": "stream",
          "text": [
            "                   all        347        369      0.863      0.848      0.877      0.509\n"
          ]
        },
        {
          "name": "stderr",
          "output_type": "stream",
          "text": [
            "\n"
          ]
        },
        {
          "name": "stdout",
          "output_type": "stream",
          "text": [
            "\n",
            "      Epoch    GPU_mem   box_loss   cls_loss   dfl_loss  Instances       Size\n"
          ]
        },
        {
          "name": "stderr",
          "output_type": "stream",
          "text": [
            "     61/100      2.25G     0.9622     0.5976      1.229         25        640: 100%|██████████| 64/64 [00:39<00:00,  1.63it/s]\n",
            "                 Class     Images  Instances      Box(P          R      mAP50  mAP50-95): 100%|██████████| 11/11 [00:09<00:00,  1.22it/s]"
          ]
        },
        {
          "name": "stdout",
          "output_type": "stream",
          "text": [
            "                   all        347        369      0.898      0.882      0.919      0.502\n"
          ]
        },
        {
          "name": "stderr",
          "output_type": "stream",
          "text": [
            "\n"
          ]
        },
        {
          "name": "stdout",
          "output_type": "stream",
          "text": [
            "\n",
            "      Epoch    GPU_mem   box_loss   cls_loss   dfl_loss  Instances       Size\n"
          ]
        },
        {
          "name": "stderr",
          "output_type": "stream",
          "text": [
            "     62/100      2.25G     0.9358     0.5936      1.215         27        640: 100%|██████████| 64/64 [00:38<00:00,  1.65it/s]\n",
            "                 Class     Images  Instances      Box(P          R      mAP50  mAP50-95): 100%|██████████| 11/11 [00:11<00:00,  1.09s/it]"
          ]
        },
        {
          "name": "stdout",
          "output_type": "stream",
          "text": [
            "                   all        347        369      0.877      0.832      0.903      0.513\n"
          ]
        },
        {
          "name": "stderr",
          "output_type": "stream",
          "text": [
            "\n"
          ]
        },
        {
          "name": "stdout",
          "output_type": "stream",
          "text": [
            "\n",
            "      Epoch    GPU_mem   box_loss   cls_loss   dfl_loss  Instances       Size\n"
          ]
        },
        {
          "name": "stderr",
          "output_type": "stream",
          "text": [
            "     63/100      2.25G     0.9459     0.5865      1.217         31        640: 100%|██████████| 64/64 [00:39<00:00,  1.62it/s]\n",
            "                 Class     Images  Instances      Box(P          R      mAP50  mAP50-95): 100%|██████████| 11/11 [00:07<00:00,  1.44it/s]"
          ]
        },
        {
          "name": "stdout",
          "output_type": "stream",
          "text": [
            "                   all        347        369      0.876       0.84      0.872      0.489\n"
          ]
        },
        {
          "name": "stderr",
          "output_type": "stream",
          "text": [
            "\n"
          ]
        },
        {
          "name": "stdout",
          "output_type": "stream",
          "text": [
            "\n",
            "      Epoch    GPU_mem   box_loss   cls_loss   dfl_loss  Instances       Size\n"
          ]
        },
        {
          "name": "stderr",
          "output_type": "stream",
          "text": [
            "     64/100      2.29G     0.9484     0.5797      1.224         28        640: 100%|██████████| 64/64 [00:40<00:00,  1.59it/s]\n",
            "                 Class     Images  Instances      Box(P          R      mAP50  mAP50-95): 100%|██████████| 11/11 [00:11<00:00,  1.06s/it]"
          ]
        },
        {
          "name": "stdout",
          "output_type": "stream",
          "text": [
            "                   all        347        369      0.928      0.875      0.928      0.547\n"
          ]
        },
        {
          "name": "stderr",
          "output_type": "stream",
          "text": [
            "\n"
          ]
        },
        {
          "name": "stdout",
          "output_type": "stream",
          "text": [
            "\n",
            "      Epoch    GPU_mem   box_loss   cls_loss   dfl_loss  Instances       Size\n"
          ]
        },
        {
          "name": "stderr",
          "output_type": "stream",
          "text": [
            "     65/100      2.25G     0.9223     0.5798       1.22         21        640: 100%|██████████| 64/64 [00:39<00:00,  1.63it/s]\n",
            "                 Class     Images  Instances      Box(P          R      mAP50  mAP50-95): 100%|██████████| 11/11 [00:08<00:00,  1.26it/s]"
          ]
        },
        {
          "name": "stdout",
          "output_type": "stream",
          "text": [
            "                   all        347        369      0.897      0.854      0.907      0.525\n"
          ]
        },
        {
          "name": "stderr",
          "output_type": "stream",
          "text": [
            "\n"
          ]
        },
        {
          "name": "stdout",
          "output_type": "stream",
          "text": [
            "\n",
            "      Epoch    GPU_mem   box_loss   cls_loss   dfl_loss  Instances       Size\n"
          ]
        },
        {
          "name": "stderr",
          "output_type": "stream",
          "text": [
            "     66/100      2.25G     0.9295     0.5607      1.204         37        640: 100%|██████████| 64/64 [00:39<00:00,  1.64it/s]\n",
            "                 Class     Images  Instances      Box(P          R      mAP50  mAP50-95): 100%|██████████| 11/11 [00:11<00:00,  1.02s/it]"
          ]
        },
        {
          "name": "stdout",
          "output_type": "stream",
          "text": [
            "                   all        347        369      0.906      0.881      0.927      0.557\n"
          ]
        },
        {
          "name": "stderr",
          "output_type": "stream",
          "text": [
            "\n"
          ]
        },
        {
          "name": "stdout",
          "output_type": "stream",
          "text": [
            "\n",
            "      Epoch    GPU_mem   box_loss   cls_loss   dfl_loss  Instances       Size\n"
          ]
        },
        {
          "name": "stderr",
          "output_type": "stream",
          "text": [
            "     67/100      2.25G     0.9069     0.5682      1.201         25        640: 100%|██████████| 64/64 [00:39<00:00,  1.63it/s]\n",
            "                 Class     Images  Instances      Box(P          R      mAP50  mAP50-95): 100%|██████████| 11/11 [00:10<00:00,  1.08it/s]"
          ]
        },
        {
          "name": "stdout",
          "output_type": "stream",
          "text": [
            "                   all        347        369      0.888      0.854      0.912      0.529\n"
          ]
        },
        {
          "name": "stderr",
          "output_type": "stream",
          "text": [
            "\n"
          ]
        },
        {
          "name": "stdout",
          "output_type": "stream",
          "text": [
            "\n",
            "      Epoch    GPU_mem   box_loss   cls_loss   dfl_loss  Instances       Size\n"
          ]
        },
        {
          "name": "stderr",
          "output_type": "stream",
          "text": [
            "     68/100      2.25G      0.907     0.5608      1.194         31        640: 100%|██████████| 64/64 [00:39<00:00,  1.60it/s]\n",
            "                 Class     Images  Instances      Box(P          R      mAP50  mAP50-95): 100%|██████████| 11/11 [00:07<00:00,  1.39it/s]"
          ]
        },
        {
          "name": "stdout",
          "output_type": "stream",
          "text": [
            "                   all        347        369      0.875      0.881      0.903      0.532\n"
          ]
        },
        {
          "name": "stderr",
          "output_type": "stream",
          "text": [
            "\n"
          ]
        },
        {
          "name": "stdout",
          "output_type": "stream",
          "text": [
            "\n",
            "      Epoch    GPU_mem   box_loss   cls_loss   dfl_loss  Instances       Size\n"
          ]
        },
        {
          "name": "stderr",
          "output_type": "stream",
          "text": [
            "     69/100      2.27G     0.9145     0.5773      1.213         26        640: 100%|██████████| 64/64 [00:38<00:00,  1.66it/s]\n",
            "                 Class     Images  Instances      Box(P          R      mAP50  mAP50-95): 100%|██████████| 11/11 [00:11<00:00,  1.08s/it]"
          ]
        },
        {
          "name": "stdout",
          "output_type": "stream",
          "text": [
            "                   all        347        369      0.909      0.856      0.888      0.512\n"
          ]
        },
        {
          "name": "stderr",
          "output_type": "stream",
          "text": [
            "\n"
          ]
        },
        {
          "name": "stdout",
          "output_type": "stream",
          "text": [
            "\n",
            "      Epoch    GPU_mem   box_loss   cls_loss   dfl_loss  Instances       Size\n"
          ]
        },
        {
          "name": "stderr",
          "output_type": "stream",
          "text": [
            "     70/100       2.3G      0.888     0.5548      1.183         27        640: 100%|██████████| 64/64 [00:39<00:00,  1.63it/s]\n",
            "                 Class     Images  Instances      Box(P          R      mAP50  mAP50-95): 100%|██████████| 11/11 [00:07<00:00,  1.45it/s]"
          ]
        },
        {
          "name": "stdout",
          "output_type": "stream",
          "text": [
            "                   all        347        369      0.914      0.861       0.92      0.547\n"
          ]
        },
        {
          "name": "stderr",
          "output_type": "stream",
          "text": [
            "\n"
          ]
        },
        {
          "name": "stdout",
          "output_type": "stream",
          "text": [
            "\n",
            "      Epoch    GPU_mem   box_loss   cls_loss   dfl_loss  Instances       Size\n"
          ]
        },
        {
          "name": "stderr",
          "output_type": "stream",
          "text": [
            "     71/100      2.25G     0.8871     0.5489      1.195         23        640: 100%|██████████| 64/64 [00:37<00:00,  1.69it/s]\n",
            "                 Class     Images  Instances      Box(P          R      mAP50  mAP50-95): 100%|██████████| 11/11 [00:11<00:00,  1.04s/it]"
          ]
        },
        {
          "name": "stdout",
          "output_type": "stream",
          "text": [
            "                   all        347        369      0.953      0.908       0.95      0.543\n"
          ]
        },
        {
          "name": "stderr",
          "output_type": "stream",
          "text": [
            "\n"
          ]
        },
        {
          "name": "stdout",
          "output_type": "stream",
          "text": [
            "\n",
            "      Epoch    GPU_mem   box_loss   cls_loss   dfl_loss  Instances       Size\n"
          ]
        },
        {
          "name": "stderr",
          "output_type": "stream",
          "text": [
            "     72/100      2.25G     0.9048     0.5524      1.188         28        640: 100%|██████████| 64/64 [00:40<00:00,  1.60it/s]\n",
            "                 Class     Images  Instances      Box(P          R      mAP50  mAP50-95): 100%|██████████| 11/11 [00:08<00:00,  1.30it/s]"
          ]
        },
        {
          "name": "stdout",
          "output_type": "stream",
          "text": [
            "                   all        347        369      0.908      0.897      0.932      0.534\n"
          ]
        },
        {
          "name": "stderr",
          "output_type": "stream",
          "text": [
            "\n"
          ]
        },
        {
          "name": "stdout",
          "output_type": "stream",
          "text": [
            "\n",
            "      Epoch    GPU_mem   box_loss   cls_loss   dfl_loss  Instances       Size\n"
          ]
        },
        {
          "name": "stderr",
          "output_type": "stream",
          "text": [
            "     73/100      2.25G     0.8841     0.5427      1.185         26        640: 100%|██████████| 64/64 [00:38<00:00,  1.68it/s]\n",
            "                 Class     Images  Instances      Box(P          R      mAP50  mAP50-95): 100%|██████████| 11/11 [00:11<00:00,  1.03s/it]"
          ]
        },
        {
          "name": "stdout",
          "output_type": "stream",
          "text": [
            "                   all        347        369      0.944      0.863      0.925       0.54\n"
          ]
        },
        {
          "name": "stderr",
          "output_type": "stream",
          "text": [
            "\n"
          ]
        },
        {
          "name": "stdout",
          "output_type": "stream",
          "text": [
            "\n",
            "      Epoch    GPU_mem   box_loss   cls_loss   dfl_loss  Instances       Size\n"
          ]
        },
        {
          "name": "stderr",
          "output_type": "stream",
          "text": [
            "     74/100      2.25G      0.883      0.534      1.187         25        640: 100%|██████████| 64/64 [00:38<00:00,  1.65it/s]\n",
            "                 Class     Images  Instances      Box(P          R      mAP50  mAP50-95): 100%|██████████| 11/11 [00:08<00:00,  1.33it/s]"
          ]
        },
        {
          "name": "stdout",
          "output_type": "stream",
          "text": [
            "                   all        347        369      0.942      0.873      0.939      0.554\n"
          ]
        },
        {
          "name": "stderr",
          "output_type": "stream",
          "text": [
            "\n"
          ]
        },
        {
          "name": "stdout",
          "output_type": "stream",
          "text": [
            "\n",
            "      Epoch    GPU_mem   box_loss   cls_loss   dfl_loss  Instances       Size\n"
          ]
        },
        {
          "name": "stderr",
          "output_type": "stream",
          "text": [
            "     75/100      2.29G     0.8674     0.5406      1.176         31        640: 100%|██████████| 64/64 [00:39<00:00,  1.61it/s]\n",
            "                 Class     Images  Instances      Box(P          R      mAP50  mAP50-95): 100%|██████████| 11/11 [00:10<00:00,  1.10it/s]"
          ]
        },
        {
          "name": "stdout",
          "output_type": "stream",
          "text": [
            "                   all        347        369      0.917      0.867      0.937      0.558\n"
          ]
        },
        {
          "name": "stderr",
          "output_type": "stream",
          "text": [
            "\n"
          ]
        },
        {
          "name": "stdout",
          "output_type": "stream",
          "text": [
            "\n",
            "      Epoch    GPU_mem   box_loss   cls_loss   dfl_loss  Instances       Size\n"
          ]
        },
        {
          "name": "stderr",
          "output_type": "stream",
          "text": [
            "     76/100      2.25G     0.8967     0.5364      1.191         29        640: 100%|██████████| 64/64 [00:39<00:00,  1.64it/s]\n",
            "                 Class     Images  Instances      Box(P          R      mAP50  mAP50-95): 100%|██████████| 11/11 [00:09<00:00,  1.20it/s]"
          ]
        },
        {
          "name": "stdout",
          "output_type": "stream",
          "text": [
            "                   all        347        369      0.884      0.881      0.925       0.55\n"
          ]
        },
        {
          "name": "stderr",
          "output_type": "stream",
          "text": [
            "\n"
          ]
        },
        {
          "name": "stdout",
          "output_type": "stream",
          "text": [
            "\n",
            "      Epoch    GPU_mem   box_loss   cls_loss   dfl_loss  Instances       Size\n"
          ]
        },
        {
          "name": "stderr",
          "output_type": "stream",
          "text": [
            "     77/100      2.25G     0.8826     0.5311      1.186         31        640: 100%|██████████| 64/64 [00:38<00:00,  1.65it/s]\n",
            "                 Class     Images  Instances      Box(P          R      mAP50  mAP50-95): 100%|██████████| 11/11 [00:09<00:00,  1.17it/s]"
          ]
        },
        {
          "name": "stdout",
          "output_type": "stream",
          "text": [
            "                   all        347        369      0.911      0.921      0.942      0.557\n"
          ]
        },
        {
          "name": "stderr",
          "output_type": "stream",
          "text": [
            "\n"
          ]
        },
        {
          "name": "stdout",
          "output_type": "stream",
          "text": [
            "\n",
            "      Epoch    GPU_mem   box_loss   cls_loss   dfl_loss  Instances       Size\n"
          ]
        },
        {
          "name": "stderr",
          "output_type": "stream",
          "text": [
            "     78/100      2.27G     0.8633     0.5255      1.169         20        640: 100%|██████████| 64/64 [00:40<00:00,  1.58it/s]\n",
            "                 Class     Images  Instances      Box(P          R      mAP50  mAP50-95): 100%|██████████| 11/11 [00:10<00:00,  1.06it/s]"
          ]
        },
        {
          "name": "stdout",
          "output_type": "stream",
          "text": [
            "                   all        347        369      0.879      0.888      0.922      0.525\n"
          ]
        },
        {
          "name": "stderr",
          "output_type": "stream",
          "text": [
            "\n"
          ]
        },
        {
          "name": "stdout",
          "output_type": "stream",
          "text": [
            "\n",
            "      Epoch    GPU_mem   box_loss   cls_loss   dfl_loss  Instances       Size\n"
          ]
        },
        {
          "name": "stderr",
          "output_type": "stream",
          "text": [
            "     79/100      2.25G       0.87     0.5313      1.184         30        640: 100%|██████████| 64/64 [00:38<00:00,  1.65it/s]\n",
            "                 Class     Images  Instances      Box(P          R      mAP50  mAP50-95): 100%|██████████| 11/11 [00:07<00:00,  1.44it/s]"
          ]
        },
        {
          "name": "stdout",
          "output_type": "stream",
          "text": [
            "                   all        347        369      0.902      0.897      0.931      0.525\n"
          ]
        },
        {
          "name": "stderr",
          "output_type": "stream",
          "text": [
            "\n"
          ]
        },
        {
          "name": "stdout",
          "output_type": "stream",
          "text": [
            "\n",
            "      Epoch    GPU_mem   box_loss   cls_loss   dfl_loss  Instances       Size\n"
          ]
        },
        {
          "name": "stderr",
          "output_type": "stream",
          "text": [
            "     80/100      2.25G     0.8623     0.5224      1.179         29        640: 100%|██████████| 64/64 [00:38<00:00,  1.66it/s]\n",
            "                 Class     Images  Instances      Box(P          R      mAP50  mAP50-95): 100%|██████████| 11/11 [00:11<00:00,  1.06s/it]"
          ]
        },
        {
          "name": "stdout",
          "output_type": "stream",
          "text": [
            "                   all        347        369      0.914      0.863      0.918      0.539\n"
          ]
        },
        {
          "name": "stderr",
          "output_type": "stream",
          "text": [
            "\n"
          ]
        },
        {
          "name": "stdout",
          "output_type": "stream",
          "text": [
            "\n",
            "      Epoch    GPU_mem   box_loss   cls_loss   dfl_loss  Instances       Size\n"
          ]
        },
        {
          "name": "stderr",
          "output_type": "stream",
          "text": [
            "     81/100      2.25G     0.8556     0.5237      1.178         25        640: 100%|██████████| 64/64 [00:39<00:00,  1.60it/s]\n",
            "                 Class     Images  Instances      Box(P          R      mAP50  mAP50-95): 100%|██████████| 11/11 [00:08<00:00,  1.37it/s]"
          ]
        },
        {
          "name": "stdout",
          "output_type": "stream",
          "text": [
            "                   all        347        369      0.906      0.859      0.896      0.531\n"
          ]
        },
        {
          "name": "stderr",
          "output_type": "stream",
          "text": [
            "\n"
          ]
        },
        {
          "name": "stdout",
          "output_type": "stream",
          "text": [
            "\n",
            "      Epoch    GPU_mem   box_loss   cls_loss   dfl_loss  Instances       Size\n"
          ]
        },
        {
          "name": "stderr",
          "output_type": "stream",
          "text": [
            "     82/100      2.25G     0.8346     0.5126      1.156         24        640: 100%|██████████| 64/64 [00:41<00:00,  1.54it/s]\n",
            "                 Class     Images  Instances      Box(P          R      mAP50  mAP50-95): 100%|██████████| 11/11 [00:10<00:00,  1.01it/s]"
          ]
        },
        {
          "name": "stdout",
          "output_type": "stream",
          "text": [
            "                   all        347        369       0.92      0.886      0.938      0.565\n"
          ]
        },
        {
          "name": "stderr",
          "output_type": "stream",
          "text": [
            "\n"
          ]
        },
        {
          "name": "stdout",
          "output_type": "stream",
          "text": [
            "\n",
            "      Epoch    GPU_mem   box_loss   cls_loss   dfl_loss  Instances       Size\n"
          ]
        },
        {
          "name": "stderr",
          "output_type": "stream",
          "text": [
            "     83/100      2.27G     0.8497     0.5119      1.165         37        640: 100%|██████████| 64/64 [00:40<00:00,  1.59it/s]\n",
            "                 Class     Images  Instances      Box(P          R      mAP50  mAP50-95): 100%|██████████| 11/11 [00:09<00:00,  1.14it/s]"
          ]
        },
        {
          "name": "stdout",
          "output_type": "stream",
          "text": [
            "                   all        347        369      0.915      0.881      0.921      0.545\n"
          ]
        },
        {
          "name": "stderr",
          "output_type": "stream",
          "text": [
            "\n"
          ]
        },
        {
          "name": "stdout",
          "output_type": "stream",
          "text": [
            "\n",
            "      Epoch    GPU_mem   box_loss   cls_loss   dfl_loss  Instances       Size\n"
          ]
        },
        {
          "name": "stderr",
          "output_type": "stream",
          "text": [
            "     84/100      2.25G     0.8168     0.4955      1.147         27        640: 100%|██████████| 64/64 [00:38<00:00,  1.65it/s]\n",
            "                 Class     Images  Instances      Box(P          R      mAP50  mAP50-95): 100%|██████████| 11/11 [00:09<00:00,  1.19it/s]"
          ]
        },
        {
          "name": "stdout",
          "output_type": "stream",
          "text": [
            "                   all        347        369      0.919      0.867      0.921      0.543\n"
          ]
        },
        {
          "name": "stderr",
          "output_type": "stream",
          "text": [
            "\n"
          ]
        },
        {
          "name": "stdout",
          "output_type": "stream",
          "text": [
            "\n",
            "      Epoch    GPU_mem   box_loss   cls_loss   dfl_loss  Instances       Size\n"
          ]
        },
        {
          "name": "stderr",
          "output_type": "stream",
          "text": [
            "     85/100      2.25G     0.8365     0.5092      1.161         21        640: 100%|██████████| 64/64 [00:40<00:00,  1.60it/s]\n",
            "                 Class     Images  Instances      Box(P          R      mAP50  mAP50-95): 100%|██████████| 11/11 [00:12<00:00,  1.14s/it]"
          ]
        },
        {
          "name": "stdout",
          "output_type": "stream",
          "text": [
            "                   all        347        369      0.908      0.913      0.945      0.543\n"
          ]
        },
        {
          "name": "stderr",
          "output_type": "stream",
          "text": [
            "\n"
          ]
        },
        {
          "name": "stdout",
          "output_type": "stream",
          "text": [
            "\n",
            "      Epoch    GPU_mem   box_loss   cls_loss   dfl_loss  Instances       Size\n"
          ]
        },
        {
          "name": "stderr",
          "output_type": "stream",
          "text": [
            "     86/100      2.29G     0.8185     0.4871      1.157         18        640: 100%|██████████| 64/64 [00:40<00:00,  1.57it/s]\n",
            "                 Class     Images  Instances      Box(P          R      mAP50  mAP50-95): 100%|██████████| 11/11 [00:07<00:00,  1.45it/s]"
          ]
        },
        {
          "name": "stdout",
          "output_type": "stream",
          "text": [
            "                   all        347        369      0.892      0.895      0.932      0.549\n"
          ]
        },
        {
          "name": "stderr",
          "output_type": "stream",
          "text": [
            "\n"
          ]
        },
        {
          "name": "stdout",
          "output_type": "stream",
          "text": [
            "\n",
            "      Epoch    GPU_mem   box_loss   cls_loss   dfl_loss  Instances       Size\n"
          ]
        },
        {
          "name": "stderr",
          "output_type": "stream",
          "text": [
            "     87/100      2.25G     0.8018     0.4831      1.141         21        640: 100%|██████████| 64/64 [00:39<00:00,  1.60it/s]\n",
            "                 Class     Images  Instances      Box(P          R      mAP50  mAP50-95): 100%|██████████| 11/11 [00:10<00:00,  1.04it/s]"
          ]
        },
        {
          "name": "stdout",
          "output_type": "stream",
          "text": [
            "                   all        347        369       0.93      0.883      0.941      0.554\n"
          ]
        },
        {
          "name": "stderr",
          "output_type": "stream",
          "text": [
            "\n"
          ]
        },
        {
          "name": "stdout",
          "output_type": "stream",
          "text": [
            "\n",
            "      Epoch    GPU_mem   box_loss   cls_loss   dfl_loss  Instances       Size\n"
          ]
        },
        {
          "name": "stderr",
          "output_type": "stream",
          "text": [
            "     88/100      2.25G     0.8001     0.4841       1.13         23        640: 100%|██████████| 64/64 [00:39<00:00,  1.61it/s]\n",
            "                 Class     Images  Instances      Box(P          R      mAP50  mAP50-95): 100%|██████████| 11/11 [00:10<00:00,  1.03it/s]"
          ]
        },
        {
          "name": "stdout",
          "output_type": "stream",
          "text": [
            "                   all        347        369      0.941      0.872      0.934      0.558\n"
          ]
        },
        {
          "name": "stderr",
          "output_type": "stream",
          "text": [
            "\n"
          ]
        },
        {
          "name": "stdout",
          "output_type": "stream",
          "text": [
            "\n",
            "      Epoch    GPU_mem   box_loss   cls_loss   dfl_loss  Instances       Size\n"
          ]
        },
        {
          "name": "stderr",
          "output_type": "stream",
          "text": [
            "     89/100      2.27G     0.8087     0.4873      1.146         28        640: 100%|██████████| 64/64 [00:39<00:00,  1.60it/s]\n",
            "                 Class     Images  Instances      Box(P          R      mAP50  mAP50-95): 100%|██████████| 11/11 [00:08<00:00,  1.30it/s]"
          ]
        },
        {
          "name": "stdout",
          "output_type": "stream",
          "text": [
            "                   all        347        369      0.919      0.883      0.939       0.56\n"
          ]
        },
        {
          "name": "stderr",
          "output_type": "stream",
          "text": [
            "\n"
          ]
        },
        {
          "name": "stdout",
          "output_type": "stream",
          "text": [
            "\n",
            "      Epoch    GPU_mem   box_loss   cls_loss   dfl_loss  Instances       Size\n"
          ]
        },
        {
          "name": "stderr",
          "output_type": "stream",
          "text": [
            "     90/100      2.25G      0.784      0.471      1.125         21        640: 100%|██████████| 64/64 [00:39<00:00,  1.60it/s]\n",
            "                 Class     Images  Instances      Box(P          R      mAP50  mAP50-95): 100%|██████████| 11/11 [00:12<00:00,  1.12s/it]"
          ]
        },
        {
          "name": "stdout",
          "output_type": "stream",
          "text": [
            "                   all        347        369      0.946      0.873      0.933      0.546\n"
          ]
        },
        {
          "name": "stderr",
          "output_type": "stream",
          "text": [
            "\n"
          ]
        },
        {
          "name": "stdout",
          "output_type": "stream",
          "text": [
            "Closing dataloader mosaic\n",
            "\u001b[34m\u001b[1malbumentations: \u001b[0mBlur(p=0.01, blur_limit=(3, 7)), MedianBlur(p=0.01, blur_limit=(3, 7)), ToGray(p=0.01), CLAHE(p=0.01, clip_limit=(1, 4.0), tile_grid_size=(8, 8))\n"
          ]
        },
        {
          "name": "stderr",
          "output_type": "stream",
          "text": [
            "/usr/lib/python3.10/multiprocessing/popen_fork.py:66: RuntimeWarning: os.fork() was called. os.fork() is incompatible with multithreaded code, and JAX is multithreaded, so this will likely lead to a deadlock.\n",
            "  self.pid = os.fork()\n"
          ]
        },
        {
          "name": "stdout",
          "output_type": "stream",
          "text": [
            "\n",
            "      Epoch    GPU_mem   box_loss   cls_loss   dfl_loss  Instances       Size\n"
          ]
        },
        {
          "name": "stderr",
          "output_type": "stream",
          "text": [
            "     91/100      2.25G     0.6706     0.3835      1.093          9        640: 100%|██████████| 64/64 [00:44<00:00,  1.45it/s]\n",
            "                 Class     Images  Instances      Box(P          R      mAP50  mAP50-95): 100%|██████████| 11/11 [00:10<00:00,  1.05it/s]"
          ]
        },
        {
          "name": "stdout",
          "output_type": "stream",
          "text": [
            "                   all        347        369      0.882      0.889      0.915      0.525\n"
          ]
        },
        {
          "name": "stderr",
          "output_type": "stream",
          "text": [
            "\n"
          ]
        },
        {
          "name": "stdout",
          "output_type": "stream",
          "text": [
            "\n",
            "      Epoch    GPU_mem   box_loss   cls_loss   dfl_loss  Instances       Size\n"
          ]
        },
        {
          "name": "stderr",
          "output_type": "stream",
          "text": [
            "     92/100      2.25G     0.6659     0.3654      1.102         10        640: 100%|██████████| 64/64 [00:40<00:00,  1.58it/s]\n",
            "                 Class     Images  Instances      Box(P          R      mAP50  mAP50-95): 100%|██████████| 11/11 [00:09<00:00,  1.16it/s]"
          ]
        },
        {
          "name": "stdout",
          "output_type": "stream",
          "text": [
            "                   all        347        369       0.91      0.883      0.932       0.55\n"
          ]
        },
        {
          "name": "stderr",
          "output_type": "stream",
          "text": [
            "\n"
          ]
        },
        {
          "name": "stdout",
          "output_type": "stream",
          "text": [
            "\n",
            "      Epoch    GPU_mem   box_loss   cls_loss   dfl_loss  Instances       Size\n"
          ]
        },
        {
          "name": "stderr",
          "output_type": "stream",
          "text": [
            "     93/100      2.25G     0.6303     0.3515      1.083         10        640: 100%|██████████| 64/64 [00:38<00:00,  1.65it/s]\n",
            "                 Class     Images  Instances      Box(P          R      mAP50  mAP50-95): 100%|██████████| 11/11 [00:12<00:00,  1.12s/it]"
          ]
        },
        {
          "name": "stdout",
          "output_type": "stream",
          "text": [
            "                   all        347        369      0.905      0.878      0.935      0.547\n"
          ]
        },
        {
          "name": "stderr",
          "output_type": "stream",
          "text": [
            "\n"
          ]
        },
        {
          "name": "stdout",
          "output_type": "stream",
          "text": [
            "\n",
            "      Epoch    GPU_mem   box_loss   cls_loss   dfl_loss  Instances       Size\n"
          ]
        },
        {
          "name": "stderr",
          "output_type": "stream",
          "text": [
            "     94/100      2.26G     0.6223     0.3413       1.07         12        640: 100%|██████████| 64/64 [00:39<00:00,  1.61it/s]\n",
            "                 Class     Images  Instances      Box(P          R      mAP50  mAP50-95): 100%|██████████| 11/11 [00:07<00:00,  1.38it/s]"
          ]
        },
        {
          "name": "stdout",
          "output_type": "stream",
          "text": [
            "                   all        347        369      0.937      0.878      0.944      0.556\n"
          ]
        },
        {
          "name": "stderr",
          "output_type": "stream",
          "text": [
            "\n"
          ]
        },
        {
          "name": "stdout",
          "output_type": "stream",
          "text": [
            "\n",
            "      Epoch    GPU_mem   box_loss   cls_loss   dfl_loss  Instances       Size\n"
          ]
        },
        {
          "name": "stderr",
          "output_type": "stream",
          "text": [
            "     95/100      2.25G     0.6106     0.3381      1.064         11        640: 100%|██████████| 64/64 [00:40<00:00,  1.56it/s]\n",
            "                 Class     Images  Instances      Box(P          R      mAP50  mAP50-95): 100%|██████████| 11/11 [00:11<00:00,  1.02s/it]"
          ]
        },
        {
          "name": "stdout",
          "output_type": "stream",
          "text": [
            "                   all        347        369      0.941      0.894      0.953      0.563\n"
          ]
        },
        {
          "name": "stderr",
          "output_type": "stream",
          "text": [
            "\n"
          ]
        },
        {
          "name": "stdout",
          "output_type": "stream",
          "text": [
            "\n",
            "      Epoch    GPU_mem   box_loss   cls_loss   dfl_loss  Instances       Size\n"
          ]
        },
        {
          "name": "stderr",
          "output_type": "stream",
          "text": [
            "     96/100      2.25G     0.6119     0.3402      1.071         10        640: 100%|██████████| 64/64 [00:40<00:00,  1.57it/s]\n",
            "                 Class     Images  Instances      Box(P          R      mAP50  mAP50-95): 100%|██████████| 11/11 [00:08<00:00,  1.28it/s]"
          ]
        },
        {
          "name": "stdout",
          "output_type": "stream",
          "text": [
            "                   all        347        369      0.922      0.886      0.948      0.555\n"
          ]
        },
        {
          "name": "stderr",
          "output_type": "stream",
          "text": [
            "\n"
          ]
        },
        {
          "name": "stdout",
          "output_type": "stream",
          "text": [
            "\n",
            "      Epoch    GPU_mem   box_loss   cls_loss   dfl_loss  Instances       Size\n"
          ]
        },
        {
          "name": "stderr",
          "output_type": "stream",
          "text": [
            "     97/100      2.25G      0.604     0.3356      1.055         10        640: 100%|██████████| 64/64 [00:39<00:00,  1.62it/s]\n",
            "                 Class     Images  Instances      Box(P          R      mAP50  mAP50-95): 100%|██████████| 11/11 [00:10<00:00,  1.09it/s]"
          ]
        },
        {
          "name": "stdout",
          "output_type": "stream",
          "text": [
            "                   all        347        369      0.937       0.87      0.945      0.555\n"
          ]
        },
        {
          "name": "stderr",
          "output_type": "stream",
          "text": [
            "\n"
          ]
        },
        {
          "name": "stdout",
          "output_type": "stream",
          "text": [
            "\n",
            "      Epoch    GPU_mem   box_loss   cls_loss   dfl_loss  Instances       Size\n"
          ]
        },
        {
          "name": "stderr",
          "output_type": "stream",
          "text": [
            "     98/100      2.25G     0.5845     0.3328      1.045         10        640: 100%|██████████| 64/64 [00:39<00:00,  1.61it/s]\n",
            "                 Class     Images  Instances      Box(P          R      mAP50  mAP50-95): 100%|██████████| 11/11 [00:11<00:00,  1.08s/it]"
          ]
        },
        {
          "name": "stdout",
          "output_type": "stream",
          "text": [
            "                   all        347        369      0.939      0.867      0.945      0.566\n"
          ]
        },
        {
          "name": "stderr",
          "output_type": "stream",
          "text": [
            "\n"
          ]
        },
        {
          "name": "stdout",
          "output_type": "stream",
          "text": [
            "\n",
            "      Epoch    GPU_mem   box_loss   cls_loss   dfl_loss  Instances       Size\n"
          ]
        },
        {
          "name": "stderr",
          "output_type": "stream",
          "text": [
            "     99/100      2.25G     0.5916     0.3298      1.055         10        640: 100%|██████████| 64/64 [00:39<00:00,  1.62it/s]\n",
            "                 Class     Images  Instances      Box(P          R      mAP50  mAP50-95): 100%|██████████| 11/11 [00:08<00:00,  1.31it/s]"
          ]
        },
        {
          "name": "stdout",
          "output_type": "stream",
          "text": [
            "                   all        347        369      0.936      0.869      0.939      0.557\n"
          ]
        },
        {
          "name": "stderr",
          "output_type": "stream",
          "text": [
            "\n"
          ]
        },
        {
          "name": "stdout",
          "output_type": "stream",
          "text": [
            "\n",
            "      Epoch    GPU_mem   box_loss   cls_loss   dfl_loss  Instances       Size\n"
          ]
        },
        {
          "name": "stderr",
          "output_type": "stream",
          "text": [
            "    100/100      2.26G     0.5739     0.3252      1.033         12        640: 100%|██████████| 64/64 [00:39<00:00,  1.60it/s]\n",
            "                 Class     Images  Instances      Box(P          R      mAP50  mAP50-95): 100%|██████████| 11/11 [00:11<00:00,  1.05s/it]"
          ]
        },
        {
          "name": "stdout",
          "output_type": "stream",
          "text": [
            "                   all        347        369      0.944      0.867      0.938      0.557\n"
          ]
        },
        {
          "name": "stderr",
          "output_type": "stream",
          "text": [
            "\n"
          ]
        },
        {
          "name": "stdout",
          "output_type": "stream",
          "text": [
            "\n",
            "100 epochs completed in 1.436 hours.\n",
            "Optimizer stripped from runs/detect/train/weights/last.pt, 6.3MB\n",
            "Optimizer stripped from runs/detect/train/weights/best.pt, 6.3MB\n",
            "\n",
            "Validating runs/detect/train/weights/best.pt...\n",
            "Ultralytics YOLOv8.2.64 🚀 Python-3.10.12 torch-2.3.1+cu121 CUDA:0 (Tesla T4, 15102MiB)\n",
            "Model summary (fused): 168 layers, 3,005,843 parameters, 0 gradients, 8.1 GFLOPs\n"
          ]
        },
        {
          "name": "stderr",
          "output_type": "stream",
          "text": [
            "                 Class     Images  Instances      Box(P          R      mAP50  mAP50-95): 100%|██████████| 11/11 [00:08<00:00,  1.26it/s]\n"
          ]
        },
        {
          "name": "stdout",
          "output_type": "stream",
          "text": [
            "                   all        347        369      0.939      0.867      0.945      0.565\n",
            "Speed: 0.2ms preprocess, 2.2ms inference, 0.0ms loss, 2.6ms postprocess per image\n",
            "Results saved to \u001b[1mruns/detect/train\u001b[0m\n"
          ]
        },
        {
          "data": {
            "text/plain": [
              "ultralytics.utils.metrics.DetMetrics object with attributes:\n",
              "\n",
              "ap_class_index: array([0])\n",
              "box: ultralytics.utils.metrics.Metric object\n",
              "confusion_matrix: <ultralytics.utils.metrics.ConfusionMatrix object at 0x7ba5dcd48dc0>\n",
              "curves: ['Precision-Recall(B)', 'F1-Confidence(B)', 'Precision-Confidence(B)', 'Recall-Confidence(B)']\n",
              "curves_results: [[array([          0,    0.001001,    0.002002,    0.003003,    0.004004,    0.005005,    0.006006,    0.007007,    0.008008,    0.009009,     0.01001,    0.011011,    0.012012,    0.013013,    0.014014,    0.015015,    0.016016,    0.017017,    0.018018,    0.019019,     0.02002,    0.021021,    0.022022,    0.023023,\n",
              "          0.024024,    0.025025,    0.026026,    0.027027,    0.028028,    0.029029,     0.03003,    0.031031,    0.032032,    0.033033,    0.034034,    0.035035,    0.036036,    0.037037,    0.038038,    0.039039,     0.04004,    0.041041,    0.042042,    0.043043,    0.044044,    0.045045,    0.046046,    0.047047,\n",
              "          0.048048,    0.049049,     0.05005,    0.051051,    0.052052,    0.053053,    0.054054,    0.055055,    0.056056,    0.057057,    0.058058,    0.059059,     0.06006,    0.061061,    0.062062,    0.063063,    0.064064,    0.065065,    0.066066,    0.067067,    0.068068,    0.069069,     0.07007,    0.071071,\n",
              "          0.072072,    0.073073,    0.074074,    0.075075,    0.076076,    0.077077,    0.078078,    0.079079,     0.08008,    0.081081,    0.082082,    0.083083,    0.084084,    0.085085,    0.086086,    0.087087,    0.088088,    0.089089,     0.09009,    0.091091,    0.092092,    0.093093,    0.094094,    0.095095,\n",
              "          0.096096,    0.097097,    0.098098,    0.099099,      0.1001,      0.1011,      0.1021,      0.1031,      0.1041,     0.10511,     0.10611,     0.10711,     0.10811,     0.10911,     0.11011,     0.11111,     0.11211,     0.11311,     0.11411,     0.11512,     0.11612,     0.11712,     0.11812,     0.11912,\n",
              "           0.12012,     0.12112,     0.12212,     0.12312,     0.12412,     0.12513,     0.12613,     0.12713,     0.12813,     0.12913,     0.13013,     0.13113,     0.13213,     0.13313,     0.13413,     0.13514,     0.13614,     0.13714,     0.13814,     0.13914,     0.14014,     0.14114,     0.14214,     0.14314,\n",
              "           0.14414,     0.14515,     0.14615,     0.14715,     0.14815,     0.14915,     0.15015,     0.15115,     0.15215,     0.15315,     0.15415,     0.15516,     0.15616,     0.15716,     0.15816,     0.15916,     0.16016,     0.16116,     0.16216,     0.16316,     0.16416,     0.16517,     0.16617,     0.16717,\n",
              "           0.16817,     0.16917,     0.17017,     0.17117,     0.17217,     0.17317,     0.17417,     0.17518,     0.17618,     0.17718,     0.17818,     0.17918,     0.18018,     0.18118,     0.18218,     0.18318,     0.18418,     0.18519,     0.18619,     0.18719,     0.18819,     0.18919,     0.19019,     0.19119,\n",
              "           0.19219,     0.19319,     0.19419,      0.1952,      0.1962,      0.1972,      0.1982,      0.1992,      0.2002,      0.2012,      0.2022,      0.2032,      0.2042,     0.20521,     0.20621,     0.20721,     0.20821,     0.20921,     0.21021,     0.21121,     0.21221,     0.21321,     0.21421,     0.21522,\n",
              "           0.21622,     0.21722,     0.21822,     0.21922,     0.22022,     0.22122,     0.22222,     0.22322,     0.22422,     0.22523,     0.22623,     0.22723,     0.22823,     0.22923,     0.23023,     0.23123,     0.23223,     0.23323,     0.23423,     0.23524,     0.23624,     0.23724,     0.23824,     0.23924,\n",
              "           0.24024,     0.24124,     0.24224,     0.24324,     0.24424,     0.24525,     0.24625,     0.24725,     0.24825,     0.24925,     0.25025,     0.25125,     0.25225,     0.25325,     0.25425,     0.25526,     0.25626,     0.25726,     0.25826,     0.25926,     0.26026,     0.26126,     0.26226,     0.26326,\n",
              "           0.26426,     0.26527,     0.26627,     0.26727,     0.26827,     0.26927,     0.27027,     0.27127,     0.27227,     0.27327,     0.27427,     0.27528,     0.27628,     0.27728,     0.27828,     0.27928,     0.28028,     0.28128,     0.28228,     0.28328,     0.28428,     0.28529,     0.28629,     0.28729,\n",
              "           0.28829,     0.28929,     0.29029,     0.29129,     0.29229,     0.29329,     0.29429,      0.2953,      0.2963,      0.2973,      0.2983,      0.2993,      0.3003,      0.3013,      0.3023,      0.3033,      0.3043,     0.30531,     0.30631,     0.30731,     0.30831,     0.30931,     0.31031,     0.31131,\n",
              "           0.31231,     0.31331,     0.31431,     0.31532,     0.31632,     0.31732,     0.31832,     0.31932,     0.32032,     0.32132,     0.32232,     0.32332,     0.32432,     0.32533,     0.32633,     0.32733,     0.32833,     0.32933,     0.33033,     0.33133,     0.33233,     0.33333,     0.33433,     0.33534,\n",
              "           0.33634,     0.33734,     0.33834,     0.33934,     0.34034,     0.34134,     0.34234,     0.34334,     0.34434,     0.34535,     0.34635,     0.34735,     0.34835,     0.34935,     0.35035,     0.35135,     0.35235,     0.35335,     0.35435,     0.35536,     0.35636,     0.35736,     0.35836,     0.35936,\n",
              "           0.36036,     0.36136,     0.36236,     0.36336,     0.36436,     0.36537,     0.36637,     0.36737,     0.36837,     0.36937,     0.37037,     0.37137,     0.37237,     0.37337,     0.37437,     0.37538,     0.37638,     0.37738,     0.37838,     0.37938,     0.38038,     0.38138,     0.38238,     0.38338,\n",
              "           0.38438,     0.38539,     0.38639,     0.38739,     0.38839,     0.38939,     0.39039,     0.39139,     0.39239,     0.39339,     0.39439,      0.3954,      0.3964,      0.3974,      0.3984,      0.3994,      0.4004,      0.4014,      0.4024,      0.4034,      0.4044,     0.40541,     0.40641,     0.40741,\n",
              "           0.40841,     0.40941,     0.41041,     0.41141,     0.41241,     0.41341,     0.41441,     0.41542,     0.41642,     0.41742,     0.41842,     0.41942,     0.42042,     0.42142,     0.42242,     0.42342,     0.42442,     0.42543,     0.42643,     0.42743,     0.42843,     0.42943,     0.43043,     0.43143,\n",
              "           0.43243,     0.43343,     0.43443,     0.43544,     0.43644,     0.43744,     0.43844,     0.43944,     0.44044,     0.44144,     0.44244,     0.44344,     0.44444,     0.44545,     0.44645,     0.44745,     0.44845,     0.44945,     0.45045,     0.45145,     0.45245,     0.45345,     0.45445,     0.45546,\n",
              "           0.45646,     0.45746,     0.45846,     0.45946,     0.46046,     0.46146,     0.46246,     0.46346,     0.46446,     0.46547,     0.46647,     0.46747,     0.46847,     0.46947,     0.47047,     0.47147,     0.47247,     0.47347,     0.47447,     0.47548,     0.47648,     0.47748,     0.47848,     0.47948,\n",
              "           0.48048,     0.48148,     0.48248,     0.48348,     0.48448,     0.48549,     0.48649,     0.48749,     0.48849,     0.48949,     0.49049,     0.49149,     0.49249,     0.49349,     0.49449,      0.4955,      0.4965,      0.4975,      0.4985,      0.4995,      0.5005,      0.5015,      0.5025,      0.5035,\n",
              "            0.5045,     0.50551,     0.50651,     0.50751,     0.50851,     0.50951,     0.51051,     0.51151,     0.51251,     0.51351,     0.51451,     0.51552,     0.51652,     0.51752,     0.51852,     0.51952,     0.52052,     0.52152,     0.52252,     0.52352,     0.52452,     0.52553,     0.52653,     0.52753,\n",
              "           0.52853,     0.52953,     0.53053,     0.53153,     0.53253,     0.53353,     0.53453,     0.53554,     0.53654,     0.53754,     0.53854,     0.53954,     0.54054,     0.54154,     0.54254,     0.54354,     0.54454,     0.54555,     0.54655,     0.54755,     0.54855,     0.54955,     0.55055,     0.55155,\n",
              "           0.55255,     0.55355,     0.55455,     0.55556,     0.55656,     0.55756,     0.55856,     0.55956,     0.56056,     0.56156,     0.56256,     0.56356,     0.56456,     0.56557,     0.56657,     0.56757,     0.56857,     0.56957,     0.57057,     0.57157,     0.57257,     0.57357,     0.57457,     0.57558,\n",
              "           0.57658,     0.57758,     0.57858,     0.57958,     0.58058,     0.58158,     0.58258,     0.58358,     0.58458,     0.58559,     0.58659,     0.58759,     0.58859,     0.58959,     0.59059,     0.59159,     0.59259,     0.59359,     0.59459,      0.5956,      0.5966,      0.5976,      0.5986,      0.5996,\n",
              "            0.6006,      0.6016,      0.6026,      0.6036,      0.6046,     0.60561,     0.60661,     0.60761,     0.60861,     0.60961,     0.61061,     0.61161,     0.61261,     0.61361,     0.61461,     0.61562,     0.61662,     0.61762,     0.61862,     0.61962,     0.62062,     0.62162,     0.62262,     0.62362,\n",
              "           0.62462,     0.62563,     0.62663,     0.62763,     0.62863,     0.62963,     0.63063,     0.63163,     0.63263,     0.63363,     0.63463,     0.63564,     0.63664,     0.63764,     0.63864,     0.63964,     0.64064,     0.64164,     0.64264,     0.64364,     0.64464,     0.64565,     0.64665,     0.64765,\n",
              "           0.64865,     0.64965,     0.65065,     0.65165,     0.65265,     0.65365,     0.65465,     0.65566,     0.65666,     0.65766,     0.65866,     0.65966,     0.66066,     0.66166,     0.66266,     0.66366,     0.66466,     0.66567,     0.66667,     0.66767,     0.66867,     0.66967,     0.67067,     0.67167,\n",
              "           0.67267,     0.67367,     0.67467,     0.67568,     0.67668,     0.67768,     0.67868,     0.67968,     0.68068,     0.68168,     0.68268,     0.68368,     0.68468,     0.68569,     0.68669,     0.68769,     0.68869,     0.68969,     0.69069,     0.69169,     0.69269,     0.69369,     0.69469,      0.6957,\n",
              "            0.6967,      0.6977,      0.6987,      0.6997,      0.7007,      0.7017,      0.7027,      0.7037,      0.7047,     0.70571,     0.70671,     0.70771,     0.70871,     0.70971,     0.71071,     0.71171,     0.71271,     0.71371,     0.71471,     0.71572,     0.71672,     0.71772,     0.71872,     0.71972,\n",
              "           0.72072,     0.72172,     0.72272,     0.72372,     0.72472,     0.72573,     0.72673,     0.72773,     0.72873,     0.72973,     0.73073,     0.73173,     0.73273,     0.73373,     0.73473,     0.73574,     0.73674,     0.73774,     0.73874,     0.73974,     0.74074,     0.74174,     0.74274,     0.74374,\n",
              "           0.74474,     0.74575,     0.74675,     0.74775,     0.74875,     0.74975,     0.75075,     0.75175,     0.75275,     0.75375,     0.75475,     0.75576,     0.75676,     0.75776,     0.75876,     0.75976,     0.76076,     0.76176,     0.76276,     0.76376,     0.76476,     0.76577,     0.76677,     0.76777,\n",
              "           0.76877,     0.76977,     0.77077,     0.77177,     0.77277,     0.77377,     0.77477,     0.77578,     0.77678,     0.77778,     0.77878,     0.77978,     0.78078,     0.78178,     0.78278,     0.78378,     0.78478,     0.78579,     0.78679,     0.78779,     0.78879,     0.78979,     0.79079,     0.79179,\n",
              "           0.79279,     0.79379,     0.79479,      0.7958,      0.7968,      0.7978,      0.7988,      0.7998,      0.8008,      0.8018,      0.8028,      0.8038,      0.8048,     0.80581,     0.80681,     0.80781,     0.80881,     0.80981,     0.81081,     0.81181,     0.81281,     0.81381,     0.81481,     0.81582,\n",
              "           0.81682,     0.81782,     0.81882,     0.81982,     0.82082,     0.82182,     0.82282,     0.82382,     0.82482,     0.82583,     0.82683,     0.82783,     0.82883,     0.82983,     0.83083,     0.83183,     0.83283,     0.83383,     0.83483,     0.83584,     0.83684,     0.83784,     0.83884,     0.83984,\n",
              "           0.84084,     0.84184,     0.84284,     0.84384,     0.84484,     0.84585,     0.84685,     0.84785,     0.84885,     0.84985,     0.85085,     0.85185,     0.85285,     0.85385,     0.85485,     0.85586,     0.85686,     0.85786,     0.85886,     0.85986,     0.86086,     0.86186,     0.86286,     0.86386,\n",
              "           0.86486,     0.86587,     0.86687,     0.86787,     0.86887,     0.86987,     0.87087,     0.87187,     0.87287,     0.87387,     0.87487,     0.87588,     0.87688,     0.87788,     0.87888,     0.87988,     0.88088,     0.88188,     0.88288,     0.88388,     0.88488,     0.88589,     0.88689,     0.88789,\n",
              "           0.88889,     0.88989,     0.89089,     0.89189,     0.89289,     0.89389,     0.89489,      0.8959,      0.8969,      0.8979,      0.8989,      0.8999,      0.9009,      0.9019,      0.9029,      0.9039,      0.9049,     0.90591,     0.90691,     0.90791,     0.90891,     0.90991,     0.91091,     0.91191,\n",
              "           0.91291,     0.91391,     0.91491,     0.91592,     0.91692,     0.91792,     0.91892,     0.91992,     0.92092,     0.92192,     0.92292,     0.92392,     0.92492,     0.92593,     0.92693,     0.92793,     0.92893,     0.92993,     0.93093,     0.93193,     0.93293,     0.93393,     0.93493,     0.93594,\n",
              "           0.93694,     0.93794,     0.93894,     0.93994,     0.94094,     0.94194,     0.94294,     0.94394,     0.94494,     0.94595,     0.94695,     0.94795,     0.94895,     0.94995,     0.95095,     0.95195,     0.95295,     0.95395,     0.95495,     0.95596,     0.95696,     0.95796,     0.95896,     0.95996,\n",
              "           0.96096,     0.96196,     0.96296,     0.96396,     0.96496,     0.96597,     0.96697,     0.96797,     0.96897,     0.96997,     0.97097,     0.97197,     0.97297,     0.97397,     0.97497,     0.97598,     0.97698,     0.97798,     0.97898,     0.97998,     0.98098,     0.98198,     0.98298,     0.98398,\n",
              "           0.98498,     0.98599,     0.98699,     0.98799,     0.98899,     0.98999,     0.99099,     0.99199,     0.99299,     0.99399,     0.99499,       0.996,       0.997,       0.998,       0.999,           1]), array([[          1,           1,           1,           1,           1,           1,           1,           1,           1,           1,           1,           1,           1,           1,           1,           1,           1,           1,           1,           1,           1,           1,           1,\n",
              "                  1,           1,           1,           1,           1,           1,           1,           1,           1,           1,           1,           1,           1,           1,           1,           1,           1,           1,           1,           1,           1,           1,           1,\n",
              "                  1,           1,           1,           1,           1,           1,           1,           1,           1,           1,           1,           1,           1,           1,           1,           1,           1,           1,           1,           1,           1,           1,           1,\n",
              "                  1,           1,           1,           1,           1,           1,           1,           1,           1,           1,           1,           1,           1,           1,           1,           1,           1,           1,           1,           1,           1,           1,           1,\n",
              "                  1,           1,           1,           1,           1,           1,           1,           1,           1,           1,           1,           1,           1,           1,           1,           1,           1,           1,           1,           1,           1,           1,           1,\n",
              "                  1,           1,           1,           1,           1,           1,           1,           1,           1,           1,           1,           1,           1,           1,           1,           1,           1,           1,           1,           1,           1,           1,           1,\n",
              "                  1,           1,           1,           1,           1,           1,           1,           1,           1,           1,           1,           1,           1,           1,           1,           1,           1,           1,           1,           1,           1,           1,           1,\n",
              "                  1,           1,           1,           1,           1,           1,           1,           1,           1,           1,           1,           1,           1,           1,           1,           1,           1,           1,           1,           1,           1,           1,           1,\n",
              "                  1,           1,           1,           1,           1,           1,           1,           1,           1,           1,           1,           1,           1,           1,           1,           1,           1,           1,           1,           1,           1,           1,           1,\n",
              "                  1,           1,           1,           1,           1,           1,           1,           1,           1,           1,           1,           1,           1,           1,           1,           1,           1,           1,           1,           1,           1,           1,           1,\n",
              "                  1,           1,           1,           1,           1,           1,           1,           1,           1,           1,           1,           1,           1,           1,           1,           1,           1,           1,           1,           1,           1,           1,           1,\n",
              "                  1,           1,           1,           1,           1,           1,           1,           1,           1,           1,           1,           1,           1,           1,           1,           1,           1,           1,           1,           1,           1,           1,           1,\n",
              "                  1,           1,           1,           1,           1,           1,           1,           1,           1,           1,           1,           1,           1,           1,           1,           1,           1,           1,           1,           1,           1,           1,           1,\n",
              "                  1,           1,           1,           1,           1,           1,           1,           1,           1,           1,           1,           1,           1,           1,           1,           1,           1,           1,           1,           1,           1,           1,           1,\n",
              "                  1,           1,           1,           1,           1,           1,           1,           1,           1,           1,           1,           1,           1,           1,           1,           1,           1,           1,           1,           1,           1,           1,           1,\n",
              "                  1,           1,           1,           1,           1,           1,           1,           1,           1,           1,           1,           1,           1,           1,           1,           1,           1,           1,           1,           1,           1,           1,           1,\n",
              "                  1,           1,           1,           1,           1,           1,           1,           1,           1,           1,           1,           1,           1,           1,     0.99465,     0.99465,     0.99465,     0.99465,     0.99465,     0.99465,     0.99465,     0.99465,     0.99465,\n",
              "            0.99465,     0.99465,     0.99465,     0.99465,     0.99465,     0.99465,     0.99465,     0.99465,     0.99465,     0.99465,     0.99465,     0.99465,     0.99465,     0.99465,     0.99465,     0.99465,     0.99465,     0.99465,     0.99465,     0.99465,     0.99465,     0.99465,     0.99465,\n",
              "            0.99465,     0.99465,     0.99465,     0.99465,     0.99465,     0.99465,     0.99465,     0.99465,     0.99465,     0.99465,     0.99465,     0.99465,     0.99465,     0.99465,     0.99465,     0.99465,     0.99465,     0.99465,     0.99465,     0.99465,     0.99465,     0.99465,     0.99465,\n",
              "            0.99465,     0.99465,     0.99465,     0.99465,     0.99465,     0.99465,     0.99465,     0.99465,     0.99465,     0.99465,     0.99465,     0.99465,     0.99465,     0.99465,     0.99465,     0.99465,     0.99465,     0.99465,     0.99465,     0.99465,     0.99465,     0.99465,     0.99465,\n",
              "            0.99465,     0.99465,     0.99465,     0.99465,     0.99465,     0.99465,     0.99465,     0.99465,     0.99465,     0.99465,     0.99465,     0.99465,     0.99465,     0.99465,     0.99465,     0.99465,     0.99465,     0.99465,     0.99465,     0.99465,     0.99465,     0.99465,     0.99465,\n",
              "            0.99465,     0.99465,     0.99465,     0.99465,     0.99465,     0.99465,     0.99465,     0.99465,     0.99465,     0.99465,     0.99465,     0.99465,     0.99465,     0.99465,     0.99465,     0.99465,     0.99465,     0.99465,     0.99465,     0.99465,     0.99465,     0.99065,     0.99065,\n",
              "            0.99065,     0.99065,     0.99065,     0.99065,     0.99065,     0.99065,     0.99065,     0.99065,     0.99065,     0.99065,     0.99065,     0.99065,     0.99065,     0.99065,     0.99065,     0.99065,     0.99065,     0.99065,     0.99065,     0.99065,     0.99065,     0.99065,     0.99065,\n",
              "            0.99065,     0.99065,     0.99065,     0.99065,     0.99065,     0.99065,     0.99065,     0.99065,     0.99065,     0.99065,     0.99065,     0.99065,     0.99065,     0.99065,     0.99065,     0.99065,     0.99065,     0.99065,     0.99065,     0.99065,     0.99065,     0.99065,     0.99065,\n",
              "            0.99065,     0.99065,     0.99065,     0.99065,     0.99065,     0.99065,     0.99065,     0.99065,     0.99065,     0.99065,     0.99065,     0.99065,     0.99065,     0.99065,     0.99065,     0.99065,     0.99065,     0.99065,     0.99065,     0.99065,     0.99065,     0.99065,      0.9869,\n",
              "             0.9869,      0.9869,      0.9869,      0.9869,      0.9869,      0.9869,      0.9869,      0.9869,      0.9869,      0.9869,      0.9869,      0.9869,      0.9869,      0.9869,      0.9869,      0.9869,      0.9869,      0.9869,      0.9869,      0.9869,      0.9869,      0.9869,      0.9869,\n",
              "             0.9869,      0.9869,      0.9869,      0.9869,      0.9869,      0.9869,      0.9869,      0.9869,      0.9869,      0.9869,      0.9869,      0.9869,      0.9869,      0.9869,     0.98601,     0.98601,     0.98601,     0.98601,     0.98601,     0.98601,     0.98601,     0.98601,     0.98601,\n",
              "            0.98601,     0.98601,     0.98601,     0.98601,     0.98601,     0.98601,     0.98601,     0.98601,     0.98601,     0.98601,     0.98601,     0.98601,     0.98601,     0.98601,     0.98601,     0.98601,     0.98601,     0.98601,     0.98601,     0.98601,     0.98601,     0.98601,     0.98601,\n",
              "            0.98601,     0.98601,     0.98601,     0.98601,     0.98601,     0.98601,     0.98601,     0.98601,     0.98601,     0.98601,     0.98601,     0.98601,     0.98601,     0.98601,     0.98601,     0.98601,     0.98601,     0.98601,     0.98601,     0.98601,     0.98601,     0.98601,     0.98601,\n",
              "            0.98601,     0.98601,     0.98601,     0.98601,     0.98601,     0.98601,     0.98601,     0.98601,     0.98601,     0.98601,     0.98601,     0.98601,     0.98601,     0.98601,     0.98601,     0.98601,     0.98601,     0.98601,     0.98601,     0.98601,     0.98601,     0.98601,     0.98601,\n",
              "            0.98601,     0.98601,     0.98601,     0.98601,     0.98601,     0.98601,     0.98601,     0.98601,     0.98601,     0.98601,     0.98601,     0.98601,     0.98601,     0.98601,     0.98601,     0.98601,     0.98601,     0.98601,     0.98601,     0.98601,     0.98601,     0.98601,     0.98601,\n",
              "            0.98601,     0.98601,     0.98601,     0.98601,     0.98601,     0.98601,     0.98601,     0.98601,     0.98601,     0.98601,     0.98601,     0.98601,     0.98601,     0.98601,     0.98601,     0.98601,     0.98601,     0.98601,     0.98601,     0.98601,     0.98601,     0.98601,     0.98601,\n",
              "            0.98601,     0.98601,     0.98601,     0.98601,     0.98601,     0.98601,     0.98601,     0.98601,     0.98601,     0.98601,     0.98601,     0.98601,     0.98601,     0.98601,     0.98601,     0.98601,     0.98601,     0.98601,     0.98601,     0.98601,     0.98601,     0.98601,     0.98601,\n",
              "            0.98601,     0.98601,     0.98601,     0.98601,     0.98601,      0.9827,      0.9827,      0.9827,      0.9827,      0.9827,     0.97945,     0.97945,     0.97945,     0.97945,     0.97945,     0.97945,     0.97627,     0.97627,     0.97627,     0.97627,     0.97627,     0.97324,     0.97324,\n",
              "            0.97324,     0.97324,     0.97324,     0.97324,     0.97324,     0.97324,     0.97152,     0.97152,     0.97152,     0.97152,     0.97152,     0.97152,     0.97152,     0.97152,     0.97152,     0.97152,     0.97152,     0.97152,     0.97152,     0.97152,     0.97152,     0.97152,     0.97152,\n",
              "            0.97152,     0.97152,     0.97152,     0.97152,     0.97152,     0.97152,     0.97152,     0.97152,     0.97152,     0.97152,     0.97152,     0.97152,     0.97152,     0.97152,     0.97152,     0.97152,     0.97152,     0.97152,     0.97152,     0.97152,     0.97152,     0.97152,     0.97152,\n",
              "            0.97152,     0.97152,     0.97152,     0.97152,     0.96552,     0.96552,     0.96308,     0.96308,     0.96308,     0.96308,     0.96308,     0.96308,     0.96308,     0.96308,     0.96308,     0.96308,     0.96308,     0.96308,     0.96308,     0.96308,     0.95732,     0.95732,     0.95732,\n",
              "            0.94895,     0.94895,     0.94895,     0.94895,     0.94895,     0.94345,     0.94345,     0.94345,     0.94118,     0.94118,     0.94118,     0.94118,     0.94118,     0.94118,     0.94118,     0.94118,      0.9386,      0.9386,      0.9386,     0.93333,     0.93333,     0.92571,     0.92571,\n",
              "            0.92571,     0.92571,     0.92571,     0.92571,      0.9233,      0.9233,      0.9209,      0.9209,      0.9209,     0.91597,     0.91597,     0.91597,     0.91111,     0.91111,     0.90659,     0.90659,     0.90659,     0.90659,     0.90659,     0.90659,     0.89973,     0.89973,     0.89973,\n",
              "            0.89973,     0.89973,     0.89757,     0.89757,     0.89757,     0.89067,     0.89067,     0.89067,     0.88158,     0.88158,      0.8708,      0.8708,      0.8708,      0.8708,      0.8708,      0.8708,     0.86667,     0.86667,     0.86667,      0.8626,      0.8626,     0.85642,     0.85642,\n",
              "            0.85642,     0.85323,     0.85323,     0.85323,     0.85323,     0.85323,     0.85323,     0.85323,     0.85323,     0.84729,     0.84729,     0.84729,     0.83535,     0.83535,     0.83535,     0.82578,     0.82578,     0.82033,     0.82033,     0.82033,     0.78076,     0.78076,     0.78076,\n",
              "            0.78076,     0.78076,     0.68555,     0.68555,     0.68555,     0.68555,     0.68555,     0.68555,     0.64117,     0.64117,     0.64065,     0.64065,     0.64065,     0.44924,     0.44924,     0.44924,       0.387,     0.37732,     0.36765,     0.35797,      0.3483,     0.33862,     0.32895,\n",
              "            0.31927,      0.3096,     0.29992,     0.29025,     0.28057,      0.2709,     0.26122,     0.25155,     0.24187,      0.2322,     0.22252,     0.21285,     0.20317,      0.1935,     0.18382,     0.17415,     0.16447,      0.1548,     0.14512,     0.13545,     0.12577,      0.1161,     0.10642,\n",
              "           0.096749,    0.087074,    0.077399,    0.067725,     0.05805,    0.048375,      0.0387,    0.029025,     0.01935,   0.0096749,           0]]), 'Recall', 'Precision'], [array([          0,    0.001001,    0.002002,    0.003003,    0.004004,    0.005005,    0.006006,    0.007007,    0.008008,    0.009009,     0.01001,    0.011011,    0.012012,    0.013013,    0.014014,    0.015015,    0.016016,    0.017017,    0.018018,    0.019019,     0.02002,    0.021021,    0.022022,    0.023023,\n",
              "          0.024024,    0.025025,    0.026026,    0.027027,    0.028028,    0.029029,     0.03003,    0.031031,    0.032032,    0.033033,    0.034034,    0.035035,    0.036036,    0.037037,    0.038038,    0.039039,     0.04004,    0.041041,    0.042042,    0.043043,    0.044044,    0.045045,    0.046046,    0.047047,\n",
              "          0.048048,    0.049049,     0.05005,    0.051051,    0.052052,    0.053053,    0.054054,    0.055055,    0.056056,    0.057057,    0.058058,    0.059059,     0.06006,    0.061061,    0.062062,    0.063063,    0.064064,    0.065065,    0.066066,    0.067067,    0.068068,    0.069069,     0.07007,    0.071071,\n",
              "          0.072072,    0.073073,    0.074074,    0.075075,    0.076076,    0.077077,    0.078078,    0.079079,     0.08008,    0.081081,    0.082082,    0.083083,    0.084084,    0.085085,    0.086086,    0.087087,    0.088088,    0.089089,     0.09009,    0.091091,    0.092092,    0.093093,    0.094094,    0.095095,\n",
              "          0.096096,    0.097097,    0.098098,    0.099099,      0.1001,      0.1011,      0.1021,      0.1031,      0.1041,     0.10511,     0.10611,     0.10711,     0.10811,     0.10911,     0.11011,     0.11111,     0.11211,     0.11311,     0.11411,     0.11512,     0.11612,     0.11712,     0.11812,     0.11912,\n",
              "           0.12012,     0.12112,     0.12212,     0.12312,     0.12412,     0.12513,     0.12613,     0.12713,     0.12813,     0.12913,     0.13013,     0.13113,     0.13213,     0.13313,     0.13413,     0.13514,     0.13614,     0.13714,     0.13814,     0.13914,     0.14014,     0.14114,     0.14214,     0.14314,\n",
              "           0.14414,     0.14515,     0.14615,     0.14715,     0.14815,     0.14915,     0.15015,     0.15115,     0.15215,     0.15315,     0.15415,     0.15516,     0.15616,     0.15716,     0.15816,     0.15916,     0.16016,     0.16116,     0.16216,     0.16316,     0.16416,     0.16517,     0.16617,     0.16717,\n",
              "           0.16817,     0.16917,     0.17017,     0.17117,     0.17217,     0.17317,     0.17417,     0.17518,     0.17618,     0.17718,     0.17818,     0.17918,     0.18018,     0.18118,     0.18218,     0.18318,     0.18418,     0.18519,     0.18619,     0.18719,     0.18819,     0.18919,     0.19019,     0.19119,\n",
              "           0.19219,     0.19319,     0.19419,      0.1952,      0.1962,      0.1972,      0.1982,      0.1992,      0.2002,      0.2012,      0.2022,      0.2032,      0.2042,     0.20521,     0.20621,     0.20721,     0.20821,     0.20921,     0.21021,     0.21121,     0.21221,     0.21321,     0.21421,     0.21522,\n",
              "           0.21622,     0.21722,     0.21822,     0.21922,     0.22022,     0.22122,     0.22222,     0.22322,     0.22422,     0.22523,     0.22623,     0.22723,     0.22823,     0.22923,     0.23023,     0.23123,     0.23223,     0.23323,     0.23423,     0.23524,     0.23624,     0.23724,     0.23824,     0.23924,\n",
              "           0.24024,     0.24124,     0.24224,     0.24324,     0.24424,     0.24525,     0.24625,     0.24725,     0.24825,     0.24925,     0.25025,     0.25125,     0.25225,     0.25325,     0.25425,     0.25526,     0.25626,     0.25726,     0.25826,     0.25926,     0.26026,     0.26126,     0.26226,     0.26326,\n",
              "           0.26426,     0.26527,     0.26627,     0.26727,     0.26827,     0.26927,     0.27027,     0.27127,     0.27227,     0.27327,     0.27427,     0.27528,     0.27628,     0.27728,     0.27828,     0.27928,     0.28028,     0.28128,     0.28228,     0.28328,     0.28428,     0.28529,     0.28629,     0.28729,\n",
              "           0.28829,     0.28929,     0.29029,     0.29129,     0.29229,     0.29329,     0.29429,      0.2953,      0.2963,      0.2973,      0.2983,      0.2993,      0.3003,      0.3013,      0.3023,      0.3033,      0.3043,     0.30531,     0.30631,     0.30731,     0.30831,     0.30931,     0.31031,     0.31131,\n",
              "           0.31231,     0.31331,     0.31431,     0.31532,     0.31632,     0.31732,     0.31832,     0.31932,     0.32032,     0.32132,     0.32232,     0.32332,     0.32432,     0.32533,     0.32633,     0.32733,     0.32833,     0.32933,     0.33033,     0.33133,     0.33233,     0.33333,     0.33433,     0.33534,\n",
              "           0.33634,     0.33734,     0.33834,     0.33934,     0.34034,     0.34134,     0.34234,     0.34334,     0.34434,     0.34535,     0.34635,     0.34735,     0.34835,     0.34935,     0.35035,     0.35135,     0.35235,     0.35335,     0.35435,     0.35536,     0.35636,     0.35736,     0.35836,     0.35936,\n",
              "           0.36036,     0.36136,     0.36236,     0.36336,     0.36436,     0.36537,     0.36637,     0.36737,     0.36837,     0.36937,     0.37037,     0.37137,     0.37237,     0.37337,     0.37437,     0.37538,     0.37638,     0.37738,     0.37838,     0.37938,     0.38038,     0.38138,     0.38238,     0.38338,\n",
              "           0.38438,     0.38539,     0.38639,     0.38739,     0.38839,     0.38939,     0.39039,     0.39139,     0.39239,     0.39339,     0.39439,      0.3954,      0.3964,      0.3974,      0.3984,      0.3994,      0.4004,      0.4014,      0.4024,      0.4034,      0.4044,     0.40541,     0.40641,     0.40741,\n",
              "           0.40841,     0.40941,     0.41041,     0.41141,     0.41241,     0.41341,     0.41441,     0.41542,     0.41642,     0.41742,     0.41842,     0.41942,     0.42042,     0.42142,     0.42242,     0.42342,     0.42442,     0.42543,     0.42643,     0.42743,     0.42843,     0.42943,     0.43043,     0.43143,\n",
              "           0.43243,     0.43343,     0.43443,     0.43544,     0.43644,     0.43744,     0.43844,     0.43944,     0.44044,     0.44144,     0.44244,     0.44344,     0.44444,     0.44545,     0.44645,     0.44745,     0.44845,     0.44945,     0.45045,     0.45145,     0.45245,     0.45345,     0.45445,     0.45546,\n",
              "           0.45646,     0.45746,     0.45846,     0.45946,     0.46046,     0.46146,     0.46246,     0.46346,     0.46446,     0.46547,     0.46647,     0.46747,     0.46847,     0.46947,     0.47047,     0.47147,     0.47247,     0.47347,     0.47447,     0.47548,     0.47648,     0.47748,     0.47848,     0.47948,\n",
              "           0.48048,     0.48148,     0.48248,     0.48348,     0.48448,     0.48549,     0.48649,     0.48749,     0.48849,     0.48949,     0.49049,     0.49149,     0.49249,     0.49349,     0.49449,      0.4955,      0.4965,      0.4975,      0.4985,      0.4995,      0.5005,      0.5015,      0.5025,      0.5035,\n",
              "            0.5045,     0.50551,     0.50651,     0.50751,     0.50851,     0.50951,     0.51051,     0.51151,     0.51251,     0.51351,     0.51451,     0.51552,     0.51652,     0.51752,     0.51852,     0.51952,     0.52052,     0.52152,     0.52252,     0.52352,     0.52452,     0.52553,     0.52653,     0.52753,\n",
              "           0.52853,     0.52953,     0.53053,     0.53153,     0.53253,     0.53353,     0.53453,     0.53554,     0.53654,     0.53754,     0.53854,     0.53954,     0.54054,     0.54154,     0.54254,     0.54354,     0.54454,     0.54555,     0.54655,     0.54755,     0.54855,     0.54955,     0.55055,     0.55155,\n",
              "           0.55255,     0.55355,     0.55455,     0.55556,     0.55656,     0.55756,     0.55856,     0.55956,     0.56056,     0.56156,     0.56256,     0.56356,     0.56456,     0.56557,     0.56657,     0.56757,     0.56857,     0.56957,     0.57057,     0.57157,     0.57257,     0.57357,     0.57457,     0.57558,\n",
              "           0.57658,     0.57758,     0.57858,     0.57958,     0.58058,     0.58158,     0.58258,     0.58358,     0.58458,     0.58559,     0.58659,     0.58759,     0.58859,     0.58959,     0.59059,     0.59159,     0.59259,     0.59359,     0.59459,      0.5956,      0.5966,      0.5976,      0.5986,      0.5996,\n",
              "            0.6006,      0.6016,      0.6026,      0.6036,      0.6046,     0.60561,     0.60661,     0.60761,     0.60861,     0.60961,     0.61061,     0.61161,     0.61261,     0.61361,     0.61461,     0.61562,     0.61662,     0.61762,     0.61862,     0.61962,     0.62062,     0.62162,     0.62262,     0.62362,\n",
              "           0.62462,     0.62563,     0.62663,     0.62763,     0.62863,     0.62963,     0.63063,     0.63163,     0.63263,     0.63363,     0.63463,     0.63564,     0.63664,     0.63764,     0.63864,     0.63964,     0.64064,     0.64164,     0.64264,     0.64364,     0.64464,     0.64565,     0.64665,     0.64765,\n",
              "           0.64865,     0.64965,     0.65065,     0.65165,     0.65265,     0.65365,     0.65465,     0.65566,     0.65666,     0.65766,     0.65866,     0.65966,     0.66066,     0.66166,     0.66266,     0.66366,     0.66466,     0.66567,     0.66667,     0.66767,     0.66867,     0.66967,     0.67067,     0.67167,\n",
              "           0.67267,     0.67367,     0.67467,     0.67568,     0.67668,     0.67768,     0.67868,     0.67968,     0.68068,     0.68168,     0.68268,     0.68368,     0.68468,     0.68569,     0.68669,     0.68769,     0.68869,     0.68969,     0.69069,     0.69169,     0.69269,     0.69369,     0.69469,      0.6957,\n",
              "            0.6967,      0.6977,      0.6987,      0.6997,      0.7007,      0.7017,      0.7027,      0.7037,      0.7047,     0.70571,     0.70671,     0.70771,     0.70871,     0.70971,     0.71071,     0.71171,     0.71271,     0.71371,     0.71471,     0.71572,     0.71672,     0.71772,     0.71872,     0.71972,\n",
              "           0.72072,     0.72172,     0.72272,     0.72372,     0.72472,     0.72573,     0.72673,     0.72773,     0.72873,     0.72973,     0.73073,     0.73173,     0.73273,     0.73373,     0.73473,     0.73574,     0.73674,     0.73774,     0.73874,     0.73974,     0.74074,     0.74174,     0.74274,     0.74374,\n",
              "           0.74474,     0.74575,     0.74675,     0.74775,     0.74875,     0.74975,     0.75075,     0.75175,     0.75275,     0.75375,     0.75475,     0.75576,     0.75676,     0.75776,     0.75876,     0.75976,     0.76076,     0.76176,     0.76276,     0.76376,     0.76476,     0.76577,     0.76677,     0.76777,\n",
              "           0.76877,     0.76977,     0.77077,     0.77177,     0.77277,     0.77377,     0.77477,     0.77578,     0.77678,     0.77778,     0.77878,     0.77978,     0.78078,     0.78178,     0.78278,     0.78378,     0.78478,     0.78579,     0.78679,     0.78779,     0.78879,     0.78979,     0.79079,     0.79179,\n",
              "           0.79279,     0.79379,     0.79479,      0.7958,      0.7968,      0.7978,      0.7988,      0.7998,      0.8008,      0.8018,      0.8028,      0.8038,      0.8048,     0.80581,     0.80681,     0.80781,     0.80881,     0.80981,     0.81081,     0.81181,     0.81281,     0.81381,     0.81481,     0.81582,\n",
              "           0.81682,     0.81782,     0.81882,     0.81982,     0.82082,     0.82182,     0.82282,     0.82382,     0.82482,     0.82583,     0.82683,     0.82783,     0.82883,     0.82983,     0.83083,     0.83183,     0.83283,     0.83383,     0.83483,     0.83584,     0.83684,     0.83784,     0.83884,     0.83984,\n",
              "           0.84084,     0.84184,     0.84284,     0.84384,     0.84484,     0.84585,     0.84685,     0.84785,     0.84885,     0.84985,     0.85085,     0.85185,     0.85285,     0.85385,     0.85485,     0.85586,     0.85686,     0.85786,     0.85886,     0.85986,     0.86086,     0.86186,     0.86286,     0.86386,\n",
              "           0.86486,     0.86587,     0.86687,     0.86787,     0.86887,     0.86987,     0.87087,     0.87187,     0.87287,     0.87387,     0.87487,     0.87588,     0.87688,     0.87788,     0.87888,     0.87988,     0.88088,     0.88188,     0.88288,     0.88388,     0.88488,     0.88589,     0.88689,     0.88789,\n",
              "           0.88889,     0.88989,     0.89089,     0.89189,     0.89289,     0.89389,     0.89489,      0.8959,      0.8969,      0.8979,      0.8989,      0.8999,      0.9009,      0.9019,      0.9029,      0.9039,      0.9049,     0.90591,     0.90691,     0.90791,     0.90891,     0.90991,     0.91091,     0.91191,\n",
              "           0.91291,     0.91391,     0.91491,     0.91592,     0.91692,     0.91792,     0.91892,     0.91992,     0.92092,     0.92192,     0.92292,     0.92392,     0.92492,     0.92593,     0.92693,     0.92793,     0.92893,     0.92993,     0.93093,     0.93193,     0.93293,     0.93393,     0.93493,     0.93594,\n",
              "           0.93694,     0.93794,     0.93894,     0.93994,     0.94094,     0.94194,     0.94294,     0.94394,     0.94494,     0.94595,     0.94695,     0.94795,     0.94895,     0.94995,     0.95095,     0.95195,     0.95295,     0.95395,     0.95495,     0.95596,     0.95696,     0.95796,     0.95896,     0.95996,\n",
              "           0.96096,     0.96196,     0.96296,     0.96396,     0.96496,     0.96597,     0.96697,     0.96797,     0.96897,     0.96997,     0.97097,     0.97197,     0.97297,     0.97397,     0.97497,     0.97598,     0.97698,     0.97798,     0.97898,     0.97998,     0.98098,     0.98198,     0.98298,     0.98398,\n",
              "           0.98498,     0.98599,     0.98699,     0.98799,     0.98899,     0.98999,     0.99099,     0.99199,     0.99299,     0.99399,     0.99499,       0.996,       0.997,       0.998,       0.999,           1]), array([[    0.55748,     0.55748,     0.67621,     0.72113,     0.75784,     0.76811,     0.78233,     0.79218,     0.79684,     0.80653,     0.81257,     0.81753,     0.82247,     0.82844,     0.83213,     0.83833,      0.8402,     0.84079,     0.84265,       0.847,     0.84952,     0.85003,     0.85145,\n",
              "            0.85236,     0.85412,     0.85489,     0.85286,     0.85696,     0.85907,     0.85946,     0.85986,     0.86161,     0.86245,     0.86308,     0.86405,     0.86454,     0.86489,     0.86524,     0.86649,     0.86702,     0.86767,     0.86893,     0.86959,     0.87054,     0.87137,     0.87264,\n",
              "            0.87388,     0.87511,      0.8754,     0.87565,     0.87591,     0.87616,     0.87509,     0.87573,     0.87707,     0.87724,      0.8774,     0.87756,     0.87773,     0.87789,     0.87806,     0.87792,     0.87707,     0.87792,     0.87814,     0.87837,     0.87859,     0.87882,     0.87911,\n",
              "            0.87961,      0.8801,     0.88152,      0.8821,     0.88104,     0.88108,     0.88126,     0.88144,     0.88162,      0.8818,     0.88198,     0.88272,     0.88435,     0.88443,      0.8845,     0.88458,     0.88465,     0.88473,      0.8848,     0.88488,     0.88495,     0.88502,      0.8851,\n",
              "            0.88517,     0.88525,     0.88532,      0.8854,      0.8855,     0.88573,     0.88596,     0.88619,     0.88642,     0.88669,     0.88711,     0.88754,     0.88742,     0.88682,     0.88724,     0.88764,     0.88784,     0.88803,     0.88823,     0.88843,     0.88861,     0.88872,     0.88882,\n",
              "            0.88892,     0.88903,     0.88913,     0.88923,     0.88934,     0.88944,     0.88954,     0.88965,     0.88975,      0.8895,     0.88923,     0.88896,     0.88869,     0.88842,     0.88819,     0.88799,     0.88779,     0.88759,     0.88739,     0.88719,     0.88699,     0.88681,     0.88665,\n",
              "             0.8865,     0.88634,     0.88619,     0.88603,     0.88588,     0.88573,     0.88557,     0.88542,     0.88555,     0.88568,     0.88581,     0.88594,     0.88607,      0.8862,     0.88633,     0.88645,     0.88659,     0.88675,      0.8869,     0.88706,     0.88722,     0.88738,     0.88754,\n",
              "            0.88769,     0.88662,     0.88725,     0.88763,      0.8879,     0.88817,     0.88845,     0.88945,     0.88939,     0.88895,     0.88851,     0.88967,     0.89002,     0.89038,     0.89063,     0.89057,     0.89051,     0.89046,      0.8904,     0.89034,     0.89028,     0.89022,     0.89016,\n",
              "             0.8901,     0.89005,     0.88999,     0.88993,     0.88987,     0.88981,     0.88975,     0.88969,     0.88964,     0.88958,     0.88952,     0.88946,      0.8894,     0.88934,     0.88928,     0.88923,      0.8893,     0.88978,     0.89027,     0.89049,     0.89064,      0.8908,     0.89096,\n",
              "            0.89112,     0.89128,     0.89143,     0.89148,     0.89135,     0.89121,     0.89108,     0.89094,     0.89081,     0.89067,     0.89054,      0.8904,     0.89027,     0.89013,     0.88999,     0.88985,      0.8897,     0.88956,     0.88942,     0.88927,     0.88913,     0.88899,     0.88884,\n",
              "             0.8887,     0.88912,     0.88985,     0.88997,     0.89009,     0.89021,     0.89033,     0.89045,     0.89057,     0.89069,     0.89081,     0.89093,     0.89215,     0.89236,     0.89256,     0.89276,     0.89297,     0.89317,     0.89432,       0.894,     0.89345,     0.89312,      0.8934,\n",
              "            0.89367,     0.89394,     0.89421,     0.89545,     0.89547,     0.89549,     0.89552,     0.89554,     0.89556,     0.89559,     0.89561,     0.89564,     0.89566,     0.89568,     0.89571,     0.89573,     0.89575,     0.89578,      0.8958,     0.89583,     0.89585,     0.89587,      0.8959,\n",
              "            0.89592,     0.89594,     0.89597,     0.89599,     0.89601,     0.89604,     0.89606,     0.89609,     0.89611,     0.89613,     0.89616,     0.89618,      0.8962,     0.89623,     0.89625,     0.89628,      0.8963,     0.89632,     0.89635,     0.89637,     0.89639,     0.89642,     0.89644,\n",
              "            0.89646,     0.89649,     0.89651,     0.89654,     0.89656,     0.89658,     0.89661,     0.89663,     0.89706,     0.89783,     0.89776,     0.89769,     0.89762,     0.89755,     0.89747,      0.8974,     0.89733,     0.89726,     0.89718,     0.89711,     0.89704,     0.89697,     0.89689,\n",
              "            0.89682,     0.89675,     0.89668,      0.8966,     0.89653,     0.89646,     0.89639,     0.89772,     0.89803,     0.89834,     0.89865,     0.89891,     0.89914,     0.89937,     0.89959,     0.89982,     0.89982,     0.89895,     0.89874,     0.89919,     0.89964,     0.89968,     0.89962,\n",
              "            0.89956,     0.89949,     0.89943,     0.89937,     0.89931,     0.89925,     0.89918,     0.89912,     0.89906,       0.899,     0.89894,     0.89888,     0.89881,     0.89875,     0.89869,     0.89863,     0.89857,      0.8985,     0.89844,     0.89838,     0.89832,     0.89826,     0.89808,\n",
              "            0.89784,     0.89761,     0.89737,     0.89713,      0.8969,     0.89677,     0.89687,     0.89698,     0.89708,     0.89718,     0.89728,     0.89739,     0.89749,     0.89759,     0.89769,     0.89779,      0.8979,     0.89799,     0.89807,     0.89815,     0.89824,     0.89832,      0.8984,\n",
              "            0.89848,     0.89857,     0.89865,     0.89873,     0.89881,     0.89889,     0.89898,     0.89906,     0.89914,     0.89954,     0.90026,     0.90028,     0.90013,     0.89997,     0.89981,     0.89965,      0.8995,     0.89934,     0.89918,     0.89902,     0.89884,     0.89861,     0.89839,\n",
              "            0.89816,     0.89793,      0.8977,     0.89747,     0.89827,     0.89875,     0.89843,     0.89854,     0.89865,     0.89876,     0.89886,     0.89897,     0.89908,     0.89919,     0.89929,      0.8994,     0.89951,     0.89962,     0.89974,     0.89986,     0.89998,     0.90009,     0.90021,\n",
              "            0.90033,     0.90045,     0.90057,     0.90068,      0.9008,     0.90021,     0.89943,     0.89934,     0.89938,     0.89942,     0.89946,      0.8995,     0.89954,     0.89958,     0.89962,     0.89965,     0.89969,     0.89973,     0.89977,     0.89981,     0.89985,     0.89989,     0.89993,\n",
              "            0.89997,         0.9,     0.90004,     0.90008,     0.90012,     0.90016,      0.9002,     0.90024,     0.90028,     0.90032,     0.90035,     0.90039,     0.90043,     0.90047,     0.90051,     0.90055,     0.90169,     0.90157,     0.90145,     0.90133,     0.90121,     0.90109,     0.90097,\n",
              "            0.90085,     0.90073,     0.90061,     0.90049,     0.90037,     0.90029,     0.90033,     0.90037,     0.90042,     0.90046,     0.90051,     0.90055,      0.9006,     0.90064,     0.90068,     0.90073,     0.90077,     0.90082,     0.90086,      0.9009,     0.90095,     0.90099,     0.90104,\n",
              "            0.90108,     0.90113,     0.90117,     0.90121,     0.90126,      0.9013,     0.90135,     0.90139,     0.90143,     0.90148,     0.90152,     0.90105,     0.90053,     0.90001,     0.90016,     0.90032,     0.90048,     0.90064,      0.9008,     0.90096,     0.90112,     0.90122,     0.90102,\n",
              "            0.90082,     0.90063,     0.90043,     0.90024,     0.90004,     0.89984,     0.89913,     0.89821,     0.89828,     0.89834,     0.89841,     0.89847,     0.89853,      0.8986,     0.89866,     0.89873,     0.89879,     0.89886,     0.89892,     0.89898,     0.89905,     0.89911,     0.89918,\n",
              "            0.89924,     0.89931,     0.89937,     0.89943,     0.89953,     0.89962,     0.89972,     0.89981,     0.89991,         0.9,      0.9001,      0.9002,     0.90029,     0.90039,     0.90048,     0.90058,     0.90067,     0.90163,     0.90186,     0.90173,      0.9016,     0.90147,     0.90134,\n",
              "            0.90121,     0.90107,     0.90094,     0.90081,     0.90068,     0.90055,     0.90043,     0.90054,     0.90065,     0.90076,     0.90088,     0.90099,      0.9011,     0.90121,     0.90133,     0.90144,     0.90155,     0.90167,     0.90178,     0.90189,       0.902,     0.90212,     0.90223,\n",
              "            0.90234,     0.90246,     0.90257,     0.90268,      0.9028,     0.90291,     0.90264,     0.90211,     0.90158,     0.90143,     0.90146,     0.90149,     0.90152,     0.90155,     0.90158,     0.90161,     0.90164,     0.90167,      0.9017,     0.90173,     0.90176,     0.90179,     0.90182,\n",
              "            0.90185,     0.90188,     0.90191,     0.90194,     0.90197,     0.90201,     0.90204,     0.90207,      0.9021,     0.90213,     0.90216,     0.90219,     0.90222,     0.90225,     0.90228,     0.90231,     0.90234,     0.90237,      0.9024,     0.90243,     0.90246,     0.90249,     0.90252,\n",
              "            0.90255,     0.90258,     0.90261,     0.90264,     0.90267,     0.90242,     0.90207,     0.90172,     0.90137,     0.90108,     0.90095,     0.90081,     0.90067,     0.90053,     0.90039,     0.90025,     0.90011,     0.89998,     0.89984,      0.8997,     0.89956,     0.89941,     0.89925,\n",
              "             0.8991,     0.89895,      0.8988,     0.89865,     0.89849,     0.89834,     0.89819,     0.89804,     0.89915,     0.89872,     0.89808,     0.89803,     0.89868,     0.89919,     0.89957,     0.89994,     0.90019,     0.89912,     0.89738,     0.89775,     0.89813,     0.89861,     0.89949,\n",
              "            0.89989,     0.90013,     0.90038,     0.90062,     0.90086,     0.90092,     0.90071,     0.90049,     0.90027,     0.90006,     0.89984,     0.89963,     0.89944,     0.89968,     0.89992,     0.90017,     0.90041,     0.90065,     0.90119,     0.90185,     0.90022,     0.89941,     0.89872,\n",
              "            0.89831,      0.8979,     0.89749,     0.89712,     0.89679,     0.89646,     0.89613,     0.89581,     0.89413,     0.89429,     0.89445,      0.8946,     0.89476,     0.89492,     0.89507,     0.89523,     0.89395,     0.89484,     0.89608,     0.89439,     0.89329,     0.89171,     0.89091,\n",
              "            0.89025,      0.8898,     0.88963,     0.88946,     0.88929,     0.88913,     0.88896,     0.88879,     0.88862,     0.88846,     0.88829,     0.88786,      0.8873,     0.88674,     0.88411,     0.88315,     0.88258,     0.88202,     0.88155,     0.88124,     0.88093,     0.88062,     0.88031,\n",
              "               0.88,     0.87833,      0.8779,     0.87748,     0.87705,     0.87659,     0.87591,     0.87522,     0.87255,     0.87146,     0.87059,     0.87007,     0.87052,     0.87096,     0.87009,     0.86914,     0.86865,     0.86815,     0.86635,      0.8668,     0.86747,     0.86677,     0.86607,\n",
              "            0.86479,     0.86483,     0.86482,     0.86394,     0.86235,     0.86302,     0.86295,     0.86255,     0.86216,     0.86176,     0.86004,     0.86093,     0.85857,     0.85767,     0.85299,     0.85178,     0.85057,      0.8458,     0.84483,      0.8441,     0.84333,      0.8421,      0.8405,\n",
              "            0.83787,     0.83695,     0.83001,     0.82253,     0.81823,     0.81529,     0.81452,     0.81339,     0.80995,     0.80917,     0.80839,      0.8039,     0.80324,     0.80259,     0.80065,     0.79867,      0.7966,     0.78868,     0.78256,     0.78175,     0.77876,     0.77234,     0.76463,\n",
              "            0.76323,     0.75565,     0.75054,      0.7468,     0.74594,     0.74177,      0.7339,     0.72648,     0.71216,     0.70212,     0.70057,     0.69138,     0.68084,     0.67489,     0.66991,      0.6638,     0.65684,     0.65559,     0.65125,     0.63796,     0.62907,     0.62646,     0.62058,\n",
              "            0.61529,     0.60208,     0.58955,     0.58578,     0.57447,     0.56472,     0.56061,     0.55202,     0.54152,      0.5269,     0.52489,     0.51935,     0.50549,     0.49363,     0.49152,     0.47799,     0.47584,     0.45786,     0.45123,     0.43464,     0.42107,     0.41691,     0.40366,\n",
              "            0.38603,     0.38194,     0.36782,     0.35674,     0.33805,     0.32655,     0.29937,     0.28733,     0.27137,     0.26682,     0.25482,      0.2458,     0.24098,       0.237,     0.22715,     0.21526,      0.1988,     0.19297,     0.18752,     0.17915,     0.17384,     0.16512,     0.14645,\n",
              "            0.13214,     0.12703,     0.12374,     0.11724,     0.11207,    0.092844,    0.090315,    0.087909,    0.086457,    0.085003,    0.083547,    0.081316,    0.078756,      0.0653,    0.054846,     0.04595,    0.041235,    0.037676,    0.032536,    0.030384,    0.028586,    0.026785,    0.020391,\n",
              "           0.018211,    0.010742,   0.0098961,   0.0090495,   0.0082021,    0.007354,   0.0065052,   0.0056557,           0,           0,           0,           0,           0,           0,           0,           0,           0,           0,           0,           0,           0,           0,           0,\n",
              "                  0,           0,           0,           0,           0,           0,           0,           0,           0,           0,           0,           0,           0,           0,           0,           0,           0,           0,           0,           0,           0,           0,           0,\n",
              "                  0,           0,           0,           0,           0,           0,           0,           0,           0,           0,           0,           0,           0,           0,           0,           0,           0,           0,           0,           0,           0,           0,           0,\n",
              "                  0,           0,           0,           0,           0,           0,           0,           0,           0,           0,           0]]), 'Confidence', 'F1'], [array([          0,    0.001001,    0.002002,    0.003003,    0.004004,    0.005005,    0.006006,    0.007007,    0.008008,    0.009009,     0.01001,    0.011011,    0.012012,    0.013013,    0.014014,    0.015015,    0.016016,    0.017017,    0.018018,    0.019019,     0.02002,    0.021021,    0.022022,    0.023023,\n",
              "          0.024024,    0.025025,    0.026026,    0.027027,    0.028028,    0.029029,     0.03003,    0.031031,    0.032032,    0.033033,    0.034034,    0.035035,    0.036036,    0.037037,    0.038038,    0.039039,     0.04004,    0.041041,    0.042042,    0.043043,    0.044044,    0.045045,    0.046046,    0.047047,\n",
              "          0.048048,    0.049049,     0.05005,    0.051051,    0.052052,    0.053053,    0.054054,    0.055055,    0.056056,    0.057057,    0.058058,    0.059059,     0.06006,    0.061061,    0.062062,    0.063063,    0.064064,    0.065065,    0.066066,    0.067067,    0.068068,    0.069069,     0.07007,    0.071071,\n",
              "          0.072072,    0.073073,    0.074074,    0.075075,    0.076076,    0.077077,    0.078078,    0.079079,     0.08008,    0.081081,    0.082082,    0.083083,    0.084084,    0.085085,    0.086086,    0.087087,    0.088088,    0.089089,     0.09009,    0.091091,    0.092092,    0.093093,    0.094094,    0.095095,\n",
              "          0.096096,    0.097097,    0.098098,    0.099099,      0.1001,      0.1011,      0.1021,      0.1031,      0.1041,     0.10511,     0.10611,     0.10711,     0.10811,     0.10911,     0.11011,     0.11111,     0.11211,     0.11311,     0.11411,     0.11512,     0.11612,     0.11712,     0.11812,     0.11912,\n",
              "           0.12012,     0.12112,     0.12212,     0.12312,     0.12412,     0.12513,     0.12613,     0.12713,     0.12813,     0.12913,     0.13013,     0.13113,     0.13213,     0.13313,     0.13413,     0.13514,     0.13614,     0.13714,     0.13814,     0.13914,     0.14014,     0.14114,     0.14214,     0.14314,\n",
              "           0.14414,     0.14515,     0.14615,     0.14715,     0.14815,     0.14915,     0.15015,     0.15115,     0.15215,     0.15315,     0.15415,     0.15516,     0.15616,     0.15716,     0.15816,     0.15916,     0.16016,     0.16116,     0.16216,     0.16316,     0.16416,     0.16517,     0.16617,     0.16717,\n",
              "           0.16817,     0.16917,     0.17017,     0.17117,     0.17217,     0.17317,     0.17417,     0.17518,     0.17618,     0.17718,     0.17818,     0.17918,     0.18018,     0.18118,     0.18218,     0.18318,     0.18418,     0.18519,     0.18619,     0.18719,     0.18819,     0.18919,     0.19019,     0.19119,\n",
              "           0.19219,     0.19319,     0.19419,      0.1952,      0.1962,      0.1972,      0.1982,      0.1992,      0.2002,      0.2012,      0.2022,      0.2032,      0.2042,     0.20521,     0.20621,     0.20721,     0.20821,     0.20921,     0.21021,     0.21121,     0.21221,     0.21321,     0.21421,     0.21522,\n",
              "           0.21622,     0.21722,     0.21822,     0.21922,     0.22022,     0.22122,     0.22222,     0.22322,     0.22422,     0.22523,     0.22623,     0.22723,     0.22823,     0.22923,     0.23023,     0.23123,     0.23223,     0.23323,     0.23423,     0.23524,     0.23624,     0.23724,     0.23824,     0.23924,\n",
              "           0.24024,     0.24124,     0.24224,     0.24324,     0.24424,     0.24525,     0.24625,     0.24725,     0.24825,     0.24925,     0.25025,     0.25125,     0.25225,     0.25325,     0.25425,     0.25526,     0.25626,     0.25726,     0.25826,     0.25926,     0.26026,     0.26126,     0.26226,     0.26326,\n",
              "           0.26426,     0.26527,     0.26627,     0.26727,     0.26827,     0.26927,     0.27027,     0.27127,     0.27227,     0.27327,     0.27427,     0.27528,     0.27628,     0.27728,     0.27828,     0.27928,     0.28028,     0.28128,     0.28228,     0.28328,     0.28428,     0.28529,     0.28629,     0.28729,\n",
              "           0.28829,     0.28929,     0.29029,     0.29129,     0.29229,     0.29329,     0.29429,      0.2953,      0.2963,      0.2973,      0.2983,      0.2993,      0.3003,      0.3013,      0.3023,      0.3033,      0.3043,     0.30531,     0.30631,     0.30731,     0.30831,     0.30931,     0.31031,     0.31131,\n",
              "           0.31231,     0.31331,     0.31431,     0.31532,     0.31632,     0.31732,     0.31832,     0.31932,     0.32032,     0.32132,     0.32232,     0.32332,     0.32432,     0.32533,     0.32633,     0.32733,     0.32833,     0.32933,     0.33033,     0.33133,     0.33233,     0.33333,     0.33433,     0.33534,\n",
              "           0.33634,     0.33734,     0.33834,     0.33934,     0.34034,     0.34134,     0.34234,     0.34334,     0.34434,     0.34535,     0.34635,     0.34735,     0.34835,     0.34935,     0.35035,     0.35135,     0.35235,     0.35335,     0.35435,     0.35536,     0.35636,     0.35736,     0.35836,     0.35936,\n",
              "           0.36036,     0.36136,     0.36236,     0.36336,     0.36436,     0.36537,     0.36637,     0.36737,     0.36837,     0.36937,     0.37037,     0.37137,     0.37237,     0.37337,     0.37437,     0.37538,     0.37638,     0.37738,     0.37838,     0.37938,     0.38038,     0.38138,     0.38238,     0.38338,\n",
              "           0.38438,     0.38539,     0.38639,     0.38739,     0.38839,     0.38939,     0.39039,     0.39139,     0.39239,     0.39339,     0.39439,      0.3954,      0.3964,      0.3974,      0.3984,      0.3994,      0.4004,      0.4014,      0.4024,      0.4034,      0.4044,     0.40541,     0.40641,     0.40741,\n",
              "           0.40841,     0.40941,     0.41041,     0.41141,     0.41241,     0.41341,     0.41441,     0.41542,     0.41642,     0.41742,     0.41842,     0.41942,     0.42042,     0.42142,     0.42242,     0.42342,     0.42442,     0.42543,     0.42643,     0.42743,     0.42843,     0.42943,     0.43043,     0.43143,\n",
              "           0.43243,     0.43343,     0.43443,     0.43544,     0.43644,     0.43744,     0.43844,     0.43944,     0.44044,     0.44144,     0.44244,     0.44344,     0.44444,     0.44545,     0.44645,     0.44745,     0.44845,     0.44945,     0.45045,     0.45145,     0.45245,     0.45345,     0.45445,     0.45546,\n",
              "           0.45646,     0.45746,     0.45846,     0.45946,     0.46046,     0.46146,     0.46246,     0.46346,     0.46446,     0.46547,     0.46647,     0.46747,     0.46847,     0.46947,     0.47047,     0.47147,     0.47247,     0.47347,     0.47447,     0.47548,     0.47648,     0.47748,     0.47848,     0.47948,\n",
              "           0.48048,     0.48148,     0.48248,     0.48348,     0.48448,     0.48549,     0.48649,     0.48749,     0.48849,     0.48949,     0.49049,     0.49149,     0.49249,     0.49349,     0.49449,      0.4955,      0.4965,      0.4975,      0.4985,      0.4995,      0.5005,      0.5015,      0.5025,      0.5035,\n",
              "            0.5045,     0.50551,     0.50651,     0.50751,     0.50851,     0.50951,     0.51051,     0.51151,     0.51251,     0.51351,     0.51451,     0.51552,     0.51652,     0.51752,     0.51852,     0.51952,     0.52052,     0.52152,     0.52252,     0.52352,     0.52452,     0.52553,     0.52653,     0.52753,\n",
              "           0.52853,     0.52953,     0.53053,     0.53153,     0.53253,     0.53353,     0.53453,     0.53554,     0.53654,     0.53754,     0.53854,     0.53954,     0.54054,     0.54154,     0.54254,     0.54354,     0.54454,     0.54555,     0.54655,     0.54755,     0.54855,     0.54955,     0.55055,     0.55155,\n",
              "           0.55255,     0.55355,     0.55455,     0.55556,     0.55656,     0.55756,     0.55856,     0.55956,     0.56056,     0.56156,     0.56256,     0.56356,     0.56456,     0.56557,     0.56657,     0.56757,     0.56857,     0.56957,     0.57057,     0.57157,     0.57257,     0.57357,     0.57457,     0.57558,\n",
              "           0.57658,     0.57758,     0.57858,     0.57958,     0.58058,     0.58158,     0.58258,     0.58358,     0.58458,     0.58559,     0.58659,     0.58759,     0.58859,     0.58959,     0.59059,     0.59159,     0.59259,     0.59359,     0.59459,      0.5956,      0.5966,      0.5976,      0.5986,      0.5996,\n",
              "            0.6006,      0.6016,      0.6026,      0.6036,      0.6046,     0.60561,     0.60661,     0.60761,     0.60861,     0.60961,     0.61061,     0.61161,     0.61261,     0.61361,     0.61461,     0.61562,     0.61662,     0.61762,     0.61862,     0.61962,     0.62062,     0.62162,     0.62262,     0.62362,\n",
              "           0.62462,     0.62563,     0.62663,     0.62763,     0.62863,     0.62963,     0.63063,     0.63163,     0.63263,     0.63363,     0.63463,     0.63564,     0.63664,     0.63764,     0.63864,     0.63964,     0.64064,     0.64164,     0.64264,     0.64364,     0.64464,     0.64565,     0.64665,     0.64765,\n",
              "           0.64865,     0.64965,     0.65065,     0.65165,     0.65265,     0.65365,     0.65465,     0.65566,     0.65666,     0.65766,     0.65866,     0.65966,     0.66066,     0.66166,     0.66266,     0.66366,     0.66466,     0.66567,     0.66667,     0.66767,     0.66867,     0.66967,     0.67067,     0.67167,\n",
              "           0.67267,     0.67367,     0.67467,     0.67568,     0.67668,     0.67768,     0.67868,     0.67968,     0.68068,     0.68168,     0.68268,     0.68368,     0.68468,     0.68569,     0.68669,     0.68769,     0.68869,     0.68969,     0.69069,     0.69169,     0.69269,     0.69369,     0.69469,      0.6957,\n",
              "            0.6967,      0.6977,      0.6987,      0.6997,      0.7007,      0.7017,      0.7027,      0.7037,      0.7047,     0.70571,     0.70671,     0.70771,     0.70871,     0.70971,     0.71071,     0.71171,     0.71271,     0.71371,     0.71471,     0.71572,     0.71672,     0.71772,     0.71872,     0.71972,\n",
              "           0.72072,     0.72172,     0.72272,     0.72372,     0.72472,     0.72573,     0.72673,     0.72773,     0.72873,     0.72973,     0.73073,     0.73173,     0.73273,     0.73373,     0.73473,     0.73574,     0.73674,     0.73774,     0.73874,     0.73974,     0.74074,     0.74174,     0.74274,     0.74374,\n",
              "           0.74474,     0.74575,     0.74675,     0.74775,     0.74875,     0.74975,     0.75075,     0.75175,     0.75275,     0.75375,     0.75475,     0.75576,     0.75676,     0.75776,     0.75876,     0.75976,     0.76076,     0.76176,     0.76276,     0.76376,     0.76476,     0.76577,     0.76677,     0.76777,\n",
              "           0.76877,     0.76977,     0.77077,     0.77177,     0.77277,     0.77377,     0.77477,     0.77578,     0.77678,     0.77778,     0.77878,     0.77978,     0.78078,     0.78178,     0.78278,     0.78378,     0.78478,     0.78579,     0.78679,     0.78779,     0.78879,     0.78979,     0.79079,     0.79179,\n",
              "           0.79279,     0.79379,     0.79479,      0.7958,      0.7968,      0.7978,      0.7988,      0.7998,      0.8008,      0.8018,      0.8028,      0.8038,      0.8048,     0.80581,     0.80681,     0.80781,     0.80881,     0.80981,     0.81081,     0.81181,     0.81281,     0.81381,     0.81481,     0.81582,\n",
              "           0.81682,     0.81782,     0.81882,     0.81982,     0.82082,     0.82182,     0.82282,     0.82382,     0.82482,     0.82583,     0.82683,     0.82783,     0.82883,     0.82983,     0.83083,     0.83183,     0.83283,     0.83383,     0.83483,     0.83584,     0.83684,     0.83784,     0.83884,     0.83984,\n",
              "           0.84084,     0.84184,     0.84284,     0.84384,     0.84484,     0.84585,     0.84685,     0.84785,     0.84885,     0.84985,     0.85085,     0.85185,     0.85285,     0.85385,     0.85485,     0.85586,     0.85686,     0.85786,     0.85886,     0.85986,     0.86086,     0.86186,     0.86286,     0.86386,\n",
              "           0.86486,     0.86587,     0.86687,     0.86787,     0.86887,     0.86987,     0.87087,     0.87187,     0.87287,     0.87387,     0.87487,     0.87588,     0.87688,     0.87788,     0.87888,     0.87988,     0.88088,     0.88188,     0.88288,     0.88388,     0.88488,     0.88589,     0.88689,     0.88789,\n",
              "           0.88889,     0.88989,     0.89089,     0.89189,     0.89289,     0.89389,     0.89489,      0.8959,      0.8969,      0.8979,      0.8989,      0.8999,      0.9009,      0.9019,      0.9029,      0.9039,      0.9049,     0.90591,     0.90691,     0.90791,     0.90891,     0.90991,     0.91091,     0.91191,\n",
              "           0.91291,     0.91391,     0.91491,     0.91592,     0.91692,     0.91792,     0.91892,     0.91992,     0.92092,     0.92192,     0.92292,     0.92392,     0.92492,     0.92593,     0.92693,     0.92793,     0.92893,     0.92993,     0.93093,     0.93193,     0.93293,     0.93393,     0.93493,     0.93594,\n",
              "           0.93694,     0.93794,     0.93894,     0.93994,     0.94094,     0.94194,     0.94294,     0.94394,     0.94494,     0.94595,     0.94695,     0.94795,     0.94895,     0.94995,     0.95095,     0.95195,     0.95295,     0.95395,     0.95495,     0.95596,     0.95696,     0.95796,     0.95896,     0.95996,\n",
              "           0.96096,     0.96196,     0.96296,     0.96396,     0.96496,     0.96597,     0.96697,     0.96797,     0.96897,     0.96997,     0.97097,     0.97197,     0.97297,     0.97397,     0.97497,     0.97598,     0.97698,     0.97798,     0.97898,     0.97998,     0.98098,     0.98198,     0.98298,     0.98398,\n",
              "           0.98498,     0.98599,     0.98699,     0.98799,     0.98899,     0.98999,     0.99099,     0.99199,     0.99299,     0.99399,     0.99499,       0.996,       0.997,       0.998,       0.999,           1]), array([[     0.3929,      0.3929,     0.52293,     0.57867,     0.62745,     0.64411,     0.66437,      0.6787,     0.68842,       0.703,     0.71225,      0.7199,     0.72759,     0.73698,     0.74285,      0.7528,     0.75581,     0.75677,     0.75979,     0.76688,     0.77104,     0.77187,     0.77422,\n",
              "            0.77572,     0.77865,     0.78058,     0.77987,     0.78713,      0.7907,     0.79137,     0.79203,     0.79502,     0.79645,     0.79752,     0.79917,     0.80002,     0.80061,     0.80121,     0.80336,     0.80428,      0.8054,     0.80756,     0.80871,     0.81035,     0.81179,       0.814,\n",
              "            0.81617,     0.81831,     0.81882,     0.81927,     0.81971,     0.82015,     0.82034,     0.82146,     0.82383,     0.82412,     0.82441,      0.8247,     0.82499,     0.82528,     0.82557,      0.8257,     0.82545,     0.82744,     0.82784,     0.82824,     0.82863,     0.82903,     0.82956,\n",
              "            0.83044,     0.83133,     0.83386,     0.83528,     0.83498,     0.83524,     0.83556,     0.83589,     0.83621,     0.83653,     0.83686,     0.83819,     0.84114,     0.84127,     0.84141,     0.84154,     0.84168,     0.84181,     0.84195,     0.84208,     0.84222,     0.84235,     0.84249,\n",
              "            0.84262,     0.84276,      0.8429,     0.84303,     0.84322,     0.84364,     0.84405,     0.84447,     0.84488,     0.84537,     0.84615,     0.84692,     0.84721,     0.84705,     0.84862,     0.84936,     0.84972,     0.85008,     0.85044,      0.8508,     0.85114,     0.85133,     0.85152,\n",
              "            0.85171,      0.8519,     0.85209,     0.85228,     0.85247,     0.85266,     0.85285,     0.85304,     0.85323,     0.85317,      0.8531,     0.85303,     0.85296,      0.8529,     0.85284,     0.85279,     0.85274,     0.85268,     0.85263,     0.85258,     0.85253,     0.85248,     0.85245,\n",
              "            0.85241,     0.85237,     0.85233,     0.85229,     0.85225,     0.85221,     0.85217,     0.85213,     0.85237,     0.85261,     0.85285,     0.85309,     0.85333,     0.85357,     0.85381,     0.85406,      0.8543,      0.8546,     0.85489,     0.85518,     0.85548,     0.85577,     0.85607,\n",
              "            0.85636,      0.8567,     0.85789,     0.85859,      0.8591,     0.85961,     0.86012,       0.862,     0.86251,      0.8624,     0.86229,     0.86481,     0.86549,     0.86616,     0.86666,     0.86665,     0.86664,     0.86662,     0.86661,     0.86659,     0.86658,     0.86657,     0.86655,\n",
              "            0.86654,     0.86653,     0.86651,      0.8665,     0.86649,     0.86647,     0.86646,     0.86644,     0.86643,     0.86642,      0.8664,     0.86639,     0.86638,     0.86636,     0.86635,     0.86633,     0.86655,     0.86747,     0.86838,      0.8688,      0.8691,      0.8694,     0.86971,\n",
              "            0.87001,     0.87031,     0.87061,     0.87079,     0.87076,     0.87073,      0.8707,     0.87067,     0.87064,      0.8706,     0.87057,     0.87054,     0.87051,     0.87048,     0.87045,     0.87042,     0.87038,     0.87035,     0.87032,     0.87029,     0.87025,     0.87022,     0.87019,\n",
              "            0.87015,     0.87115,     0.87255,     0.87278,     0.87301,     0.87324,     0.87347,      0.8737,     0.87393,     0.87416,     0.87439,     0.87462,     0.87698,     0.87738,     0.87777,     0.87816,     0.87856,     0.87895,     0.88117,     0.88147,     0.88135,     0.88141,     0.88194,\n",
              "            0.88247,     0.88301,     0.88354,     0.88595,       0.886,     0.88604,     0.88609,     0.88613,     0.88618,     0.88623,     0.88627,     0.88632,     0.88637,     0.88641,     0.88646,     0.88651,     0.88655,      0.8866,     0.88665,     0.88669,     0.88674,     0.88678,     0.88683,\n",
              "            0.88688,     0.88692,     0.88697,     0.88702,     0.88706,     0.88711,     0.88716,      0.8872,     0.88725,      0.8873,     0.88734,     0.88739,     0.88744,     0.88748,     0.88753,     0.88757,     0.88762,     0.88767,     0.88771,     0.88776,     0.88781,     0.88785,      0.8879,\n",
              "            0.88795,     0.88799,     0.88804,     0.88809,     0.88813,     0.88818,     0.88822,     0.88827,     0.88912,     0.89066,     0.89065,     0.89064,     0.89062,     0.89061,     0.89059,     0.89058,     0.89056,     0.89055,     0.89054,     0.89052,     0.89051,     0.89049,     0.89048,\n",
              "            0.89046,     0.89045,     0.89044,     0.89042,     0.89041,     0.89039,     0.89038,     0.89305,     0.89367,     0.89428,      0.8949,     0.89542,     0.89587,     0.89632,     0.89677,     0.89722,     0.89754,     0.89738,     0.89775,     0.89865,     0.89956,     0.89972,     0.89971,\n",
              "             0.8997,     0.89969,     0.89967,     0.89966,     0.89965,     0.89964,     0.89963,     0.89962,     0.89961,      0.8996,     0.89958,     0.89957,     0.89956,     0.89955,     0.89954,     0.89953,     0.89952,     0.89951,     0.89949,     0.89948,     0.89947,     0.89946,     0.89943,\n",
              "            0.89938,     0.89934,      0.8993,     0.89925,     0.89921,     0.89925,     0.89946,     0.89966,     0.89987,     0.90007,     0.90028,     0.90048,     0.90069,     0.90089,      0.9011,     0.90131,     0.90151,      0.9017,     0.90187,     0.90203,      0.9022,     0.90237,     0.90253,\n",
              "             0.9027,     0.90286,     0.90303,      0.9032,     0.90336,     0.90353,     0.90369,     0.90386,     0.90403,     0.90483,     0.90629,     0.90657,     0.90654,     0.90652,     0.90649,     0.90646,     0.90644,     0.90641,     0.90638,     0.90636,     0.90633,     0.90629,     0.90625,\n",
              "            0.90621,     0.90617,     0.90613,     0.90609,     0.90786,     0.91093,     0.91103,     0.91125,     0.91147,     0.91169,     0.91192,     0.91214,     0.91236,     0.91258,      0.9128,     0.91303,     0.91325,     0.91348,     0.91372,     0.91396,     0.91421,     0.91445,      0.9147,\n",
              "            0.91494,     0.91518,     0.91543,     0.91567,     0.91592,     0.91587,     0.91575,      0.9158,     0.91588,     0.91596,     0.91604,     0.91612,      0.9162,     0.91628,     0.91636,     0.91644,     0.91652,     0.91661,     0.91669,     0.91677,     0.91685,     0.91693,     0.91701,\n",
              "            0.91709,     0.91717,     0.91725,     0.91733,     0.91741,     0.91749,     0.91757,     0.91766,     0.91774,     0.91782,      0.9179,     0.91798,     0.91806,     0.91814,     0.91822,      0.9183,     0.92089,     0.92087,     0.92085,     0.92084,     0.92082,      0.9208,     0.92078,\n",
              "            0.92076,     0.92075,     0.92073,     0.92071,     0.92069,      0.9207,     0.92079,     0.92088,     0.92098,     0.92107,     0.92116,     0.92125,     0.92135,     0.92144,     0.92153,     0.92162,     0.92172,     0.92181,      0.9219,     0.92199,     0.92209,     0.92218,     0.92227,\n",
              "            0.92236,     0.92246,     0.92255,     0.92264,     0.92273,     0.92283,     0.92292,     0.92301,      0.9231,      0.9232,     0.92329,     0.92323,     0.92315,     0.92308,     0.92341,     0.92375,     0.92409,     0.92442,     0.92476,      0.9251,     0.92544,     0.92571,     0.92568,\n",
              "            0.92565,     0.92563,      0.9256,     0.92557,     0.92555,     0.92552,     0.92542,     0.92534,     0.92548,     0.92562,     0.92575,     0.92589,     0.92603,     0.92616,      0.9263,     0.92644,     0.92657,     0.92671,     0.92685,     0.92698,     0.92712,     0.92726,     0.92739,\n",
              "            0.92753,     0.92767,      0.9278,     0.92794,     0.92814,     0.92834,     0.92854,     0.92875,     0.92895,     0.92915,     0.92936,     0.92956,     0.92976,     0.92997,     0.93017,     0.93038,     0.93058,     0.93263,     0.93332,      0.9333,     0.93329,     0.93327,     0.93325,\n",
              "            0.93324,     0.93322,     0.93321,     0.93319,     0.93317,     0.93316,     0.93315,     0.93339,     0.93363,     0.93388,     0.93412,     0.93436,      0.9346,     0.93485,     0.93509,     0.93533,     0.93557,     0.93582,     0.93606,      0.9363,     0.93655,     0.93679,     0.93704,\n",
              "            0.93728,     0.93752,     0.93777,     0.93801,     0.93826,      0.9385,     0.93856,      0.9385,     0.93844,     0.93846,     0.93853,     0.93859,     0.93866,     0.93872,     0.93879,     0.93886,     0.93892,     0.93899,     0.93905,     0.93912,     0.93918,     0.93925,     0.93932,\n",
              "            0.93938,     0.93945,     0.93951,     0.93958,     0.93965,     0.93971,     0.93978,     0.93984,     0.93991,     0.93997,     0.94004,     0.94011,     0.94017,     0.94024,      0.9403,     0.94037,     0.94043,      0.9405,     0.94057,     0.94063,      0.9407,     0.94076,     0.94083,\n",
              "             0.9409,     0.94096,     0.94103,     0.94109,     0.94116,     0.94115,     0.94111,     0.94107,     0.94103,       0.941,     0.94098,     0.94097,     0.94095,     0.94094,     0.94092,      0.9409,     0.94089,     0.94087,     0.94086,     0.94084,     0.94083,     0.94081,     0.94079,\n",
              "            0.94078,     0.94076,     0.94074,     0.94072,     0.94071,     0.94069,     0.94067,     0.94066,     0.94315,     0.94339,     0.94332,     0.94394,     0.94539,     0.94653,     0.94736,     0.94819,     0.94894,     0.94883,     0.94917,     0.95001,     0.95085,     0.95193,     0.95391,\n",
              "            0.95481,     0.95536,      0.9559,     0.95644,     0.95698,     0.95731,     0.95729,     0.95727,     0.95726,     0.95724,     0.95722,      0.9572,     0.95722,     0.95777,     0.95832,     0.95886,     0.95941,     0.95996,     0.96118,      0.9627,     0.96295,     0.96289,     0.96284,\n",
              "            0.96281,     0.96278,     0.96275,     0.96272,      0.9627,     0.96268,     0.96265,     0.96263,     0.96269,     0.96306,     0.96342,     0.96378,     0.96415,     0.96451,     0.96488,     0.96524,      0.9659,     0.96798,     0.97089,     0.97141,     0.97135,     0.97126,     0.97121,\n",
              "            0.97118,     0.97115,     0.97114,     0.97113,     0.97112,     0.97111,      0.9711,     0.97109,     0.97108,     0.97107,     0.97106,     0.97104,     0.97101,     0.97098,     0.97083,     0.97077,     0.97074,      0.9707,     0.97068,     0.97066,     0.97064,     0.97062,     0.97061,\n",
              "            0.97059,     0.97049,     0.97047,     0.97044,     0.97042,     0.97039,     0.97035,     0.97031,     0.97015,     0.97009,     0.97004,     0.97029,      0.9714,     0.97251,     0.97318,     0.97313,     0.97311,     0.97308,     0.97298,     0.97457,     0.97626,     0.97624,     0.97621,\n",
              "            0.97614,      0.9781,     0.97943,     0.97939,     0.98044,     0.98218,     0.98269,     0.98268,     0.98266,     0.98265,     0.98331,     0.98566,     0.98594,     0.98592,     0.98578,     0.98575,     0.98572,     0.98558,     0.98555,     0.98553,      0.9855,     0.98547,     0.98542,\n",
              "            0.98534,     0.98532,     0.98511,     0.98488,     0.98475,     0.98466,     0.98463,      0.9846,     0.98449,     0.98446,     0.98444,     0.98429,     0.98427,     0.98425,     0.98419,     0.98413,     0.98406,      0.9838,     0.98359,     0.98356,     0.98346,     0.98324,     0.98297,\n",
              "            0.98292,     0.98265,     0.98675,     0.98665,     0.98662,     0.98651,     0.98628,     0.98606,     0.99035,     0.99013,      0.9901,      0.9899,     0.98966,     0.98953,     0.98941,     0.99459,      0.9945,     0.99449,     0.99443,     0.99426,     0.99414,     0.99411,     0.99403,\n",
              "            0.99395,     0.99376,     0.99358,     0.99352,     0.99334,     0.99318,     0.99311,     0.99296,           1,           1,           1,           1,           1,           1,           1,           1,           1,           1,           1,           1,           1,           1,           1,\n",
              "                  1,           1,           1,           1,           1,           1,           1,           1,           1,           1,           1,           1,           1,           1,           1,           1,           1,           1,           1,           1,           1,           1,           1,\n",
              "                  1,           1,           1,           1,           1,           1,           1,           1,           1,           1,           1,           1,           1,           1,           1,           1,           1,           1,           1,           1,           1,           1,           1,\n",
              "                  1,           1,           1,           1,           1,           1,           1,           1,           1,           1,           1,           1,           1,           1,           1,           1,           1,           1,           1,           1,           1,           1,           1,\n",
              "                  1,           1,           1,           1,           1,           1,           1,           1,           1,           1,           1,           1,           1,           1,           1,           1,           1,           1,           1,           1,           1,           1,           1,\n",
              "                  1,           1,           1,           1,           1,           1,           1,           1,           1,           1,           1,           1,           1,           1,           1,           1,           1,           1,           1,           1,           1,           1,           1,\n",
              "                  1,           1,           1,           1,           1,           1,           1,           1,           1,           1,           1]]), 'Confidence', 'Precision'], [array([          0,    0.001001,    0.002002,    0.003003,    0.004004,    0.005005,    0.006006,    0.007007,    0.008008,    0.009009,     0.01001,    0.011011,    0.012012,    0.013013,    0.014014,    0.015015,    0.016016,    0.017017,    0.018018,    0.019019,     0.02002,    0.021021,    0.022022,    0.023023,\n",
              "          0.024024,    0.025025,    0.026026,    0.027027,    0.028028,    0.029029,     0.03003,    0.031031,    0.032032,    0.033033,    0.034034,    0.035035,    0.036036,    0.037037,    0.038038,    0.039039,     0.04004,    0.041041,    0.042042,    0.043043,    0.044044,    0.045045,    0.046046,    0.047047,\n",
              "          0.048048,    0.049049,     0.05005,    0.051051,    0.052052,    0.053053,    0.054054,    0.055055,    0.056056,    0.057057,    0.058058,    0.059059,     0.06006,    0.061061,    0.062062,    0.063063,    0.064064,    0.065065,    0.066066,    0.067067,    0.068068,    0.069069,     0.07007,    0.071071,\n",
              "          0.072072,    0.073073,    0.074074,    0.075075,    0.076076,    0.077077,    0.078078,    0.079079,     0.08008,    0.081081,    0.082082,    0.083083,    0.084084,    0.085085,    0.086086,    0.087087,    0.088088,    0.089089,     0.09009,    0.091091,    0.092092,    0.093093,    0.094094,    0.095095,\n",
              "          0.096096,    0.097097,    0.098098,    0.099099,      0.1001,      0.1011,      0.1021,      0.1031,      0.1041,     0.10511,     0.10611,     0.10711,     0.10811,     0.10911,     0.11011,     0.11111,     0.11211,     0.11311,     0.11411,     0.11512,     0.11612,     0.11712,     0.11812,     0.11912,\n",
              "           0.12012,     0.12112,     0.12212,     0.12312,     0.12412,     0.12513,     0.12613,     0.12713,     0.12813,     0.12913,     0.13013,     0.13113,     0.13213,     0.13313,     0.13413,     0.13514,     0.13614,     0.13714,     0.13814,     0.13914,     0.14014,     0.14114,     0.14214,     0.14314,\n",
              "           0.14414,     0.14515,     0.14615,     0.14715,     0.14815,     0.14915,     0.15015,     0.15115,     0.15215,     0.15315,     0.15415,     0.15516,     0.15616,     0.15716,     0.15816,     0.15916,     0.16016,     0.16116,     0.16216,     0.16316,     0.16416,     0.16517,     0.16617,     0.16717,\n",
              "           0.16817,     0.16917,     0.17017,     0.17117,     0.17217,     0.17317,     0.17417,     0.17518,     0.17618,     0.17718,     0.17818,     0.17918,     0.18018,     0.18118,     0.18218,     0.18318,     0.18418,     0.18519,     0.18619,     0.18719,     0.18819,     0.18919,     0.19019,     0.19119,\n",
              "           0.19219,     0.19319,     0.19419,      0.1952,      0.1962,      0.1972,      0.1982,      0.1992,      0.2002,      0.2012,      0.2022,      0.2032,      0.2042,     0.20521,     0.20621,     0.20721,     0.20821,     0.20921,     0.21021,     0.21121,     0.21221,     0.21321,     0.21421,     0.21522,\n",
              "           0.21622,     0.21722,     0.21822,     0.21922,     0.22022,     0.22122,     0.22222,     0.22322,     0.22422,     0.22523,     0.22623,     0.22723,     0.22823,     0.22923,     0.23023,     0.23123,     0.23223,     0.23323,     0.23423,     0.23524,     0.23624,     0.23724,     0.23824,     0.23924,\n",
              "           0.24024,     0.24124,     0.24224,     0.24324,     0.24424,     0.24525,     0.24625,     0.24725,     0.24825,     0.24925,     0.25025,     0.25125,     0.25225,     0.25325,     0.25425,     0.25526,     0.25626,     0.25726,     0.25826,     0.25926,     0.26026,     0.26126,     0.26226,     0.26326,\n",
              "           0.26426,     0.26527,     0.26627,     0.26727,     0.26827,     0.26927,     0.27027,     0.27127,     0.27227,     0.27327,     0.27427,     0.27528,     0.27628,     0.27728,     0.27828,     0.27928,     0.28028,     0.28128,     0.28228,     0.28328,     0.28428,     0.28529,     0.28629,     0.28729,\n",
              "           0.28829,     0.28929,     0.29029,     0.29129,     0.29229,     0.29329,     0.29429,      0.2953,      0.2963,      0.2973,      0.2983,      0.2993,      0.3003,      0.3013,      0.3023,      0.3033,      0.3043,     0.30531,     0.30631,     0.30731,     0.30831,     0.30931,     0.31031,     0.31131,\n",
              "           0.31231,     0.31331,     0.31431,     0.31532,     0.31632,     0.31732,     0.31832,     0.31932,     0.32032,     0.32132,     0.32232,     0.32332,     0.32432,     0.32533,     0.32633,     0.32733,     0.32833,     0.32933,     0.33033,     0.33133,     0.33233,     0.33333,     0.33433,     0.33534,\n",
              "           0.33634,     0.33734,     0.33834,     0.33934,     0.34034,     0.34134,     0.34234,     0.34334,     0.34434,     0.34535,     0.34635,     0.34735,     0.34835,     0.34935,     0.35035,     0.35135,     0.35235,     0.35335,     0.35435,     0.35536,     0.35636,     0.35736,     0.35836,     0.35936,\n",
              "           0.36036,     0.36136,     0.36236,     0.36336,     0.36436,     0.36537,     0.36637,     0.36737,     0.36837,     0.36937,     0.37037,     0.37137,     0.37237,     0.37337,     0.37437,     0.37538,     0.37638,     0.37738,     0.37838,     0.37938,     0.38038,     0.38138,     0.38238,     0.38338,\n",
              "           0.38438,     0.38539,     0.38639,     0.38739,     0.38839,     0.38939,     0.39039,     0.39139,     0.39239,     0.39339,     0.39439,      0.3954,      0.3964,      0.3974,      0.3984,      0.3994,      0.4004,      0.4014,      0.4024,      0.4034,      0.4044,     0.40541,     0.40641,     0.40741,\n",
              "           0.40841,     0.40941,     0.41041,     0.41141,     0.41241,     0.41341,     0.41441,     0.41542,     0.41642,     0.41742,     0.41842,     0.41942,     0.42042,     0.42142,     0.42242,     0.42342,     0.42442,     0.42543,     0.42643,     0.42743,     0.42843,     0.42943,     0.43043,     0.43143,\n",
              "           0.43243,     0.43343,     0.43443,     0.43544,     0.43644,     0.43744,     0.43844,     0.43944,     0.44044,     0.44144,     0.44244,     0.44344,     0.44444,     0.44545,     0.44645,     0.44745,     0.44845,     0.44945,     0.45045,     0.45145,     0.45245,     0.45345,     0.45445,     0.45546,\n",
              "           0.45646,     0.45746,     0.45846,     0.45946,     0.46046,     0.46146,     0.46246,     0.46346,     0.46446,     0.46547,     0.46647,     0.46747,     0.46847,     0.46947,     0.47047,     0.47147,     0.47247,     0.47347,     0.47447,     0.47548,     0.47648,     0.47748,     0.47848,     0.47948,\n",
              "           0.48048,     0.48148,     0.48248,     0.48348,     0.48448,     0.48549,     0.48649,     0.48749,     0.48849,     0.48949,     0.49049,     0.49149,     0.49249,     0.49349,     0.49449,      0.4955,      0.4965,      0.4975,      0.4985,      0.4995,      0.5005,      0.5015,      0.5025,      0.5035,\n",
              "            0.5045,     0.50551,     0.50651,     0.50751,     0.50851,     0.50951,     0.51051,     0.51151,     0.51251,     0.51351,     0.51451,     0.51552,     0.51652,     0.51752,     0.51852,     0.51952,     0.52052,     0.52152,     0.52252,     0.52352,     0.52452,     0.52553,     0.52653,     0.52753,\n",
              "           0.52853,     0.52953,     0.53053,     0.53153,     0.53253,     0.53353,     0.53453,     0.53554,     0.53654,     0.53754,     0.53854,     0.53954,     0.54054,     0.54154,     0.54254,     0.54354,     0.54454,     0.54555,     0.54655,     0.54755,     0.54855,     0.54955,     0.55055,     0.55155,\n",
              "           0.55255,     0.55355,     0.55455,     0.55556,     0.55656,     0.55756,     0.55856,     0.55956,     0.56056,     0.56156,     0.56256,     0.56356,     0.56456,     0.56557,     0.56657,     0.56757,     0.56857,     0.56957,     0.57057,     0.57157,     0.57257,     0.57357,     0.57457,     0.57558,\n",
              "           0.57658,     0.57758,     0.57858,     0.57958,     0.58058,     0.58158,     0.58258,     0.58358,     0.58458,     0.58559,     0.58659,     0.58759,     0.58859,     0.58959,     0.59059,     0.59159,     0.59259,     0.59359,     0.59459,      0.5956,      0.5966,      0.5976,      0.5986,      0.5996,\n",
              "            0.6006,      0.6016,      0.6026,      0.6036,      0.6046,     0.60561,     0.60661,     0.60761,     0.60861,     0.60961,     0.61061,     0.61161,     0.61261,     0.61361,     0.61461,     0.61562,     0.61662,     0.61762,     0.61862,     0.61962,     0.62062,     0.62162,     0.62262,     0.62362,\n",
              "           0.62462,     0.62563,     0.62663,     0.62763,     0.62863,     0.62963,     0.63063,     0.63163,     0.63263,     0.63363,     0.63463,     0.63564,     0.63664,     0.63764,     0.63864,     0.63964,     0.64064,     0.64164,     0.64264,     0.64364,     0.64464,     0.64565,     0.64665,     0.64765,\n",
              "           0.64865,     0.64965,     0.65065,     0.65165,     0.65265,     0.65365,     0.65465,     0.65566,     0.65666,     0.65766,     0.65866,     0.65966,     0.66066,     0.66166,     0.66266,     0.66366,     0.66466,     0.66567,     0.66667,     0.66767,     0.66867,     0.66967,     0.67067,     0.67167,\n",
              "           0.67267,     0.67367,     0.67467,     0.67568,     0.67668,     0.67768,     0.67868,     0.67968,     0.68068,     0.68168,     0.68268,     0.68368,     0.68468,     0.68569,     0.68669,     0.68769,     0.68869,     0.68969,     0.69069,     0.69169,     0.69269,     0.69369,     0.69469,      0.6957,\n",
              "            0.6967,      0.6977,      0.6987,      0.6997,      0.7007,      0.7017,      0.7027,      0.7037,      0.7047,     0.70571,     0.70671,     0.70771,     0.70871,     0.70971,     0.71071,     0.71171,     0.71271,     0.71371,     0.71471,     0.71572,     0.71672,     0.71772,     0.71872,     0.71972,\n",
              "           0.72072,     0.72172,     0.72272,     0.72372,     0.72472,     0.72573,     0.72673,     0.72773,     0.72873,     0.72973,     0.73073,     0.73173,     0.73273,     0.73373,     0.73473,     0.73574,     0.73674,     0.73774,     0.73874,     0.73974,     0.74074,     0.74174,     0.74274,     0.74374,\n",
              "           0.74474,     0.74575,     0.74675,     0.74775,     0.74875,     0.74975,     0.75075,     0.75175,     0.75275,     0.75375,     0.75475,     0.75576,     0.75676,     0.75776,     0.75876,     0.75976,     0.76076,     0.76176,     0.76276,     0.76376,     0.76476,     0.76577,     0.76677,     0.76777,\n",
              "           0.76877,     0.76977,     0.77077,     0.77177,     0.77277,     0.77377,     0.77477,     0.77578,     0.77678,     0.77778,     0.77878,     0.77978,     0.78078,     0.78178,     0.78278,     0.78378,     0.78478,     0.78579,     0.78679,     0.78779,     0.78879,     0.78979,     0.79079,     0.79179,\n",
              "           0.79279,     0.79379,     0.79479,      0.7958,      0.7968,      0.7978,      0.7988,      0.7998,      0.8008,      0.8018,      0.8028,      0.8038,      0.8048,     0.80581,     0.80681,     0.80781,     0.80881,     0.80981,     0.81081,     0.81181,     0.81281,     0.81381,     0.81481,     0.81582,\n",
              "           0.81682,     0.81782,     0.81882,     0.81982,     0.82082,     0.82182,     0.82282,     0.82382,     0.82482,     0.82583,     0.82683,     0.82783,     0.82883,     0.82983,     0.83083,     0.83183,     0.83283,     0.83383,     0.83483,     0.83584,     0.83684,     0.83784,     0.83884,     0.83984,\n",
              "           0.84084,     0.84184,     0.84284,     0.84384,     0.84484,     0.84585,     0.84685,     0.84785,     0.84885,     0.84985,     0.85085,     0.85185,     0.85285,     0.85385,     0.85485,     0.85586,     0.85686,     0.85786,     0.85886,     0.85986,     0.86086,     0.86186,     0.86286,     0.86386,\n",
              "           0.86486,     0.86587,     0.86687,     0.86787,     0.86887,     0.86987,     0.87087,     0.87187,     0.87287,     0.87387,     0.87487,     0.87588,     0.87688,     0.87788,     0.87888,     0.87988,     0.88088,     0.88188,     0.88288,     0.88388,     0.88488,     0.88589,     0.88689,     0.88789,\n",
              "           0.88889,     0.88989,     0.89089,     0.89189,     0.89289,     0.89389,     0.89489,      0.8959,      0.8969,      0.8979,      0.8989,      0.8999,      0.9009,      0.9019,      0.9029,      0.9039,      0.9049,     0.90591,     0.90691,     0.90791,     0.90891,     0.90991,     0.91091,     0.91191,\n",
              "           0.91291,     0.91391,     0.91491,     0.91592,     0.91692,     0.91792,     0.91892,     0.91992,     0.92092,     0.92192,     0.92292,     0.92392,     0.92492,     0.92593,     0.92693,     0.92793,     0.92893,     0.92993,     0.93093,     0.93193,     0.93293,     0.93393,     0.93493,     0.93594,\n",
              "           0.93694,     0.93794,     0.93894,     0.93994,     0.94094,     0.94194,     0.94294,     0.94394,     0.94494,     0.94595,     0.94695,     0.94795,     0.94895,     0.94995,     0.95095,     0.95195,     0.95295,     0.95395,     0.95495,     0.95596,     0.95696,     0.95796,     0.95896,     0.95996,\n",
              "           0.96096,     0.96196,     0.96296,     0.96396,     0.96496,     0.96597,     0.96697,     0.96797,     0.96897,     0.96997,     0.97097,     0.97197,     0.97297,     0.97397,     0.97497,     0.97598,     0.97698,     0.97798,     0.97898,     0.97998,     0.98098,     0.98198,     0.98298,     0.98398,\n",
              "           0.98498,     0.98599,     0.98699,     0.98799,     0.98899,     0.98999,     0.99099,     0.99199,     0.99299,     0.99399,     0.99499,       0.996,       0.997,       0.998,       0.999,           1]), array([[    0.95935,     0.95935,     0.95664,     0.95664,     0.95664,     0.95122,     0.95122,     0.95122,      0.9458,      0.9458,      0.9458,      0.9458,      0.9458,      0.9458,      0.9458,      0.9458,      0.9458,      0.9458,      0.9458,      0.9458,      0.9458,      0.9458,      0.9458,\n",
              "             0.9458,      0.9458,     0.94482,     0.94092,     0.94038,     0.94038,     0.94038,     0.94038,     0.94038,     0.94038,     0.94038,     0.94038,     0.94038,     0.94038,     0.94038,     0.94038,     0.94038,     0.94038,     0.94038,     0.94038,     0.94038,     0.94038,     0.94038,\n",
              "            0.94038,     0.94038,     0.94038,     0.94038,     0.94038,     0.94038,     0.93767,     0.93767,     0.93767,     0.93767,     0.93767,     0.93767,     0.93767,     0.93767,     0.93767,     0.93718,     0.93557,     0.93496,     0.93496,     0.93496,     0.93496,     0.93496,     0.93496,\n",
              "            0.93496,     0.93496,     0.93496,     0.93449,     0.93247,     0.93225,     0.93225,     0.93225,     0.93225,     0.93225,     0.93225,     0.93225,     0.93225,     0.93225,     0.93225,     0.93225,     0.93225,     0.93225,     0.93225,     0.93225,     0.93225,     0.93225,     0.93225,\n",
              "            0.93225,     0.93225,     0.93225,     0.93225,     0.93225,     0.93225,     0.93225,     0.93225,     0.93225,     0.93225,     0.93225,     0.93225,     0.93165,     0.93051,     0.92954,     0.92954,     0.92954,     0.92954,     0.92954,     0.92954,     0.92954,     0.92954,     0.92954,\n",
              "            0.92954,     0.92954,     0.92954,     0.92954,     0.92954,     0.92954,     0.92954,     0.92954,     0.92954,     0.92906,     0.92855,     0.92805,     0.92754,     0.92704,     0.92661,     0.92623,     0.92585,     0.92548,      0.9251,     0.92472,     0.92435,     0.92401,     0.92372,\n",
              "            0.92343,     0.92314,     0.92285,     0.92256,     0.92227,     0.92199,      0.9217,     0.92141,     0.92141,     0.92141,     0.92141,     0.92141,     0.92141,     0.92141,     0.92141,     0.92141,     0.92141,     0.92141,     0.92141,     0.92141,     0.92141,     0.92141,     0.92141,\n",
              "            0.92141,      0.9187,      0.9187,      0.9187,      0.9187,      0.9187,      0.9187,      0.9187,     0.91801,     0.91719,     0.91637,     0.91599,     0.91599,     0.91599,     0.91596,     0.91585,     0.91575,     0.91564,     0.91553,     0.91542,     0.91531,      0.9152,      0.9151,\n",
              "            0.91499,     0.91488,     0.91477,     0.91466,     0.91455,     0.91444,     0.91434,     0.91423,     0.91412,     0.91401,      0.9139,     0.91379,     0.91369,     0.91358,     0.91347,     0.91336,     0.91328,     0.91328,     0.91328,     0.91328,     0.91328,     0.91328,     0.91328,\n",
              "            0.91328,     0.91328,     0.91328,     0.91319,     0.91294,     0.91269,     0.91244,     0.91219,     0.91194,     0.91169,     0.91144,     0.91119,     0.91094,     0.91069,     0.91043,     0.91017,      0.9099,     0.90964,     0.90937,     0.90911,     0.90884,     0.90858,     0.90832,\n",
              "            0.90805,     0.90786,     0.90786,     0.90786,     0.90786,     0.90786,     0.90786,     0.90786,     0.90786,     0.90786,     0.90786,     0.90786,     0.90786,     0.90786,     0.90786,     0.90786,     0.90786,     0.90786,     0.90786,     0.90689,     0.90588,     0.90515,     0.90515,\n",
              "            0.90515,     0.90515,     0.90515,     0.90515,     0.90515,     0.90515,     0.90515,     0.90515,     0.90515,     0.90515,     0.90515,     0.90515,     0.90515,     0.90515,     0.90515,     0.90515,     0.90515,     0.90515,     0.90515,     0.90515,     0.90515,     0.90515,     0.90515,\n",
              "            0.90515,     0.90515,     0.90515,     0.90515,     0.90515,     0.90515,     0.90515,     0.90515,     0.90515,     0.90515,     0.90515,     0.90515,     0.90515,     0.90515,     0.90515,     0.90515,     0.90515,     0.90515,     0.90515,     0.90515,     0.90515,     0.90515,     0.90515,\n",
              "            0.90515,     0.90515,     0.90515,     0.90515,     0.90515,     0.90515,     0.90515,     0.90515,     0.90515,     0.90512,     0.90499,     0.90486,     0.90473,     0.90459,     0.90446,     0.90433,      0.9042,     0.90406,     0.90393,      0.9038,     0.90367,     0.90353,      0.9034,\n",
              "            0.90327,     0.90314,     0.90301,     0.90287,     0.90274,     0.90261,     0.90248,     0.90244,     0.90244,     0.90244,     0.90244,     0.90244,     0.90244,     0.90244,     0.90244,     0.90244,     0.90212,     0.90053,     0.89973,     0.89973,     0.89973,     0.89964,     0.89953,\n",
              "            0.89941,      0.8993,     0.89919,     0.89908,     0.89896,     0.89885,     0.89874,     0.89863,     0.89852,      0.8984,     0.89829,     0.89818,     0.89807,     0.89795,     0.89784,     0.89773,     0.89762,     0.89751,     0.89739,     0.89728,     0.89717,     0.89706,     0.89673,\n",
              "            0.89631,     0.89588,     0.89545,     0.89502,      0.8946,     0.89431,     0.89431,     0.89431,     0.89431,     0.89431,     0.89431,     0.89431,     0.89431,     0.89431,     0.89431,     0.89431,     0.89431,     0.89431,     0.89431,     0.89431,     0.89431,     0.89431,     0.89431,\n",
              "            0.89431,     0.89431,     0.89431,     0.89431,     0.89431,     0.89431,     0.89431,     0.89431,     0.89431,     0.89431,     0.89431,     0.89408,      0.8938,     0.89351,     0.89323,     0.89294,     0.89266,     0.89237,     0.89209,      0.8918,     0.89148,     0.89107,     0.89066,\n",
              "            0.89025,     0.88984,     0.88943,     0.88902,     0.88889,      0.8869,     0.88618,     0.88618,     0.88618,     0.88618,     0.88618,     0.88618,     0.88618,     0.88618,     0.88618,     0.88618,     0.88618,     0.88618,     0.88618,     0.88618,     0.88618,     0.88618,     0.88618,\n",
              "            0.88618,     0.88618,     0.88618,     0.88618,     0.88618,     0.88508,     0.88369,     0.88347,     0.88347,     0.88347,     0.88347,     0.88347,     0.88347,     0.88347,     0.88347,     0.88347,     0.88347,     0.88347,     0.88347,     0.88347,     0.88347,     0.88347,     0.88347,\n",
              "            0.88347,     0.88347,     0.88347,     0.88347,     0.88347,     0.88347,     0.88347,     0.88347,     0.88347,     0.88347,     0.88347,     0.88347,     0.88347,     0.88347,     0.88347,     0.88347,     0.88328,     0.88307,     0.88285,     0.88264,     0.88242,     0.88221,       0.882,\n",
              "            0.88178,     0.88157,     0.88136,     0.88114,     0.88093,     0.88076,     0.88076,     0.88076,     0.88076,     0.88076,     0.88076,     0.88076,     0.88076,     0.88076,     0.88076,     0.88076,     0.88076,     0.88076,     0.88076,     0.88076,     0.88076,     0.88076,     0.88076,\n",
              "            0.88076,     0.88076,     0.88076,     0.88076,     0.88076,     0.88076,     0.88076,     0.88076,     0.88076,     0.88076,     0.88076,     0.87991,     0.87899,     0.87806,     0.87805,     0.87805,     0.87805,     0.87805,     0.87805,     0.87805,     0.87805,     0.87799,     0.87764,\n",
              "            0.87729,     0.87694,      0.8766,     0.87625,      0.8759,     0.87555,     0.87429,     0.87263,     0.87263,     0.87263,     0.87263,     0.87263,     0.87263,     0.87263,     0.87263,     0.87263,     0.87263,     0.87263,     0.87263,     0.87263,     0.87263,     0.87263,     0.87263,\n",
              "            0.87263,     0.87263,     0.87263,     0.87263,     0.87263,     0.87263,     0.87263,     0.87263,     0.87263,     0.87263,     0.87263,     0.87263,     0.87263,     0.87263,     0.87263,     0.87263,     0.87263,     0.87263,     0.87246,     0.87222,     0.87199,     0.87176,     0.87153,\n",
              "             0.8713,     0.87107,     0.87084,      0.8706,     0.87037,     0.87014,     0.86992,     0.86992,     0.86992,     0.86992,     0.86992,     0.86992,     0.86992,     0.86992,     0.86992,     0.86992,     0.86992,     0.86992,     0.86992,     0.86992,     0.86992,     0.86992,     0.86992,\n",
              "            0.86992,     0.86992,     0.86992,     0.86992,     0.86992,     0.86992,     0.86936,     0.86844,     0.86751,     0.86721,     0.86721,     0.86721,     0.86721,     0.86721,     0.86721,     0.86721,     0.86721,     0.86721,     0.86721,     0.86721,     0.86721,     0.86721,     0.86721,\n",
              "            0.86721,     0.86721,     0.86721,     0.86721,     0.86721,     0.86721,     0.86721,     0.86721,     0.86721,     0.86721,     0.86721,     0.86721,     0.86721,     0.86721,     0.86721,     0.86721,     0.86721,     0.86721,     0.86721,     0.86721,     0.86721,     0.86721,     0.86721,\n",
              "            0.86721,     0.86721,     0.86721,     0.86721,     0.86721,     0.86676,     0.86614,     0.86553,     0.86491,     0.86442,     0.86418,     0.86394,     0.86369,     0.86345,     0.86321,     0.86297,     0.86273,     0.86249,     0.86224,       0.862,     0.86176,     0.86149,     0.86123,\n",
              "            0.86096,      0.8607,     0.86044,     0.86017,     0.85991,     0.85964,     0.85938,     0.85911,     0.85908,     0.85808,     0.85697,     0.85637,     0.85637,     0.85637,     0.85637,     0.85637,      0.8562,     0.85435,     0.85095,     0.85095,     0.85095,     0.85095,     0.85095,\n",
              "            0.85095,     0.85095,     0.85095,     0.85095,     0.85095,     0.85081,     0.85044,     0.85007,      0.8497,     0.84933,     0.84895,     0.84858,     0.84824,     0.84824,     0.84824,     0.84824,     0.84824,     0.84824,     0.84824,     0.84824,     0.84517,     0.84378,      0.8426,\n",
              "            0.84191,     0.84121,     0.84052,     0.83988,     0.83933,     0.83877,     0.83822,     0.83766,     0.83469,     0.83469,     0.83469,     0.83469,     0.83469,     0.83469,     0.83469,     0.83469,     0.83198,     0.83198,     0.83198,     0.82869,     0.82684,      0.8242,     0.82288,\n",
              "            0.82177,     0.82102,     0.82074,     0.82046,     0.82018,     0.81991,     0.81963,     0.81935,     0.81907,      0.8188,     0.81852,      0.8178,     0.81688,     0.81595,     0.81162,     0.81003,     0.80911,     0.80818,     0.80741,      0.8069,      0.8064,     0.80589,     0.80539,\n",
              "            0.80488,     0.80216,     0.80146,     0.80077,     0.80007,     0.79933,     0.79822,     0.79711,     0.79278,     0.79103,     0.78964,     0.78862,     0.78862,     0.78862,     0.78675,     0.78523,     0.78444,     0.78365,     0.78079,     0.78049,     0.78049,     0.77938,     0.77827,\n",
              "            0.77623,     0.77507,     0.77423,     0.77284,     0.76965,     0.76965,     0.76921,      0.7686,     0.76798,     0.76736,     0.76423,     0.76423,     0.76034,     0.75895,     0.75173,     0.74987,     0.74802,     0.74075,     0.73927,     0.73816,       0.737,     0.73515,     0.73274,\n",
              "             0.7288,     0.72741,      0.7171,     0.70612,     0.69988,     0.69564,     0.69453,      0.6929,     0.68797,     0.68686,     0.68575,     0.67939,     0.67846,     0.67753,     0.67481,     0.67203,     0.66913,     0.65815,     0.64976,     0.64865,     0.64459,     0.63593,     0.62566,\n",
              "            0.62381,     0.61384,     0.60558,     0.60076,     0.59965,     0.59433,     0.58436,     0.57509,     0.55598,     0.54391,     0.54206,     0.53119,     0.51891,     0.51207,     0.50639,     0.49812,     0.49035,     0.48896,     0.48417,     0.46966,     0.46011,     0.45733,      0.4511,\n",
              "            0.44555,     0.43186,     0.41912,     0.41533,     0.40407,     0.39452,     0.39053,     0.38227,     0.37129,     0.35768,     0.35583,     0.35075,     0.33823,     0.32769,     0.32584,     0.31405,      0.3122,      0.2969,     0.29135,     0.27766,     0.26668,     0.26336,     0.25286,\n",
              "            0.23918,     0.23605,     0.22536,     0.21709,      0.2034,     0.19514,     0.17603,     0.16777,     0.15699,     0.15395,     0.14601,     0.14012,       0.137,     0.13443,     0.12812,     0.12061,     0.11037,     0.10679,     0.10346,    0.098388,    0.095197,    0.089987,    0.079011,\n",
              "           0.070746,    0.067825,    0.065949,     0.06227,    0.059363,    0.048682,    0.047293,    0.045976,    0.045182,    0.044388,    0.043595,    0.042381,    0.040992,    0.033752,    0.028196,    0.023515,    0.021052,      0.0192,    0.016537,    0.015426,      0.0145,    0.013575,      0.0103,\n",
              "          0.0091891,      0.0054,   0.0049727,   0.0045453,   0.0041179,   0.0036906,   0.0032632,   0.0028359,           0,           0,           0,           0,           0,           0,           0,           0,           0,           0,           0,           0,           0,           0,           0,\n",
              "                  0,           0,           0,           0,           0,           0,           0,           0,           0,           0,           0,           0,           0,           0,           0,           0,           0,           0,           0,           0,           0,           0,           0,\n",
              "                  0,           0,           0,           0,           0,           0,           0,           0,           0,           0,           0,           0,           0,           0,           0,           0,           0,           0,           0,           0,           0,           0,           0,\n",
              "                  0,           0,           0,           0,           0,           0,           0,           0,           0,           0,           0]]), 'Confidence', 'Recall']]\n",
              "fitness: 0.6034199579161033\n",
              "keys: ['metrics/precision(B)', 'metrics/recall(B)', 'metrics/mAP50(B)', 'metrics/mAP50-95(B)']\n",
              "maps: array([    0.56548])\n",
              "names: {0: 'drone'}\n",
              "plot: True\n",
              "results_dict: {'metrics/precision(B)': 0.9387238974635824, 'metrics/recall(B)': 0.8672086720867209, 'metrics/mAP50(B)': 0.9449082009717139, 'metrics/mAP50-95(B)': 0.5654768197988133, 'fitness': 0.6034199579161033}\n",
              "save_dir: PosixPath('runs/detect/train')\n",
              "speed: {'preprocess': 0.23969930599333575, 'inference': 2.1901213126498615, 'loss': 0.0005847095412548406, 'postprocess': 2.6163546427526114}\n",
              "task: 'detect'"
            ]
          },
          "execution_count": 5,
          "metadata": {},
          "output_type": "execute_result"
        }
      ],
      "source": [
        "from ultralytics import YOLO\n",
        "\n",
        "# مسیر فایل YAML\n",
        "data_yaml_path = f'{dataset_path}/data.yaml'\n",
        "\n",
        "# بارگذاری مدل\n",
        "model = YOLO('yolov8n.pt')\n",
        "\n",
        "# آموزش مدل\n",
        "model.train(data=data_yaml_path, epochs=100, imgsz=640)\n"
      ]
    },
    {
      "cell_type": "code",
      "execution_count": 6,
      "metadata": {
        "colab": {
          "base_uri": "https://localhost:8080/"
        },
        "id": "29QAlWW36A5Z",
        "outputId": "2ba99be8-fa4f-43d6-d7f0-861ce48505d6"
      },
      "outputs": [
        {
          "name": "stdout",
          "output_type": "stream",
          "text": [
            "Ultralytics YOLOv8.2.64 🚀 Python-3.10.12 torch-2.3.1+cu121 CUDA:0 (Tesla T4, 15102MiB)\n",
            "Model summary (fused): 168 layers, 3,005,843 parameters, 0 gradients, 8.1 GFLOPs\n"
          ]
        },
        {
          "name": "stderr",
          "output_type": "stream",
          "text": [
            "\u001b[34m\u001b[1mval: \u001b[0mScanning /content/drive/MyDrive/archive_3/valid/labels.cache... 347 images, 0 backgrounds, 0 corrupt: 100%|██████████| 347/347 [00:00<?, ?it/s]\n",
            "/usr/lib/python3.10/multiprocessing/popen_fork.py:66: RuntimeWarning: os.fork() was called. os.fork() is incompatible with multithreaded code, and JAX is multithreaded, so this will likely lead to a deadlock.\n",
            "  self.pid = os.fork()\n",
            "                 Class     Images  Instances      Box(P          R      mAP50  mAP50-95): 100%|██████████| 22/22 [00:15<00:00,  1.39it/s]\n"
          ]
        },
        {
          "name": "stdout",
          "output_type": "stream",
          "text": [
            "                   all        347        369      0.941      0.867      0.945      0.565\n",
            "Speed: 0.3ms preprocess, 10.3ms inference, 0.0ms loss, 3.6ms postprocess per image\n",
            "Results saved to \u001b[1mruns/detect/train2\u001b[0m\n",
            "ultralytics.utils.metrics.DetMetrics object with attributes:\n",
            "\n",
            "ap_class_index: array([0])\n",
            "box: ultralytics.utils.metrics.Metric object\n",
            "confusion_matrix: <ultralytics.utils.metrics.ConfusionMatrix object at 0x7ba5dd4d6080>\n",
            "curves: ['Precision-Recall(B)', 'F1-Confidence(B)', 'Precision-Confidence(B)', 'Recall-Confidence(B)']\n",
            "curves_results: [[array([          0,    0.001001,    0.002002,    0.003003,    0.004004,    0.005005,    0.006006,    0.007007,    0.008008,    0.009009,     0.01001,    0.011011,    0.012012,    0.013013,    0.014014,    0.015015,    0.016016,    0.017017,    0.018018,    0.019019,     0.02002,    0.021021,    0.022022,    0.023023,\n",
            "          0.024024,    0.025025,    0.026026,    0.027027,    0.028028,    0.029029,     0.03003,    0.031031,    0.032032,    0.033033,    0.034034,    0.035035,    0.036036,    0.037037,    0.038038,    0.039039,     0.04004,    0.041041,    0.042042,    0.043043,    0.044044,    0.045045,    0.046046,    0.047047,\n",
            "          0.048048,    0.049049,     0.05005,    0.051051,    0.052052,    0.053053,    0.054054,    0.055055,    0.056056,    0.057057,    0.058058,    0.059059,     0.06006,    0.061061,    0.062062,    0.063063,    0.064064,    0.065065,    0.066066,    0.067067,    0.068068,    0.069069,     0.07007,    0.071071,\n",
            "          0.072072,    0.073073,    0.074074,    0.075075,    0.076076,    0.077077,    0.078078,    0.079079,     0.08008,    0.081081,    0.082082,    0.083083,    0.084084,    0.085085,    0.086086,    0.087087,    0.088088,    0.089089,     0.09009,    0.091091,    0.092092,    0.093093,    0.094094,    0.095095,\n",
            "          0.096096,    0.097097,    0.098098,    0.099099,      0.1001,      0.1011,      0.1021,      0.1031,      0.1041,     0.10511,     0.10611,     0.10711,     0.10811,     0.10911,     0.11011,     0.11111,     0.11211,     0.11311,     0.11411,     0.11512,     0.11612,     0.11712,     0.11812,     0.11912,\n",
            "           0.12012,     0.12112,     0.12212,     0.12312,     0.12412,     0.12513,     0.12613,     0.12713,     0.12813,     0.12913,     0.13013,     0.13113,     0.13213,     0.13313,     0.13413,     0.13514,     0.13614,     0.13714,     0.13814,     0.13914,     0.14014,     0.14114,     0.14214,     0.14314,\n",
            "           0.14414,     0.14515,     0.14615,     0.14715,     0.14815,     0.14915,     0.15015,     0.15115,     0.15215,     0.15315,     0.15415,     0.15516,     0.15616,     0.15716,     0.15816,     0.15916,     0.16016,     0.16116,     0.16216,     0.16316,     0.16416,     0.16517,     0.16617,     0.16717,\n",
            "           0.16817,     0.16917,     0.17017,     0.17117,     0.17217,     0.17317,     0.17417,     0.17518,     0.17618,     0.17718,     0.17818,     0.17918,     0.18018,     0.18118,     0.18218,     0.18318,     0.18418,     0.18519,     0.18619,     0.18719,     0.18819,     0.18919,     0.19019,     0.19119,\n",
            "           0.19219,     0.19319,     0.19419,      0.1952,      0.1962,      0.1972,      0.1982,      0.1992,      0.2002,      0.2012,      0.2022,      0.2032,      0.2042,     0.20521,     0.20621,     0.20721,     0.20821,     0.20921,     0.21021,     0.21121,     0.21221,     0.21321,     0.21421,     0.21522,\n",
            "           0.21622,     0.21722,     0.21822,     0.21922,     0.22022,     0.22122,     0.22222,     0.22322,     0.22422,     0.22523,     0.22623,     0.22723,     0.22823,     0.22923,     0.23023,     0.23123,     0.23223,     0.23323,     0.23423,     0.23524,     0.23624,     0.23724,     0.23824,     0.23924,\n",
            "           0.24024,     0.24124,     0.24224,     0.24324,     0.24424,     0.24525,     0.24625,     0.24725,     0.24825,     0.24925,     0.25025,     0.25125,     0.25225,     0.25325,     0.25425,     0.25526,     0.25626,     0.25726,     0.25826,     0.25926,     0.26026,     0.26126,     0.26226,     0.26326,\n",
            "           0.26426,     0.26527,     0.26627,     0.26727,     0.26827,     0.26927,     0.27027,     0.27127,     0.27227,     0.27327,     0.27427,     0.27528,     0.27628,     0.27728,     0.27828,     0.27928,     0.28028,     0.28128,     0.28228,     0.28328,     0.28428,     0.28529,     0.28629,     0.28729,\n",
            "           0.28829,     0.28929,     0.29029,     0.29129,     0.29229,     0.29329,     0.29429,      0.2953,      0.2963,      0.2973,      0.2983,      0.2993,      0.3003,      0.3013,      0.3023,      0.3033,      0.3043,     0.30531,     0.30631,     0.30731,     0.30831,     0.30931,     0.31031,     0.31131,\n",
            "           0.31231,     0.31331,     0.31431,     0.31532,     0.31632,     0.31732,     0.31832,     0.31932,     0.32032,     0.32132,     0.32232,     0.32332,     0.32432,     0.32533,     0.32633,     0.32733,     0.32833,     0.32933,     0.33033,     0.33133,     0.33233,     0.33333,     0.33433,     0.33534,\n",
            "           0.33634,     0.33734,     0.33834,     0.33934,     0.34034,     0.34134,     0.34234,     0.34334,     0.34434,     0.34535,     0.34635,     0.34735,     0.34835,     0.34935,     0.35035,     0.35135,     0.35235,     0.35335,     0.35435,     0.35536,     0.35636,     0.35736,     0.35836,     0.35936,\n",
            "           0.36036,     0.36136,     0.36236,     0.36336,     0.36436,     0.36537,     0.36637,     0.36737,     0.36837,     0.36937,     0.37037,     0.37137,     0.37237,     0.37337,     0.37437,     0.37538,     0.37638,     0.37738,     0.37838,     0.37938,     0.38038,     0.38138,     0.38238,     0.38338,\n",
            "           0.38438,     0.38539,     0.38639,     0.38739,     0.38839,     0.38939,     0.39039,     0.39139,     0.39239,     0.39339,     0.39439,      0.3954,      0.3964,      0.3974,      0.3984,      0.3994,      0.4004,      0.4014,      0.4024,      0.4034,      0.4044,     0.40541,     0.40641,     0.40741,\n",
            "           0.40841,     0.40941,     0.41041,     0.41141,     0.41241,     0.41341,     0.41441,     0.41542,     0.41642,     0.41742,     0.41842,     0.41942,     0.42042,     0.42142,     0.42242,     0.42342,     0.42442,     0.42543,     0.42643,     0.42743,     0.42843,     0.42943,     0.43043,     0.43143,\n",
            "           0.43243,     0.43343,     0.43443,     0.43544,     0.43644,     0.43744,     0.43844,     0.43944,     0.44044,     0.44144,     0.44244,     0.44344,     0.44444,     0.44545,     0.44645,     0.44745,     0.44845,     0.44945,     0.45045,     0.45145,     0.45245,     0.45345,     0.45445,     0.45546,\n",
            "           0.45646,     0.45746,     0.45846,     0.45946,     0.46046,     0.46146,     0.46246,     0.46346,     0.46446,     0.46547,     0.46647,     0.46747,     0.46847,     0.46947,     0.47047,     0.47147,     0.47247,     0.47347,     0.47447,     0.47548,     0.47648,     0.47748,     0.47848,     0.47948,\n",
            "           0.48048,     0.48148,     0.48248,     0.48348,     0.48448,     0.48549,     0.48649,     0.48749,     0.48849,     0.48949,     0.49049,     0.49149,     0.49249,     0.49349,     0.49449,      0.4955,      0.4965,      0.4975,      0.4985,      0.4995,      0.5005,      0.5015,      0.5025,      0.5035,\n",
            "            0.5045,     0.50551,     0.50651,     0.50751,     0.50851,     0.50951,     0.51051,     0.51151,     0.51251,     0.51351,     0.51451,     0.51552,     0.51652,     0.51752,     0.51852,     0.51952,     0.52052,     0.52152,     0.52252,     0.52352,     0.52452,     0.52553,     0.52653,     0.52753,\n",
            "           0.52853,     0.52953,     0.53053,     0.53153,     0.53253,     0.53353,     0.53453,     0.53554,     0.53654,     0.53754,     0.53854,     0.53954,     0.54054,     0.54154,     0.54254,     0.54354,     0.54454,     0.54555,     0.54655,     0.54755,     0.54855,     0.54955,     0.55055,     0.55155,\n",
            "           0.55255,     0.55355,     0.55455,     0.55556,     0.55656,     0.55756,     0.55856,     0.55956,     0.56056,     0.56156,     0.56256,     0.56356,     0.56456,     0.56557,     0.56657,     0.56757,     0.56857,     0.56957,     0.57057,     0.57157,     0.57257,     0.57357,     0.57457,     0.57558,\n",
            "           0.57658,     0.57758,     0.57858,     0.57958,     0.58058,     0.58158,     0.58258,     0.58358,     0.58458,     0.58559,     0.58659,     0.58759,     0.58859,     0.58959,     0.59059,     0.59159,     0.59259,     0.59359,     0.59459,      0.5956,      0.5966,      0.5976,      0.5986,      0.5996,\n",
            "            0.6006,      0.6016,      0.6026,      0.6036,      0.6046,     0.60561,     0.60661,     0.60761,     0.60861,     0.60961,     0.61061,     0.61161,     0.61261,     0.61361,     0.61461,     0.61562,     0.61662,     0.61762,     0.61862,     0.61962,     0.62062,     0.62162,     0.62262,     0.62362,\n",
            "           0.62462,     0.62563,     0.62663,     0.62763,     0.62863,     0.62963,     0.63063,     0.63163,     0.63263,     0.63363,     0.63463,     0.63564,     0.63664,     0.63764,     0.63864,     0.63964,     0.64064,     0.64164,     0.64264,     0.64364,     0.64464,     0.64565,     0.64665,     0.64765,\n",
            "           0.64865,     0.64965,     0.65065,     0.65165,     0.65265,     0.65365,     0.65465,     0.65566,     0.65666,     0.65766,     0.65866,     0.65966,     0.66066,     0.66166,     0.66266,     0.66366,     0.66466,     0.66567,     0.66667,     0.66767,     0.66867,     0.66967,     0.67067,     0.67167,\n",
            "           0.67267,     0.67367,     0.67467,     0.67568,     0.67668,     0.67768,     0.67868,     0.67968,     0.68068,     0.68168,     0.68268,     0.68368,     0.68468,     0.68569,     0.68669,     0.68769,     0.68869,     0.68969,     0.69069,     0.69169,     0.69269,     0.69369,     0.69469,      0.6957,\n",
            "            0.6967,      0.6977,      0.6987,      0.6997,      0.7007,      0.7017,      0.7027,      0.7037,      0.7047,     0.70571,     0.70671,     0.70771,     0.70871,     0.70971,     0.71071,     0.71171,     0.71271,     0.71371,     0.71471,     0.71572,     0.71672,     0.71772,     0.71872,     0.71972,\n",
            "           0.72072,     0.72172,     0.72272,     0.72372,     0.72472,     0.72573,     0.72673,     0.72773,     0.72873,     0.72973,     0.73073,     0.73173,     0.73273,     0.73373,     0.73473,     0.73574,     0.73674,     0.73774,     0.73874,     0.73974,     0.74074,     0.74174,     0.74274,     0.74374,\n",
            "           0.74474,     0.74575,     0.74675,     0.74775,     0.74875,     0.74975,     0.75075,     0.75175,     0.75275,     0.75375,     0.75475,     0.75576,     0.75676,     0.75776,     0.75876,     0.75976,     0.76076,     0.76176,     0.76276,     0.76376,     0.76476,     0.76577,     0.76677,     0.76777,\n",
            "           0.76877,     0.76977,     0.77077,     0.77177,     0.77277,     0.77377,     0.77477,     0.77578,     0.77678,     0.77778,     0.77878,     0.77978,     0.78078,     0.78178,     0.78278,     0.78378,     0.78478,     0.78579,     0.78679,     0.78779,     0.78879,     0.78979,     0.79079,     0.79179,\n",
            "           0.79279,     0.79379,     0.79479,      0.7958,      0.7968,      0.7978,      0.7988,      0.7998,      0.8008,      0.8018,      0.8028,      0.8038,      0.8048,     0.80581,     0.80681,     0.80781,     0.80881,     0.80981,     0.81081,     0.81181,     0.81281,     0.81381,     0.81481,     0.81582,\n",
            "           0.81682,     0.81782,     0.81882,     0.81982,     0.82082,     0.82182,     0.82282,     0.82382,     0.82482,     0.82583,     0.82683,     0.82783,     0.82883,     0.82983,     0.83083,     0.83183,     0.83283,     0.83383,     0.83483,     0.83584,     0.83684,     0.83784,     0.83884,     0.83984,\n",
            "           0.84084,     0.84184,     0.84284,     0.84384,     0.84484,     0.84585,     0.84685,     0.84785,     0.84885,     0.84985,     0.85085,     0.85185,     0.85285,     0.85385,     0.85485,     0.85586,     0.85686,     0.85786,     0.85886,     0.85986,     0.86086,     0.86186,     0.86286,     0.86386,\n",
            "           0.86486,     0.86587,     0.86687,     0.86787,     0.86887,     0.86987,     0.87087,     0.87187,     0.87287,     0.87387,     0.87487,     0.87588,     0.87688,     0.87788,     0.87888,     0.87988,     0.88088,     0.88188,     0.88288,     0.88388,     0.88488,     0.88589,     0.88689,     0.88789,\n",
            "           0.88889,     0.88989,     0.89089,     0.89189,     0.89289,     0.89389,     0.89489,      0.8959,      0.8969,      0.8979,      0.8989,      0.8999,      0.9009,      0.9019,      0.9029,      0.9039,      0.9049,     0.90591,     0.90691,     0.90791,     0.90891,     0.90991,     0.91091,     0.91191,\n",
            "           0.91291,     0.91391,     0.91491,     0.91592,     0.91692,     0.91792,     0.91892,     0.91992,     0.92092,     0.92192,     0.92292,     0.92392,     0.92492,     0.92593,     0.92693,     0.92793,     0.92893,     0.92993,     0.93093,     0.93193,     0.93293,     0.93393,     0.93493,     0.93594,\n",
            "           0.93694,     0.93794,     0.93894,     0.93994,     0.94094,     0.94194,     0.94294,     0.94394,     0.94494,     0.94595,     0.94695,     0.94795,     0.94895,     0.94995,     0.95095,     0.95195,     0.95295,     0.95395,     0.95495,     0.95596,     0.95696,     0.95796,     0.95896,     0.95996,\n",
            "           0.96096,     0.96196,     0.96296,     0.96396,     0.96496,     0.96597,     0.96697,     0.96797,     0.96897,     0.96997,     0.97097,     0.97197,     0.97297,     0.97397,     0.97497,     0.97598,     0.97698,     0.97798,     0.97898,     0.97998,     0.98098,     0.98198,     0.98298,     0.98398,\n",
            "           0.98498,     0.98599,     0.98699,     0.98799,     0.98899,     0.98999,     0.99099,     0.99199,     0.99299,     0.99399,     0.99499,       0.996,       0.997,       0.998,       0.999,           1]), array([[          1,           1,           1,           1,           1,           1,           1,           1,           1,           1,           1,           1,           1,           1,           1,           1,           1,           1,           1,           1,           1,           1,           1,\n",
            "                  1,           1,           1,           1,           1,           1,           1,           1,           1,           1,           1,           1,           1,           1,           1,           1,           1,           1,           1,           1,           1,           1,           1,\n",
            "                  1,           1,           1,           1,           1,           1,           1,           1,           1,           1,           1,           1,           1,           1,           1,           1,           1,           1,           1,           1,           1,           1,           1,\n",
            "                  1,           1,           1,           1,           1,           1,           1,           1,           1,           1,           1,           1,           1,           1,           1,           1,           1,           1,           1,           1,           1,           1,           1,\n",
            "                  1,           1,           1,           1,           1,           1,           1,           1,           1,           1,           1,           1,           1,           1,           1,           1,           1,           1,           1,           1,           1,           1,           1,\n",
            "                  1,           1,           1,           1,           1,           1,           1,           1,           1,           1,           1,           1,           1,           1,           1,           1,           1,           1,           1,           1,           1,           1,           1,\n",
            "                  1,           1,           1,           1,           1,           1,           1,           1,           1,           1,           1,           1,           1,           1,           1,           1,           1,           1,           1,           1,           1,           1,           1,\n",
            "                  1,           1,           1,           1,           1,           1,           1,           1,           1,           1,           1,           1,           1,           1,           1,           1,           1,           1,           1,           1,           1,           1,           1,\n",
            "                  1,           1,           1,           1,           1,           1,           1,           1,           1,           1,           1,           1,           1,           1,           1,           1,           1,           1,           1,           1,           1,           1,           1,\n",
            "                  1,           1,           1,           1,           1,           1,           1,           1,           1,           1,           1,           1,           1,           1,           1,           1,           1,           1,           1,           1,           1,           1,           1,\n",
            "                  1,           1,           1,           1,           1,           1,           1,           1,           1,           1,           1,           1,           1,           1,           1,           1,           1,           1,           1,           1,           1,           1,           1,\n",
            "                  1,           1,           1,           1,           1,           1,           1,           1,           1,           1,           1,           1,           1,           1,           1,           1,           1,           1,           1,           1,           1,           1,           1,\n",
            "                  1,           1,           1,           1,           1,           1,           1,           1,           1,           1,           1,           1,           1,           1,           1,           1,           1,           1,           1,           1,           1,           1,           1,\n",
            "                  1,           1,           1,           1,           1,           1,           1,           1,           1,           1,           1,           1,           1,           1,           1,           1,           1,           1,           1,           1,           1,           1,           1,\n",
            "                  1,           1,           1,           1,           1,           1,           1,           1,           1,           1,           1,           1,           1,           1,           1,           1,           1,           1,           1,           1,           1,           1,           1,\n",
            "                  1,           1,           1,           1,           1,           1,           1,           1,           1,           1,           1,           1,           1,           1,           1,           1,           1,           1,           1,           1,           1,           1,           1,\n",
            "                  1,           1,           1,           1,           1,           1,           1,           1,           1,           1,           1,           1,           1,           1,     0.99459,     0.99459,     0.99459,     0.99459,     0.99459,     0.99459,     0.99459,     0.99459,     0.99459,\n",
            "            0.99459,     0.99459,     0.99459,     0.99459,     0.99459,     0.99459,     0.99459,     0.99459,     0.99459,     0.99459,     0.99459,     0.99459,     0.99459,     0.99459,     0.99459,     0.99459,     0.99459,     0.99459,     0.99459,     0.99459,     0.99459,     0.99459,     0.99459,\n",
            "            0.99459,     0.99459,     0.99459,     0.99459,     0.99459,     0.99459,     0.99459,     0.99459,     0.99459,     0.99459,     0.99459,     0.99459,     0.99459,     0.99459,     0.99459,     0.99459,     0.99459,     0.99459,     0.99459,     0.99459,     0.99459,     0.99459,     0.99459,\n",
            "            0.99459,     0.99459,     0.99459,     0.99459,     0.99459,     0.99459,     0.99459,     0.99459,     0.99459,     0.99459,     0.99459,     0.99459,     0.99459,     0.99459,     0.99459,     0.99459,     0.99459,     0.99459,     0.99459,     0.99459,     0.99459,     0.99459,     0.99459,\n",
            "            0.99459,     0.99459,     0.99459,     0.99459,     0.99459,     0.99459,     0.99459,     0.99459,     0.99459,     0.99459,     0.99459,     0.99459,     0.99459,     0.99459,     0.99459,     0.99459,     0.99459,     0.99459,     0.99459,     0.99459,     0.99459,     0.99459,     0.99459,\n",
            "            0.99459,     0.99459,     0.99459,     0.99459,     0.99459,     0.99459,     0.99459,     0.99459,     0.99459,     0.99459,     0.99459,     0.99459,     0.99459,     0.99459,     0.99459,     0.99459,     0.99043,     0.99043,     0.99043,     0.99043,     0.99043,     0.99043,     0.99043,\n",
            "            0.99043,     0.99043,     0.99043,     0.99043,     0.99043,     0.99043,     0.99043,     0.99043,     0.99043,     0.99043,     0.99043,     0.99043,     0.99043,     0.99043,     0.99043,     0.99043,     0.99043,     0.99043,     0.99043,     0.99043,     0.99043,     0.99043,     0.99043,\n",
            "            0.99043,     0.99043,     0.99043,     0.99043,     0.99043,     0.99043,     0.99043,     0.99043,     0.99043,     0.99043,     0.99043,     0.99043,     0.99043,     0.99043,     0.99043,     0.99043,     0.99043,     0.99043,     0.99043,     0.99043,     0.99043,     0.99043,     0.99043,\n",
            "            0.99043,     0.99043,     0.99043,     0.99043,     0.99043,     0.99043,     0.99043,     0.99043,     0.99043,     0.98701,     0.98701,     0.98701,     0.98701,     0.98701,     0.98701,     0.98701,     0.98701,     0.98701,     0.98701,     0.98701,     0.98701,     0.98701,     0.98701,\n",
            "            0.98701,     0.98701,     0.98701,     0.98701,     0.98701,     0.98701,     0.98701,     0.98701,     0.98701,     0.98701,     0.98701,     0.98701,     0.98701,     0.98701,     0.98701,     0.98701,     0.98701,     0.98701,     0.98701,     0.98701,     0.98701,     0.98701,     0.98701,\n",
            "            0.98701,     0.98701,     0.98701,     0.98701,     0.98701,     0.98701,     0.98701,     0.98701,     0.98701,     0.98701,     0.98701,     0.98701,     0.98701,     0.98701,     0.98701,     0.98701,     0.98701,     0.98701,     0.98701,     0.98701,     0.98394,     0.98394,     0.98394,\n",
            "            0.98394,     0.98394,     0.98394,     0.98394,     0.98394,     0.98394,     0.98394,     0.98394,     0.98394,     0.98394,     0.98394,     0.98394,     0.98394,     0.98394,     0.98394,     0.98394,     0.98394,     0.98394,     0.98394,     0.98394,     0.98394,     0.98394,     0.98394,\n",
            "            0.98394,     0.98394,     0.98394,     0.98394,     0.98394,     0.98394,     0.98394,     0.98394,     0.98394,     0.98394,     0.98394,     0.98394,     0.98394,     0.98394,     0.98394,     0.98394,     0.98394,     0.98394,     0.98394,     0.98394,     0.98246,     0.98246,     0.98246,\n",
            "            0.98246,     0.98246,     0.98246,     0.98246,     0.98246,     0.98246,     0.98246,     0.98246,     0.98246,     0.98246,     0.98246,     0.98246,     0.98246,     0.98246,     0.98246,     0.98246,     0.98246,     0.98246,     0.98246,     0.98246,     0.98246,     0.98246,     0.98246,\n",
            "            0.98246,     0.98246,     0.98246,     0.98246,     0.98246,     0.98246,     0.98246,     0.98246,     0.98246,     0.98246,     0.98246,     0.98246,     0.98246,     0.98246,     0.98246,     0.98246,     0.98246,     0.98246,     0.98246,     0.98246,     0.98246,     0.98246,     0.98246,\n",
            "            0.98246,     0.98246,     0.98246,     0.98246,     0.98246,     0.98246,     0.98246,     0.98246,     0.98246,     0.98246,     0.98246,     0.98246,     0.98246,     0.98246,     0.98246,     0.98246,     0.98246,     0.98246,     0.98246,     0.98246,     0.98246,     0.98246,     0.98246,\n",
            "            0.98246,     0.98246,     0.98246,     0.98246,     0.98246,     0.98246,     0.98246,     0.98246,     0.98246,     0.98246,     0.98246,     0.98246,     0.98246,     0.98246,     0.98246,     0.98246,     0.98246,     0.98246,     0.98246,     0.98246,     0.98246,     0.98246,     0.98246,\n",
            "            0.97924,     0.97924,     0.97924,     0.97924,     0.97924,     0.97924,     0.97924,     0.97924,     0.97595,     0.97595,     0.97297,     0.97297,     0.97297,     0.97297,     0.97297,     0.97297,     0.97297,     0.97297,     0.97297,     0.97297,     0.97297,     0.97115,     0.97115,\n",
            "            0.97115,     0.97115,     0.97115,     0.97115,     0.97115,     0.97115,     0.97115,     0.97115,     0.97115,     0.97115,     0.97115,     0.97115,     0.97115,     0.97115,     0.97115,     0.97115,     0.97115,     0.97115,     0.97115,     0.97115,     0.97115,     0.97115,     0.97115,\n",
            "            0.97115,     0.97115,     0.97115,     0.97115,     0.97115,     0.97115,     0.97115,     0.97115,     0.97115,     0.97115,     0.97115,     0.97115,     0.97115,     0.97115,     0.97115,     0.97115,     0.96835,     0.96835,     0.96835,     0.96835,     0.96835,     0.96835,     0.96835,\n",
            "            0.96835,     0.96541,     0.96541,     0.96541,     0.96285,     0.96285,     0.96285,     0.96285,     0.96285,     0.96285,     0.96285,     0.96285,     0.96285,     0.96285,        0.96,        0.96,        0.96,     0.95732,     0.95732,     0.95732,     0.95732,     0.95732,     0.95732,\n",
            "            0.95455,     0.95455,     0.94611,     0.94611,     0.94611,     0.94395,     0.94395,     0.94395,     0.94395,     0.94395,     0.94395,     0.94395,     0.94395,     0.94395,     0.94395,     0.94395,     0.94135,     0.94135,     0.94135,     0.93333,     0.93333,     0.92857,     0.92857,\n",
            "            0.92857,     0.92857,     0.92857,     0.92857,     0.92857,     0.92857,     0.92351,     0.92351,     0.92351,     0.91854,     0.91854,     0.91854,     0.91111,     0.91111,     0.90909,     0.90909,     0.90909,     0.90909,     0.90909,     0.90909,     0.90437,     0.90437,     0.90437,\n",
            "            0.90217,     0.90217,         0.9,         0.9,         0.9,     0.89305,     0.89305,     0.89305,     0.88859,     0.88859,     0.87532,     0.87532,     0.87532,     0.87532,     0.87532,     0.87532,     0.87113,     0.87113,     0.87113,     0.86701,     0.86701,     0.86294,     0.86294,\n",
            "            0.86294,     0.85323,     0.85323,     0.85323,     0.85323,     0.85323,     0.85323,     0.85323,     0.85323,     0.84729,     0.84729,     0.84729,     0.83535,     0.83535,     0.83535,     0.82974,     0.82974,     0.82227,     0.82227,     0.82227,     0.77679,     0.77679,     0.77679,\n",
            "            0.77556,     0.77556,     0.68555,     0.68555,     0.68555,     0.68555,     0.68555,     0.68555,     0.65129,     0.65129,     0.65129,     0.65129,     0.65129,     0.45677,     0.45677,     0.45677,      0.3909,     0.38113,     0.37136,     0.36158,     0.35181,     0.34204,     0.33227,\n",
            "            0.32249,     0.31272,     0.30295,     0.29318,      0.2834,     0.27363,     0.26386,     0.25409,     0.24431,     0.23454,     0.22477,       0.215,     0.20522,     0.19545,     0.18568,     0.17591,     0.16613,     0.15636,     0.14659,     0.13682,     0.12704,     0.11727,      0.1075,\n",
            "           0.097726,    0.087953,     0.07818,    0.068408,    0.058635,    0.048863,     0.03909,    0.029318,    0.019545,   0.0097726,           0]]), 'Recall', 'Precision'], [array([          0,    0.001001,    0.002002,    0.003003,    0.004004,    0.005005,    0.006006,    0.007007,    0.008008,    0.009009,     0.01001,    0.011011,    0.012012,    0.013013,    0.014014,    0.015015,    0.016016,    0.017017,    0.018018,    0.019019,     0.02002,    0.021021,    0.022022,    0.023023,\n",
            "          0.024024,    0.025025,    0.026026,    0.027027,    0.028028,    0.029029,     0.03003,    0.031031,    0.032032,    0.033033,    0.034034,    0.035035,    0.036036,    0.037037,    0.038038,    0.039039,     0.04004,    0.041041,    0.042042,    0.043043,    0.044044,    0.045045,    0.046046,    0.047047,\n",
            "          0.048048,    0.049049,     0.05005,    0.051051,    0.052052,    0.053053,    0.054054,    0.055055,    0.056056,    0.057057,    0.058058,    0.059059,     0.06006,    0.061061,    0.062062,    0.063063,    0.064064,    0.065065,    0.066066,    0.067067,    0.068068,    0.069069,     0.07007,    0.071071,\n",
            "          0.072072,    0.073073,    0.074074,    0.075075,    0.076076,    0.077077,    0.078078,    0.079079,     0.08008,    0.081081,    0.082082,    0.083083,    0.084084,    0.085085,    0.086086,    0.087087,    0.088088,    0.089089,     0.09009,    0.091091,    0.092092,    0.093093,    0.094094,    0.095095,\n",
            "          0.096096,    0.097097,    0.098098,    0.099099,      0.1001,      0.1011,      0.1021,      0.1031,      0.1041,     0.10511,     0.10611,     0.10711,     0.10811,     0.10911,     0.11011,     0.11111,     0.11211,     0.11311,     0.11411,     0.11512,     0.11612,     0.11712,     0.11812,     0.11912,\n",
            "           0.12012,     0.12112,     0.12212,     0.12312,     0.12412,     0.12513,     0.12613,     0.12713,     0.12813,     0.12913,     0.13013,     0.13113,     0.13213,     0.13313,     0.13413,     0.13514,     0.13614,     0.13714,     0.13814,     0.13914,     0.14014,     0.14114,     0.14214,     0.14314,\n",
            "           0.14414,     0.14515,     0.14615,     0.14715,     0.14815,     0.14915,     0.15015,     0.15115,     0.15215,     0.15315,     0.15415,     0.15516,     0.15616,     0.15716,     0.15816,     0.15916,     0.16016,     0.16116,     0.16216,     0.16316,     0.16416,     0.16517,     0.16617,     0.16717,\n",
            "           0.16817,     0.16917,     0.17017,     0.17117,     0.17217,     0.17317,     0.17417,     0.17518,     0.17618,     0.17718,     0.17818,     0.17918,     0.18018,     0.18118,     0.18218,     0.18318,     0.18418,     0.18519,     0.18619,     0.18719,     0.18819,     0.18919,     0.19019,     0.19119,\n",
            "           0.19219,     0.19319,     0.19419,      0.1952,      0.1962,      0.1972,      0.1982,      0.1992,      0.2002,      0.2012,      0.2022,      0.2032,      0.2042,     0.20521,     0.20621,     0.20721,     0.20821,     0.20921,     0.21021,     0.21121,     0.21221,     0.21321,     0.21421,     0.21522,\n",
            "           0.21622,     0.21722,     0.21822,     0.21922,     0.22022,     0.22122,     0.22222,     0.22322,     0.22422,     0.22523,     0.22623,     0.22723,     0.22823,     0.22923,     0.23023,     0.23123,     0.23223,     0.23323,     0.23423,     0.23524,     0.23624,     0.23724,     0.23824,     0.23924,\n",
            "           0.24024,     0.24124,     0.24224,     0.24324,     0.24424,     0.24525,     0.24625,     0.24725,     0.24825,     0.24925,     0.25025,     0.25125,     0.25225,     0.25325,     0.25425,     0.25526,     0.25626,     0.25726,     0.25826,     0.25926,     0.26026,     0.26126,     0.26226,     0.26326,\n",
            "           0.26426,     0.26527,     0.26627,     0.26727,     0.26827,     0.26927,     0.27027,     0.27127,     0.27227,     0.27327,     0.27427,     0.27528,     0.27628,     0.27728,     0.27828,     0.27928,     0.28028,     0.28128,     0.28228,     0.28328,     0.28428,     0.28529,     0.28629,     0.28729,\n",
            "           0.28829,     0.28929,     0.29029,     0.29129,     0.29229,     0.29329,     0.29429,      0.2953,      0.2963,      0.2973,      0.2983,      0.2993,      0.3003,      0.3013,      0.3023,      0.3033,      0.3043,     0.30531,     0.30631,     0.30731,     0.30831,     0.30931,     0.31031,     0.31131,\n",
            "           0.31231,     0.31331,     0.31431,     0.31532,     0.31632,     0.31732,     0.31832,     0.31932,     0.32032,     0.32132,     0.32232,     0.32332,     0.32432,     0.32533,     0.32633,     0.32733,     0.32833,     0.32933,     0.33033,     0.33133,     0.33233,     0.33333,     0.33433,     0.33534,\n",
            "           0.33634,     0.33734,     0.33834,     0.33934,     0.34034,     0.34134,     0.34234,     0.34334,     0.34434,     0.34535,     0.34635,     0.34735,     0.34835,     0.34935,     0.35035,     0.35135,     0.35235,     0.35335,     0.35435,     0.35536,     0.35636,     0.35736,     0.35836,     0.35936,\n",
            "           0.36036,     0.36136,     0.36236,     0.36336,     0.36436,     0.36537,     0.36637,     0.36737,     0.36837,     0.36937,     0.37037,     0.37137,     0.37237,     0.37337,     0.37437,     0.37538,     0.37638,     0.37738,     0.37838,     0.37938,     0.38038,     0.38138,     0.38238,     0.38338,\n",
            "           0.38438,     0.38539,     0.38639,     0.38739,     0.38839,     0.38939,     0.39039,     0.39139,     0.39239,     0.39339,     0.39439,      0.3954,      0.3964,      0.3974,      0.3984,      0.3994,      0.4004,      0.4014,      0.4024,      0.4034,      0.4044,     0.40541,     0.40641,     0.40741,\n",
            "           0.40841,     0.40941,     0.41041,     0.41141,     0.41241,     0.41341,     0.41441,     0.41542,     0.41642,     0.41742,     0.41842,     0.41942,     0.42042,     0.42142,     0.42242,     0.42342,     0.42442,     0.42543,     0.42643,     0.42743,     0.42843,     0.42943,     0.43043,     0.43143,\n",
            "           0.43243,     0.43343,     0.43443,     0.43544,     0.43644,     0.43744,     0.43844,     0.43944,     0.44044,     0.44144,     0.44244,     0.44344,     0.44444,     0.44545,     0.44645,     0.44745,     0.44845,     0.44945,     0.45045,     0.45145,     0.45245,     0.45345,     0.45445,     0.45546,\n",
            "           0.45646,     0.45746,     0.45846,     0.45946,     0.46046,     0.46146,     0.46246,     0.46346,     0.46446,     0.46547,     0.46647,     0.46747,     0.46847,     0.46947,     0.47047,     0.47147,     0.47247,     0.47347,     0.47447,     0.47548,     0.47648,     0.47748,     0.47848,     0.47948,\n",
            "           0.48048,     0.48148,     0.48248,     0.48348,     0.48448,     0.48549,     0.48649,     0.48749,     0.48849,     0.48949,     0.49049,     0.49149,     0.49249,     0.49349,     0.49449,      0.4955,      0.4965,      0.4975,      0.4985,      0.4995,      0.5005,      0.5015,      0.5025,      0.5035,\n",
            "            0.5045,     0.50551,     0.50651,     0.50751,     0.50851,     0.50951,     0.51051,     0.51151,     0.51251,     0.51351,     0.51451,     0.51552,     0.51652,     0.51752,     0.51852,     0.51952,     0.52052,     0.52152,     0.52252,     0.52352,     0.52452,     0.52553,     0.52653,     0.52753,\n",
            "           0.52853,     0.52953,     0.53053,     0.53153,     0.53253,     0.53353,     0.53453,     0.53554,     0.53654,     0.53754,     0.53854,     0.53954,     0.54054,     0.54154,     0.54254,     0.54354,     0.54454,     0.54555,     0.54655,     0.54755,     0.54855,     0.54955,     0.55055,     0.55155,\n",
            "           0.55255,     0.55355,     0.55455,     0.55556,     0.55656,     0.55756,     0.55856,     0.55956,     0.56056,     0.56156,     0.56256,     0.56356,     0.56456,     0.56557,     0.56657,     0.56757,     0.56857,     0.56957,     0.57057,     0.57157,     0.57257,     0.57357,     0.57457,     0.57558,\n",
            "           0.57658,     0.57758,     0.57858,     0.57958,     0.58058,     0.58158,     0.58258,     0.58358,     0.58458,     0.58559,     0.58659,     0.58759,     0.58859,     0.58959,     0.59059,     0.59159,     0.59259,     0.59359,     0.59459,      0.5956,      0.5966,      0.5976,      0.5986,      0.5996,\n",
            "            0.6006,      0.6016,      0.6026,      0.6036,      0.6046,     0.60561,     0.60661,     0.60761,     0.60861,     0.60961,     0.61061,     0.61161,     0.61261,     0.61361,     0.61461,     0.61562,     0.61662,     0.61762,     0.61862,     0.61962,     0.62062,     0.62162,     0.62262,     0.62362,\n",
            "           0.62462,     0.62563,     0.62663,     0.62763,     0.62863,     0.62963,     0.63063,     0.63163,     0.63263,     0.63363,     0.63463,     0.63564,     0.63664,     0.63764,     0.63864,     0.63964,     0.64064,     0.64164,     0.64264,     0.64364,     0.64464,     0.64565,     0.64665,     0.64765,\n",
            "           0.64865,     0.64965,     0.65065,     0.65165,     0.65265,     0.65365,     0.65465,     0.65566,     0.65666,     0.65766,     0.65866,     0.65966,     0.66066,     0.66166,     0.66266,     0.66366,     0.66466,     0.66567,     0.66667,     0.66767,     0.66867,     0.66967,     0.67067,     0.67167,\n",
            "           0.67267,     0.67367,     0.67467,     0.67568,     0.67668,     0.67768,     0.67868,     0.67968,     0.68068,     0.68168,     0.68268,     0.68368,     0.68468,     0.68569,     0.68669,     0.68769,     0.68869,     0.68969,     0.69069,     0.69169,     0.69269,     0.69369,     0.69469,      0.6957,\n",
            "            0.6967,      0.6977,      0.6987,      0.6997,      0.7007,      0.7017,      0.7027,      0.7037,      0.7047,     0.70571,     0.70671,     0.70771,     0.70871,     0.70971,     0.71071,     0.71171,     0.71271,     0.71371,     0.71471,     0.71572,     0.71672,     0.71772,     0.71872,     0.71972,\n",
            "           0.72072,     0.72172,     0.72272,     0.72372,     0.72472,     0.72573,     0.72673,     0.72773,     0.72873,     0.72973,     0.73073,     0.73173,     0.73273,     0.73373,     0.73473,     0.73574,     0.73674,     0.73774,     0.73874,     0.73974,     0.74074,     0.74174,     0.74274,     0.74374,\n",
            "           0.74474,     0.74575,     0.74675,     0.74775,     0.74875,     0.74975,     0.75075,     0.75175,     0.75275,     0.75375,     0.75475,     0.75576,     0.75676,     0.75776,     0.75876,     0.75976,     0.76076,     0.76176,     0.76276,     0.76376,     0.76476,     0.76577,     0.76677,     0.76777,\n",
            "           0.76877,     0.76977,     0.77077,     0.77177,     0.77277,     0.77377,     0.77477,     0.77578,     0.77678,     0.77778,     0.77878,     0.77978,     0.78078,     0.78178,     0.78278,     0.78378,     0.78478,     0.78579,     0.78679,     0.78779,     0.78879,     0.78979,     0.79079,     0.79179,\n",
            "           0.79279,     0.79379,     0.79479,      0.7958,      0.7968,      0.7978,      0.7988,      0.7998,      0.8008,      0.8018,      0.8028,      0.8038,      0.8048,     0.80581,     0.80681,     0.80781,     0.80881,     0.80981,     0.81081,     0.81181,     0.81281,     0.81381,     0.81481,     0.81582,\n",
            "           0.81682,     0.81782,     0.81882,     0.81982,     0.82082,     0.82182,     0.82282,     0.82382,     0.82482,     0.82583,     0.82683,     0.82783,     0.82883,     0.82983,     0.83083,     0.83183,     0.83283,     0.83383,     0.83483,     0.83584,     0.83684,     0.83784,     0.83884,     0.83984,\n",
            "           0.84084,     0.84184,     0.84284,     0.84384,     0.84484,     0.84585,     0.84685,     0.84785,     0.84885,     0.84985,     0.85085,     0.85185,     0.85285,     0.85385,     0.85485,     0.85586,     0.85686,     0.85786,     0.85886,     0.85986,     0.86086,     0.86186,     0.86286,     0.86386,\n",
            "           0.86486,     0.86587,     0.86687,     0.86787,     0.86887,     0.86987,     0.87087,     0.87187,     0.87287,     0.87387,     0.87487,     0.87588,     0.87688,     0.87788,     0.87888,     0.87988,     0.88088,     0.88188,     0.88288,     0.88388,     0.88488,     0.88589,     0.88689,     0.88789,\n",
            "           0.88889,     0.88989,     0.89089,     0.89189,     0.89289,     0.89389,     0.89489,      0.8959,      0.8969,      0.8979,      0.8989,      0.8999,      0.9009,      0.9019,      0.9029,      0.9039,      0.9049,     0.90591,     0.90691,     0.90791,     0.90891,     0.90991,     0.91091,     0.91191,\n",
            "           0.91291,     0.91391,     0.91491,     0.91592,     0.91692,     0.91792,     0.91892,     0.91992,     0.92092,     0.92192,     0.92292,     0.92392,     0.92492,     0.92593,     0.92693,     0.92793,     0.92893,     0.92993,     0.93093,     0.93193,     0.93293,     0.93393,     0.93493,     0.93594,\n",
            "           0.93694,     0.93794,     0.93894,     0.93994,     0.94094,     0.94194,     0.94294,     0.94394,     0.94494,     0.94595,     0.94695,     0.94795,     0.94895,     0.94995,     0.95095,     0.95195,     0.95295,     0.95395,     0.95495,     0.95596,     0.95696,     0.95796,     0.95896,     0.95996,\n",
            "           0.96096,     0.96196,     0.96296,     0.96396,     0.96496,     0.96597,     0.96697,     0.96797,     0.96897,     0.96997,     0.97097,     0.97197,     0.97297,     0.97397,     0.97497,     0.97598,     0.97698,     0.97798,     0.97898,     0.97998,     0.98098,     0.98198,     0.98298,     0.98398,\n",
            "           0.98498,     0.98599,     0.98699,     0.98799,     0.98899,     0.98999,     0.99099,     0.99199,     0.99299,     0.99399,     0.99499,       0.996,       0.997,       0.998,       0.999,           1]), array([[    0.56146,     0.56192,     0.68115,     0.72749,     0.76201,     0.77388,     0.78333,     0.79027,     0.79932,      0.8092,     0.81517,      0.8172,     0.82167,     0.82715,     0.83039,     0.83618,      0.8384,     0.83972,     0.84156,     0.84456,     0.84729,     0.84779,     0.84867,\n",
            "            0.85008,     0.85176,     0.85135,     0.85145,     0.85407,     0.85694,     0.85739,     0.85784,     0.85942,     0.86039,     0.86097,     0.86167,     0.86254,     0.86344,     0.86406,     0.86501,     0.86616,     0.86687,     0.86746,     0.86848,     0.86925,     0.87021,     0.87166,\n",
            "             0.8743,     0.87494,      0.8754,     0.87578,     0.87616,     0.87667,     0.87724,     0.87678,     0.87601,     0.87675,     0.87723,     0.87749,     0.87775,     0.87801,     0.87833,     0.87877,      0.8792,     0.87971,     0.88025,     0.88008,      0.8796,     0.87913,     0.88023,\n",
            "            0.88046,     0.88068,     0.88091,     0.88113,     0.88191,     0.88197,     0.88136,       0.881,     0.88126,     0.88153,      0.8818,      0.8825,     0.88432,     0.88439,     0.88446,     0.88453,      0.8846,     0.88467,     0.88474,     0.88481,     0.88488,     0.88495,     0.88502,\n",
            "            0.88509,     0.88516,     0.88523,      0.8853,     0.88537,     0.88544,     0.88564,     0.88589,     0.88615,      0.8864,      0.8868,      0.8877,     0.88734,     0.88693,     0.88651,     0.88725,     0.88763,     0.88784,     0.88804,     0.88824,     0.88845,     0.88864,     0.88878,\n",
            "            0.88892,     0.88906,      0.8892,     0.88934,     0.88948,     0.88962,     0.88975,     0.88959,     0.88944,     0.88929,     0.88914,     0.88898,     0.88883,     0.88868,     0.88853,     0.88837,     0.88812,     0.88779,     0.88747,     0.88715,     0.88685,     0.88675,     0.88664,\n",
            "            0.88653,     0.88643,     0.88632,     0.88621,     0.88611,       0.886,     0.88589,     0.88579,     0.88568,     0.88557,     0.88547,     0.88551,     0.88569,     0.88587,     0.88605,     0.88623,     0.88641,     0.88659,     0.88676,     0.88694,     0.88711,     0.88729,     0.88746,\n",
            "            0.88763,      0.8884,     0.89016,     0.89055,     0.88987,     0.89009,     0.89032,     0.89054,     0.89076,     0.89203,     0.89103,     0.89166,     0.89201,     0.89227,     0.89253,     0.89278,     0.89298,     0.89287,     0.89276,     0.89264,     0.89253,     0.89242,     0.89231,\n",
            "             0.8922,     0.89209,     0.89197,     0.89186,     0.89175,     0.89164,     0.89154,     0.89161,     0.89168,     0.89175,     0.89182,     0.89189,     0.89196,     0.89203,      0.8921,     0.89217,     0.89224,     0.89231,     0.89238,     0.89245,     0.89252,     0.89259,     0.89266,\n",
            "             0.8928,     0.89336,      0.8939,     0.89381,     0.89373,     0.89365,     0.89357,     0.89348,      0.8934,     0.89332,     0.89324,     0.89315,     0.89307,     0.89299,     0.89291,     0.89282,     0.89274,     0.89266,     0.89257,     0.89249,     0.89236,     0.89208,     0.89181,\n",
            "            0.89153,     0.89126,     0.89098,     0.89219,     0.89334,     0.89345,     0.89356,     0.89367,     0.89379,      0.8939,     0.89401,     0.89412,     0.89423,     0.89435,     0.89446,      0.8947,     0.89516,     0.89562,     0.89632,      0.8981,     0.89792,     0.89773,     0.89755,\n",
            "            0.89736,     0.89717,     0.89699,      0.8968,     0.89711,     0.89787,     0.89789,     0.89791,     0.89794,     0.89796,     0.89798,     0.89801,     0.89803,     0.89805,     0.89808,      0.8981,     0.89812,     0.89815,     0.89817,     0.89819,     0.89822,     0.89824,     0.89826,\n",
            "            0.89828,     0.89831,     0.89833,     0.89835,     0.89838,      0.8984,     0.89842,     0.89845,     0.89847,     0.89849,     0.89852,     0.89854,     0.89856,     0.89859,     0.89861,     0.89863,     0.89866,     0.89868,      0.8987,     0.89873,     0.89875,     0.89877,     0.89879,\n",
            "            0.89882,     0.89884,     0.89886,     0.89889,     0.89891,     0.89893,     0.89896,     0.89898,       0.899,     0.89903,     0.89905,     0.89885,     0.89851,     0.89818,     0.89784,     0.89759,     0.89766,     0.89773,     0.89781,     0.89788,     0.89795,     0.89803,      0.8981,\n",
            "            0.89817,     0.89824,     0.89832,     0.89839,     0.89846,     0.89854,     0.89861,     0.89868,     0.89875,     0.89935,     0.90013,     0.90048,     0.90084,      0.9012,     0.89985,     0.90012,     0.90038,     0.90064,      0.9009,     0.90082,     0.90067,     0.90051,     0.90035,\n",
            "            0.90019,     0.90004,     0.89988,     0.89972,     0.89957,     0.89948,     0.89956,     0.89963,     0.89971,     0.89979,     0.89986,     0.89994,     0.90002,      0.9001,     0.90017,     0.90025,     0.90033,      0.9004,     0.90048,     0.90056,     0.90063,     0.90063,      0.9005,\n",
            "            0.90037,     0.90023,      0.9001,     0.89997,     0.89984,     0.89971,     0.89958,     0.89944,     0.89931,     0.89918,     0.89933,     0.89947,     0.89961,     0.89975,     0.89989,     0.90003,     0.90017,     0.90031,     0.90044,     0.90052,     0.90061,      0.9007,     0.90078,\n",
            "            0.90087,     0.90096,     0.90104,     0.90113,     0.90122,      0.9013,     0.90139,     0.90148,     0.90156,     0.90162,     0.90144,     0.90125,     0.90107,     0.90089,     0.90071,     0.90052,     0.90034,     0.90016,     0.89996,     0.89975,     0.89955,     0.89935,     0.89914,\n",
            "            0.89894,     0.89873,     0.89902,     0.89978,     0.89929,     0.89865,     0.89845,     0.89865,     0.89884,     0.89903,     0.89923,     0.89942,     0.89977,     0.90086,       0.901,     0.90115,      0.9013,     0.90144,     0.90159,     0.90173,     0.90188,     0.90202,     0.90191,\n",
            "            0.90169,     0.90147,     0.90125,     0.90103,      0.9008,     0.90058,     0.90059,     0.90063,     0.90067,     0.90071,     0.90075,     0.90079,     0.90083,     0.90087,     0.90091,     0.90095,     0.90099,     0.90103,     0.90107,     0.90111,     0.90115,     0.90119,     0.90123,\n",
            "            0.90127,     0.90131,     0.90134,     0.90138,     0.90142,     0.90146,      0.9015,     0.90154,     0.90158,     0.90162,     0.90166,      0.9017,     0.90174,     0.90178,     0.90198,     0.90226,     0.90254,     0.90283,     0.90302,     0.90292,     0.90281,      0.9027,     0.90259,\n",
            "            0.90249,     0.90238,     0.90227,     0.90216,     0.90206,     0.90195,     0.90184,     0.90173,     0.90162,     0.90153,     0.90158,     0.90163,     0.90169,     0.90174,     0.90179,     0.90184,      0.9019,     0.90195,       0.902,     0.90205,      0.9021,     0.90216,     0.90221,\n",
            "            0.90226,     0.90231,     0.90237,     0.90242,     0.90247,     0.90252,     0.90257,     0.90263,     0.90268,     0.90273,     0.90287,     0.90373,     0.90394,      0.9038,     0.90365,     0.90351,     0.90337,     0.90322,     0.90308,     0.90294,     0.90279,     0.90265,      0.9025,\n",
            "            0.90209,     0.90169,     0.90128,     0.90094,     0.90078,     0.90062,     0.90047,     0.90031,     0.90015,         0.9,     0.89984,     0.89968,     0.89952,      0.8995,     0.89963,     0.89975,     0.89988,     0.90001,     0.90013,     0.90026,     0.90039,     0.90051,     0.90064,\n",
            "            0.90074,      0.9008,     0.90087,     0.90094,     0.90101,     0.90108,     0.90114,     0.90121,     0.90128,     0.90135,     0.90141,     0.90148,     0.90155,     0.90162,     0.90169,     0.90175,     0.90182,     0.90189,     0.90196,     0.90043,     0.90055,     0.90068,      0.9008,\n",
            "            0.90093,     0.90105,     0.90118,      0.9013,     0.90142,     0.90155,     0.90167,      0.9018,     0.90192,     0.90205,     0.90218,      0.9023,     0.90243,     0.90255,     0.90268,      0.9028,     0.90293,     0.90304,     0.90315,     0.90325,     0.90336,     0.90347,     0.90357,\n",
            "            0.90368,     0.90379,      0.9039,       0.904,     0.90411,     0.90422,     0.90357,     0.90284,      0.9027,     0.90273,     0.90276,     0.90279,     0.90282,     0.90285,     0.90288,     0.90291,     0.90294,     0.90297,     0.90299,     0.90302,     0.90305,     0.90308,     0.90311,\n",
            "            0.90314,     0.90317,      0.9032,     0.90323,     0.90326,     0.90329,     0.90332,     0.90334,     0.90337,      0.9034,     0.90343,     0.90346,     0.90349,     0.90352,     0.90355,     0.90358,     0.90361,     0.90364,     0.90367,     0.90369,     0.90372,     0.90375,     0.90378,\n",
            "            0.90381,     0.90384,     0.90387,      0.9039,     0.90393,     0.90394,      0.9037,     0.90346,     0.90322,     0.90298,     0.90273,     0.90249,     0.90227,     0.90207,     0.90187,     0.90166,     0.90146,     0.90126,     0.90105,     0.90085,     0.90071,     0.90057,     0.90042,\n",
            "            0.90028,     0.90014,         0.9,     0.89986,     0.89972,     0.89957,     0.89943,     0.89929,     0.89776,     0.89832,     0.89889,      0.8981,     0.89787,     0.89878,     0.89909,      0.8994,     0.89971,     0.90016,     0.90111,     0.90068,     0.90026,     0.89983,     0.89998,\n",
            "            0.90036,     0.90073,     0.90071,     0.89965,     0.89933,     0.89921,      0.8991,     0.89898,     0.89886,     0.89874,     0.89862,      0.8985,     0.89838,     0.89827,     0.89815,     0.89803,     0.89791,     0.89849,     0.89773,     0.89835,     0.89663,     0.89539,     0.89507,\n",
            "            0.89476,     0.89444,     0.89413,     0.89376,     0.89337,     0.89299,      0.8926,     0.89278,     0.89336,     0.89367,     0.89347,     0.89327,     0.89307,     0.89287,     0.89266,     0.89246,     0.89226,     0.89254,     0.88971,     0.88983,     0.88959,     0.88935,     0.88911,\n",
            "            0.88887,     0.88863,     0.88839,     0.88814,     0.88787,      0.8876,     0.88733,     0.88706,     0.88679,     0.88642,     0.88577,     0.88512,     0.88306,     0.88235,     0.88163,     0.88081,     0.87998,     0.87831,     0.87754,     0.87676,     0.87628,     0.87583,     0.87539,\n",
            "            0.87332,     0.87306,      0.8728,     0.87254,     0.87228,     0.87203,     0.87177,     0.87088,     0.86959,     0.86862,     0.86655,     0.86578,     0.86501,     0.86554,     0.86603,     0.86549,     0.86494,      0.8642,     0.85936,     0.85972,     0.86007,     0.86042,     0.86024,\n",
            "            0.85947,     0.85976,     0.85737,     0.85498,     0.85564,     0.85625,     0.85587,     0.85548,     0.85509,      0.8547,     0.85364,     0.85054,     0.84706,     0.84545,     0.84468,     0.84391,     0.84124,     0.83901,     0.83824,      0.8378,     0.83737,     0.83694,       0.836,\n",
            "            0.83457,     0.83336,     0.82411,     0.81793,     0.81481,     0.80861,     0.80787,     0.80713,     0.80198,     0.80029,     0.79563,     0.79298,      0.7922,     0.79278,     0.79115,     0.78775,     0.78236,      0.7779,     0.77487,     0.77386,     0.77052,     0.76414,     0.76066,\n",
            "            0.75982,     0.75505,     0.74656,     0.74381,     0.74141,     0.73658,     0.73138,     0.72461,     0.71583,     0.70068,     0.69463,     0.68179,     0.68006,     0.67024,     0.66826,      0.6612,     0.65454,     0.65203,     0.64656,     0.63721,     0.63077,     0.62771,     0.62521,\n",
            "            0.61672,     0.60456,     0.59494,     0.58597,     0.57367,      0.5698,     0.55907,     0.55404,     0.54099,     0.53287,     0.52191,     0.50767,     0.49719,     0.48859,     0.48515,      0.4687,     0.46359,     0.45897,     0.44518,     0.42813,     0.41292,     0.41012,     0.40183,\n",
            "            0.38998,     0.38214,     0.37464,     0.35813,     0.34128,      0.3306,     0.30337,     0.28754,      0.2729,     0.26194,     0.25039,     0.24239,      0.2369,     0.22937,     0.22333,     0.21471,     0.20099,     0.18754,     0.18423,     0.17626,     0.17136,     0.16243,     0.14653,\n",
            "            0.13385,     0.12999,     0.12768,     0.12146,     0.11221,     0.10235,      0.1002,     0.09804,     0.09618,    0.094331,    0.092432,    0.090417,    0.088398,    0.078768,    0.060532,     0.05012,    0.045826,    0.037672,    0.031992,    0.030077,    0.028158,     0.02521,     0.02054,\n",
            "           0.017999,    0.011278,   0.0099784,   0.0091521,    0.008325,   0.0074973,   0.0066689,   0.0058398,           0,           0,           0,           0,           0,           0,           0,           0,           0,           0,           0,           0,           0,           0,           0,\n",
            "                  0,           0,           0,           0,           0,           0,           0,           0,           0,           0,           0,           0,           0,           0,           0,           0,           0,           0,           0,           0,           0,           0,           0,\n",
            "                  0,           0,           0,           0,           0,           0,           0,           0,           0,           0,           0,           0,           0,           0,           0,           0,           0,           0,           0,           0,           0,           0,           0,\n",
            "                  0,           0,           0,           0,           0,           0,           0,           0,           0,           0,           0]]), 'Confidence', 'F1'], [array([          0,    0.001001,    0.002002,    0.003003,    0.004004,    0.005005,    0.006006,    0.007007,    0.008008,    0.009009,     0.01001,    0.011011,    0.012012,    0.013013,    0.014014,    0.015015,    0.016016,    0.017017,    0.018018,    0.019019,     0.02002,    0.021021,    0.022022,    0.023023,\n",
            "          0.024024,    0.025025,    0.026026,    0.027027,    0.028028,    0.029029,     0.03003,    0.031031,    0.032032,    0.033033,    0.034034,    0.035035,    0.036036,    0.037037,    0.038038,    0.039039,     0.04004,    0.041041,    0.042042,    0.043043,    0.044044,    0.045045,    0.046046,    0.047047,\n",
            "          0.048048,    0.049049,     0.05005,    0.051051,    0.052052,    0.053053,    0.054054,    0.055055,    0.056056,    0.057057,    0.058058,    0.059059,     0.06006,    0.061061,    0.062062,    0.063063,    0.064064,    0.065065,    0.066066,    0.067067,    0.068068,    0.069069,     0.07007,    0.071071,\n",
            "          0.072072,    0.073073,    0.074074,    0.075075,    0.076076,    0.077077,    0.078078,    0.079079,     0.08008,    0.081081,    0.082082,    0.083083,    0.084084,    0.085085,    0.086086,    0.087087,    0.088088,    0.089089,     0.09009,    0.091091,    0.092092,    0.093093,    0.094094,    0.095095,\n",
            "          0.096096,    0.097097,    0.098098,    0.099099,      0.1001,      0.1011,      0.1021,      0.1031,      0.1041,     0.10511,     0.10611,     0.10711,     0.10811,     0.10911,     0.11011,     0.11111,     0.11211,     0.11311,     0.11411,     0.11512,     0.11612,     0.11712,     0.11812,     0.11912,\n",
            "           0.12012,     0.12112,     0.12212,     0.12312,     0.12412,     0.12513,     0.12613,     0.12713,     0.12813,     0.12913,     0.13013,     0.13113,     0.13213,     0.13313,     0.13413,     0.13514,     0.13614,     0.13714,     0.13814,     0.13914,     0.14014,     0.14114,     0.14214,     0.14314,\n",
            "           0.14414,     0.14515,     0.14615,     0.14715,     0.14815,     0.14915,     0.15015,     0.15115,     0.15215,     0.15315,     0.15415,     0.15516,     0.15616,     0.15716,     0.15816,     0.15916,     0.16016,     0.16116,     0.16216,     0.16316,     0.16416,     0.16517,     0.16617,     0.16717,\n",
            "           0.16817,     0.16917,     0.17017,     0.17117,     0.17217,     0.17317,     0.17417,     0.17518,     0.17618,     0.17718,     0.17818,     0.17918,     0.18018,     0.18118,     0.18218,     0.18318,     0.18418,     0.18519,     0.18619,     0.18719,     0.18819,     0.18919,     0.19019,     0.19119,\n",
            "           0.19219,     0.19319,     0.19419,      0.1952,      0.1962,      0.1972,      0.1982,      0.1992,      0.2002,      0.2012,      0.2022,      0.2032,      0.2042,     0.20521,     0.20621,     0.20721,     0.20821,     0.20921,     0.21021,     0.21121,     0.21221,     0.21321,     0.21421,     0.21522,\n",
            "           0.21622,     0.21722,     0.21822,     0.21922,     0.22022,     0.22122,     0.22222,     0.22322,     0.22422,     0.22523,     0.22623,     0.22723,     0.22823,     0.22923,     0.23023,     0.23123,     0.23223,     0.23323,     0.23423,     0.23524,     0.23624,     0.23724,     0.23824,     0.23924,\n",
            "           0.24024,     0.24124,     0.24224,     0.24324,     0.24424,     0.24525,     0.24625,     0.24725,     0.24825,     0.24925,     0.25025,     0.25125,     0.25225,     0.25325,     0.25425,     0.25526,     0.25626,     0.25726,     0.25826,     0.25926,     0.26026,     0.26126,     0.26226,     0.26326,\n",
            "           0.26426,     0.26527,     0.26627,     0.26727,     0.26827,     0.26927,     0.27027,     0.27127,     0.27227,     0.27327,     0.27427,     0.27528,     0.27628,     0.27728,     0.27828,     0.27928,     0.28028,     0.28128,     0.28228,     0.28328,     0.28428,     0.28529,     0.28629,     0.28729,\n",
            "           0.28829,     0.28929,     0.29029,     0.29129,     0.29229,     0.29329,     0.29429,      0.2953,      0.2963,      0.2973,      0.2983,      0.2993,      0.3003,      0.3013,      0.3023,      0.3033,      0.3043,     0.30531,     0.30631,     0.30731,     0.30831,     0.30931,     0.31031,     0.31131,\n",
            "           0.31231,     0.31331,     0.31431,     0.31532,     0.31632,     0.31732,     0.31832,     0.31932,     0.32032,     0.32132,     0.32232,     0.32332,     0.32432,     0.32533,     0.32633,     0.32733,     0.32833,     0.32933,     0.33033,     0.33133,     0.33233,     0.33333,     0.33433,     0.33534,\n",
            "           0.33634,     0.33734,     0.33834,     0.33934,     0.34034,     0.34134,     0.34234,     0.34334,     0.34434,     0.34535,     0.34635,     0.34735,     0.34835,     0.34935,     0.35035,     0.35135,     0.35235,     0.35335,     0.35435,     0.35536,     0.35636,     0.35736,     0.35836,     0.35936,\n",
            "           0.36036,     0.36136,     0.36236,     0.36336,     0.36436,     0.36537,     0.36637,     0.36737,     0.36837,     0.36937,     0.37037,     0.37137,     0.37237,     0.37337,     0.37437,     0.37538,     0.37638,     0.37738,     0.37838,     0.37938,     0.38038,     0.38138,     0.38238,     0.38338,\n",
            "           0.38438,     0.38539,     0.38639,     0.38739,     0.38839,     0.38939,     0.39039,     0.39139,     0.39239,     0.39339,     0.39439,      0.3954,      0.3964,      0.3974,      0.3984,      0.3994,      0.4004,      0.4014,      0.4024,      0.4034,      0.4044,     0.40541,     0.40641,     0.40741,\n",
            "           0.40841,     0.40941,     0.41041,     0.41141,     0.41241,     0.41341,     0.41441,     0.41542,     0.41642,     0.41742,     0.41842,     0.41942,     0.42042,     0.42142,     0.42242,     0.42342,     0.42442,     0.42543,     0.42643,     0.42743,     0.42843,     0.42943,     0.43043,     0.43143,\n",
            "           0.43243,     0.43343,     0.43443,     0.43544,     0.43644,     0.43744,     0.43844,     0.43944,     0.44044,     0.44144,     0.44244,     0.44344,     0.44444,     0.44545,     0.44645,     0.44745,     0.44845,     0.44945,     0.45045,     0.45145,     0.45245,     0.45345,     0.45445,     0.45546,\n",
            "           0.45646,     0.45746,     0.45846,     0.45946,     0.46046,     0.46146,     0.46246,     0.46346,     0.46446,     0.46547,     0.46647,     0.46747,     0.46847,     0.46947,     0.47047,     0.47147,     0.47247,     0.47347,     0.47447,     0.47548,     0.47648,     0.47748,     0.47848,     0.47948,\n",
            "           0.48048,     0.48148,     0.48248,     0.48348,     0.48448,     0.48549,     0.48649,     0.48749,     0.48849,     0.48949,     0.49049,     0.49149,     0.49249,     0.49349,     0.49449,      0.4955,      0.4965,      0.4975,      0.4985,      0.4995,      0.5005,      0.5015,      0.5025,      0.5035,\n",
            "            0.5045,     0.50551,     0.50651,     0.50751,     0.50851,     0.50951,     0.51051,     0.51151,     0.51251,     0.51351,     0.51451,     0.51552,     0.51652,     0.51752,     0.51852,     0.51952,     0.52052,     0.52152,     0.52252,     0.52352,     0.52452,     0.52553,     0.52653,     0.52753,\n",
            "           0.52853,     0.52953,     0.53053,     0.53153,     0.53253,     0.53353,     0.53453,     0.53554,     0.53654,     0.53754,     0.53854,     0.53954,     0.54054,     0.54154,     0.54254,     0.54354,     0.54454,     0.54555,     0.54655,     0.54755,     0.54855,     0.54955,     0.55055,     0.55155,\n",
            "           0.55255,     0.55355,     0.55455,     0.55556,     0.55656,     0.55756,     0.55856,     0.55956,     0.56056,     0.56156,     0.56256,     0.56356,     0.56456,     0.56557,     0.56657,     0.56757,     0.56857,     0.56957,     0.57057,     0.57157,     0.57257,     0.57357,     0.57457,     0.57558,\n",
            "           0.57658,     0.57758,     0.57858,     0.57958,     0.58058,     0.58158,     0.58258,     0.58358,     0.58458,     0.58559,     0.58659,     0.58759,     0.58859,     0.58959,     0.59059,     0.59159,     0.59259,     0.59359,     0.59459,      0.5956,      0.5966,      0.5976,      0.5986,      0.5996,\n",
            "            0.6006,      0.6016,      0.6026,      0.6036,      0.6046,     0.60561,     0.60661,     0.60761,     0.60861,     0.60961,     0.61061,     0.61161,     0.61261,     0.61361,     0.61461,     0.61562,     0.61662,     0.61762,     0.61862,     0.61962,     0.62062,     0.62162,     0.62262,     0.62362,\n",
            "           0.62462,     0.62563,     0.62663,     0.62763,     0.62863,     0.62963,     0.63063,     0.63163,     0.63263,     0.63363,     0.63463,     0.63564,     0.63664,     0.63764,     0.63864,     0.63964,     0.64064,     0.64164,     0.64264,     0.64364,     0.64464,     0.64565,     0.64665,     0.64765,\n",
            "           0.64865,     0.64965,     0.65065,     0.65165,     0.65265,     0.65365,     0.65465,     0.65566,     0.65666,     0.65766,     0.65866,     0.65966,     0.66066,     0.66166,     0.66266,     0.66366,     0.66466,     0.66567,     0.66667,     0.66767,     0.66867,     0.66967,     0.67067,     0.67167,\n",
            "           0.67267,     0.67367,     0.67467,     0.67568,     0.67668,     0.67768,     0.67868,     0.67968,     0.68068,     0.68168,     0.68268,     0.68368,     0.68468,     0.68569,     0.68669,     0.68769,     0.68869,     0.68969,     0.69069,     0.69169,     0.69269,     0.69369,     0.69469,      0.6957,\n",
            "            0.6967,      0.6977,      0.6987,      0.6997,      0.7007,      0.7017,      0.7027,      0.7037,      0.7047,     0.70571,     0.70671,     0.70771,     0.70871,     0.70971,     0.71071,     0.71171,     0.71271,     0.71371,     0.71471,     0.71572,     0.71672,     0.71772,     0.71872,     0.71972,\n",
            "           0.72072,     0.72172,     0.72272,     0.72372,     0.72472,     0.72573,     0.72673,     0.72773,     0.72873,     0.72973,     0.73073,     0.73173,     0.73273,     0.73373,     0.73473,     0.73574,     0.73674,     0.73774,     0.73874,     0.73974,     0.74074,     0.74174,     0.74274,     0.74374,\n",
            "           0.74474,     0.74575,     0.74675,     0.74775,     0.74875,     0.74975,     0.75075,     0.75175,     0.75275,     0.75375,     0.75475,     0.75576,     0.75676,     0.75776,     0.75876,     0.75976,     0.76076,     0.76176,     0.76276,     0.76376,     0.76476,     0.76577,     0.76677,     0.76777,\n",
            "           0.76877,     0.76977,     0.77077,     0.77177,     0.77277,     0.77377,     0.77477,     0.77578,     0.77678,     0.77778,     0.77878,     0.77978,     0.78078,     0.78178,     0.78278,     0.78378,     0.78478,     0.78579,     0.78679,     0.78779,     0.78879,     0.78979,     0.79079,     0.79179,\n",
            "           0.79279,     0.79379,     0.79479,      0.7958,      0.7968,      0.7978,      0.7988,      0.7998,      0.8008,      0.8018,      0.8028,      0.8038,      0.8048,     0.80581,     0.80681,     0.80781,     0.80881,     0.80981,     0.81081,     0.81181,     0.81281,     0.81381,     0.81481,     0.81582,\n",
            "           0.81682,     0.81782,     0.81882,     0.81982,     0.82082,     0.82182,     0.82282,     0.82382,     0.82482,     0.82583,     0.82683,     0.82783,     0.82883,     0.82983,     0.83083,     0.83183,     0.83283,     0.83383,     0.83483,     0.83584,     0.83684,     0.83784,     0.83884,     0.83984,\n",
            "           0.84084,     0.84184,     0.84284,     0.84384,     0.84484,     0.84585,     0.84685,     0.84785,     0.84885,     0.84985,     0.85085,     0.85185,     0.85285,     0.85385,     0.85485,     0.85586,     0.85686,     0.85786,     0.85886,     0.85986,     0.86086,     0.86186,     0.86286,     0.86386,\n",
            "           0.86486,     0.86587,     0.86687,     0.86787,     0.86887,     0.86987,     0.87087,     0.87187,     0.87287,     0.87387,     0.87487,     0.87588,     0.87688,     0.87788,     0.87888,     0.87988,     0.88088,     0.88188,     0.88288,     0.88388,     0.88488,     0.88589,     0.88689,     0.88789,\n",
            "           0.88889,     0.88989,     0.89089,     0.89189,     0.89289,     0.89389,     0.89489,      0.8959,      0.8969,      0.8979,      0.8989,      0.8999,      0.9009,      0.9019,      0.9029,      0.9039,      0.9049,     0.90591,     0.90691,     0.90791,     0.90891,     0.90991,     0.91091,     0.91191,\n",
            "           0.91291,     0.91391,     0.91491,     0.91592,     0.91692,     0.91792,     0.91892,     0.91992,     0.92092,     0.92192,     0.92292,     0.92392,     0.92492,     0.92593,     0.92693,     0.92793,     0.92893,     0.92993,     0.93093,     0.93193,     0.93293,     0.93393,     0.93493,     0.93594,\n",
            "           0.93694,     0.93794,     0.93894,     0.93994,     0.94094,     0.94194,     0.94294,     0.94394,     0.94494,     0.94595,     0.94695,     0.94795,     0.94895,     0.94995,     0.95095,     0.95195,     0.95295,     0.95395,     0.95495,     0.95596,     0.95696,     0.95796,     0.95896,     0.95996,\n",
            "           0.96096,     0.96196,     0.96296,     0.96396,     0.96496,     0.96597,     0.96697,     0.96797,     0.96897,     0.96997,     0.97097,     0.97197,     0.97297,     0.97397,     0.97497,     0.97598,     0.97698,     0.97798,     0.97898,     0.97998,     0.98098,     0.98198,     0.98298,     0.98398,\n",
            "           0.98498,     0.98599,     0.98699,     0.98799,     0.98899,     0.98999,     0.99099,     0.99199,     0.99299,     0.99399,     0.99499,       0.996,       0.997,       0.998,       0.999,           1]), array([[    0.39686,     0.39732,     0.52886,      0.5869,     0.63319,     0.65228,     0.66581,     0.67591,     0.69212,     0.70707,     0.71625,     0.71939,     0.72634,     0.73495,     0.74009,     0.74933,     0.75291,     0.75503,     0.75801,      0.7629,     0.76736,     0.76818,     0.76964,\n",
            "            0.77196,     0.77473,     0.77659,     0.77788,     0.78228,      0.7871,     0.78786,     0.78862,     0.79129,     0.79295,     0.79393,     0.79512,      0.7966,     0.79815,      0.7992,     0.80083,      0.8028,     0.80403,     0.80503,      0.8068,     0.80813,     0.80979,     0.81231,\n",
            "            0.81689,     0.81801,     0.81883,     0.81949,     0.82014,     0.82105,     0.82205,      0.8221,     0.82187,     0.82326,      0.8241,     0.82457,     0.82503,     0.82549,     0.82606,     0.82683,     0.82759,      0.8285,     0.82945,     0.82964,     0.82951,     0.82937,     0.83156,\n",
            "            0.83196,     0.83236,     0.83276,     0.83316,     0.83456,     0.83524,     0.83507,     0.83508,     0.83556,     0.83605,     0.83653,     0.83779,     0.84108,      0.8412,     0.84133,     0.84146,     0.84158,     0.84171,     0.84184,     0.84196,     0.84209,     0.84222,     0.84234,\n",
            "            0.84247,      0.8426,     0.84272,     0.84285,     0.84298,      0.8431,     0.84347,     0.84393,     0.84439,     0.84485,     0.84557,     0.84722,     0.84719,     0.84708,     0.84697,     0.84864,     0.84934,     0.84972,     0.85009,     0.85046,     0.85084,     0.85118,     0.85144,\n",
            "             0.8517,     0.85196,     0.85221,     0.85247,     0.85273,     0.85299,     0.85323,     0.85319,     0.85315,     0.85312,     0.85308,     0.85304,       0.853,     0.85296,     0.85292,     0.85288,     0.85282,     0.85274,     0.85265,     0.85257,      0.8525,     0.85247,     0.85244,\n",
            "            0.85241,     0.85239,     0.85236,     0.85233,     0.85231,     0.85228,     0.85225,     0.85222,      0.8522,     0.85217,     0.85214,     0.85231,     0.85264,     0.85298,     0.85331,     0.85364,     0.85397,      0.8543,     0.85463,     0.85495,     0.85528,      0.8556,     0.85592,\n",
            "            0.85625,     0.85767,     0.86097,     0.86278,      0.8628,     0.86322,     0.86363,     0.86405,     0.86447,     0.86699,     0.86739,     0.86859,     0.86926,     0.86975,     0.87024,     0.87073,     0.87113,      0.8711,     0.87108,     0.87105,     0.87103,       0.871,     0.87098,\n",
            "            0.87095,     0.87093,      0.8709,     0.87088,     0.87085,     0.87082,     0.87081,     0.87094,     0.87108,     0.87121,     0.87134,     0.87148,     0.87161,     0.87174,     0.87188,     0.87201,     0.87214,     0.87228,     0.87241,     0.87254,     0.87268,     0.87281,     0.87295,\n",
            "            0.87323,     0.87429,     0.87532,     0.87531,     0.87529,     0.87527,     0.87525,     0.87523,     0.87521,      0.8752,     0.87518,     0.87516,     0.87514,     0.87512,      0.8751,     0.87509,     0.87507,     0.87505,     0.87503,     0.87501,     0.87498,     0.87492,     0.87486,\n",
            "             0.8748,     0.87474,     0.87468,     0.87705,     0.87928,     0.87949,     0.87971,     0.87993,     0.88014,     0.88036,     0.88058,     0.88079,     0.88101,     0.88123,     0.88145,     0.88192,     0.88282,     0.88372,     0.88507,     0.88859,     0.88855,     0.88852,     0.88848,\n",
            "            0.88844,      0.8884,     0.88837,     0.88833,     0.88921,      0.8907,     0.89075,     0.89079,     0.89084,     0.89088,     0.89093,     0.89098,     0.89102,     0.89107,     0.89111,     0.89116,      0.8912,     0.89125,      0.8913,     0.89134,     0.89139,     0.89143,     0.89148,\n",
            "            0.89152,     0.89157,     0.89161,     0.89166,     0.89171,     0.89175,      0.8918,     0.89184,     0.89189,     0.89193,     0.89198,     0.89203,     0.89207,     0.89212,     0.89216,     0.89221,     0.89225,      0.8923,     0.89235,     0.89239,     0.89244,     0.89248,     0.89253,\n",
            "            0.89257,     0.89262,     0.89267,     0.89271,     0.89276,      0.8928,     0.89285,     0.89289,     0.89294,     0.89299,     0.89303,     0.89301,     0.89294,     0.89288,     0.89281,     0.89279,     0.89293,     0.89308,     0.89322,     0.89337,     0.89351,     0.89366,      0.8938,\n",
            "            0.89394,     0.89409,     0.89423,     0.89438,     0.89452,     0.89467,     0.89481,     0.89495,      0.8951,     0.89629,     0.89783,     0.89854,     0.89925,     0.89996,     0.89998,      0.9005,     0.90103,     0.90155,     0.90208,     0.90215,     0.90212,      0.9021,     0.90207,\n",
            "            0.90204,     0.90201,     0.90198,     0.90195,     0.90193,     0.90195,     0.90211,     0.90226,     0.90242,     0.90257,     0.90273,     0.90288,     0.90304,     0.90319,     0.90335,      0.9035,     0.90366,     0.90381,     0.90397,     0.90412,     0.90428,     0.90436,     0.90434,\n",
            "            0.90432,     0.90429,     0.90427,     0.90425,     0.90422,      0.9042,     0.90418,     0.90416,     0.90413,     0.90411,      0.9044,     0.90468,     0.90497,     0.90526,     0.90554,     0.90583,     0.90611,      0.9064,     0.90665,     0.90683,       0.907,     0.90718,     0.90735,\n",
            "            0.90753,     0.90771,     0.90788,     0.90806,     0.90823,     0.90841,     0.90858,     0.90876,     0.90894,     0.90909,     0.90906,     0.90903,       0.909,     0.90897,     0.90893,      0.9089,     0.90887,     0.90884,     0.90881,     0.90878,     0.90874,     0.90871,     0.90867,\n",
            "            0.90864,      0.9086,     0.90938,     0.91095,     0.91102,     0.91091,     0.91108,     0.91147,     0.91187,     0.91227,     0.91267,     0.91307,     0.91379,     0.91603,     0.91633,     0.91664,     0.91694,     0.91724,     0.91754,     0.91784,     0.91815,     0.91845,     0.91852,\n",
            "            0.91848,     0.91845,     0.91842,     0.91838,     0.91835,     0.91831,     0.91838,     0.91846,     0.91855,     0.91863,     0.91871,      0.9188,     0.91888,     0.91896,     0.91905,     0.91913,     0.91921,      0.9193,     0.91938,     0.91946,     0.91954,     0.91963,     0.91971,\n",
            "            0.91979,     0.91988,     0.91996,     0.92004,     0.92013,     0.92021,     0.92029,     0.92037,     0.92046,     0.92054,     0.92062,     0.92071,     0.92079,     0.92087,     0.92127,     0.92187,     0.92246,     0.92305,     0.92351,     0.92349,     0.92348,     0.92346,     0.92345,\n",
            "            0.92343,     0.92342,      0.9234,     0.92339,     0.92337,     0.92336,     0.92334,     0.92332,     0.92331,      0.9233,     0.92341,     0.92352,     0.92363,     0.92374,     0.92385,     0.92396,     0.92407,     0.92418,     0.92429,      0.9244,     0.92451,     0.92462,     0.92473,\n",
            "            0.92484,     0.92495,     0.92506,     0.92517,     0.92528,     0.92539,      0.9255,     0.92561,     0.92572,     0.92583,     0.92613,     0.92794,     0.92856,     0.92854,     0.92852,      0.9285,     0.92848,     0.92846,     0.92844,     0.92842,     0.92841,     0.92839,     0.92837,\n",
            "            0.92831,     0.92826,      0.9282,     0.92816,     0.92813,     0.92811,     0.92809,     0.92807,     0.92805,     0.92803,     0.92801,     0.92799,     0.92797,     0.92808,     0.92835,     0.92862,     0.92889,     0.92916,     0.92943,      0.9297,     0.92997,     0.93024,     0.93051,\n",
            "            0.93071,     0.93086,       0.931,     0.93115,     0.93129,     0.93144,     0.93158,     0.93173,     0.93187,     0.93202,     0.93216,     0.93231,     0.93245,      0.9326,     0.93274,     0.93289,     0.93303,     0.93318,     0.93332,     0.93316,     0.93343,     0.93369,     0.93396,\n",
            "            0.93423,      0.9345,     0.93476,     0.93503,      0.9353,     0.93557,     0.93583,      0.9361,     0.93637,     0.93665,     0.93692,     0.93719,     0.93746,     0.93773,       0.938,     0.93827,     0.93854,     0.93878,     0.93901,     0.93925,     0.93948,     0.93971,     0.93994,\n",
            "            0.94017,      0.9404,     0.94063,     0.94087,      0.9411,     0.94133,     0.94128,     0.94119,     0.94123,     0.94129,     0.94135,     0.94142,     0.94148,     0.94154,     0.94161,     0.94167,     0.94173,      0.9418,     0.94186,     0.94192,     0.94199,     0.94205,     0.94211,\n",
            "            0.94218,     0.94224,     0.94231,     0.94237,     0.94243,      0.9425,     0.94256,     0.94262,     0.94269,     0.94275,     0.94281,     0.94288,     0.94294,       0.943,     0.94307,     0.94313,     0.94319,     0.94326,     0.94332,     0.94338,     0.94345,     0.94351,     0.94358,\n",
            "            0.94364,      0.9437,     0.94377,     0.94383,     0.94389,     0.94395,     0.94393,      0.9439,     0.94387,     0.94385,     0.94382,      0.9438,     0.94377,     0.94375,     0.94373,     0.94371,     0.94369,     0.94366,     0.94364,     0.94362,      0.9436,     0.94359,     0.94357,\n",
            "            0.94356,     0.94354,     0.94353,     0.94351,      0.9435,     0.94348,     0.94347,     0.94345,     0.94335,      0.9446,     0.94585,     0.94601,     0.94691,     0.94893,     0.94963,     0.95033,     0.95102,     0.95202,     0.95453,     0.95449,     0.95446,     0.95442,     0.95501,\n",
            "            0.95586,     0.95671,     0.95729,     0.95721,     0.95718,     0.95717,     0.95716,     0.95715,     0.95714,     0.95713,     0.95712,     0.95711,      0.9571,     0.95709,     0.95708,     0.95707,     0.95706,     0.95854,     0.96029,     0.96172,     0.96269,      0.9626,     0.96257,\n",
            "            0.96255,     0.96253,     0.96251,     0.96248,     0.96245,     0.96242,     0.96239,     0.96317,     0.96452,      0.9654,     0.96539,     0.96538,     0.96536,     0.96535,     0.96534,     0.96532,     0.96531,      0.9683,     0.96812,     0.97115,     0.97114,     0.97112,     0.97111,\n",
            "             0.9711,     0.97108,     0.97107,     0.97106,     0.97104,     0.97103,     0.97101,     0.97099,     0.97098,     0.97096,     0.97092,     0.97088,     0.97077,     0.97072,     0.97068,     0.97063,     0.97059,     0.97049,     0.97045,      0.9704,     0.97037,     0.97035,     0.97032,\n",
            "             0.9702,     0.97018,     0.97017,     0.97015,     0.97014,     0.97012,     0.97011,     0.97005,     0.96998,     0.96992,      0.9698,     0.96975,     0.96971,      0.9714,     0.97297,     0.97294,     0.97291,     0.97287,     0.97276,     0.97366,     0.97457,     0.97547,     0.97593,\n",
            "            0.97589,     0.97814,     0.97912,     0.97908,      0.9808,     0.98246,     0.98244,     0.98243,     0.98241,      0.9824,     0.98236,     0.98225,     0.98213,     0.98207,     0.98204,     0.98201,     0.98192,     0.98184,     0.98181,     0.98179,     0.98178,     0.98176,     0.98173,\n",
            "            0.98167,     0.98163,     0.98128,     0.98105,     0.98092,     0.98068,     0.98065,     0.98062,     0.98042,     0.98035,     0.98016,     0.98006,     0.98186,     0.98393,     0.98388,     0.98377,     0.98358,     0.98343,     0.98333,     0.98329,     0.98318,     0.98295,     0.98283,\n",
            "            0.98642,     0.98688,     0.98664,     0.98656,     0.98649,     0.98636,      0.9862,       0.986,     0.99042,      0.9901,     0.98997,     0.98968,     0.98965,     0.98942,     0.98937,     0.99456,     0.99448,     0.99444,     0.99437,     0.99425,     0.99417,     0.99413,     0.99409,\n",
            "            0.99397,      0.9938,     0.99366,     0.99352,     0.99333,     0.99326,     0.99308,       0.993,           1,           1,           1,           1,           1,           1,           1,           1,           1,           1,           1,           1,           1,           1,           1,\n",
            "                  1,           1,           1,           1,           1,           1,           1,           1,           1,           1,           1,           1,           1,           1,           1,           1,           1,           1,           1,           1,           1,           1,           1,\n",
            "                  1,           1,           1,           1,           1,           1,           1,           1,           1,           1,           1,           1,           1,           1,           1,           1,           1,           1,           1,           1,           1,           1,           1,\n",
            "                  1,           1,           1,           1,           1,           1,           1,           1,           1,           1,           1,           1,           1,           1,           1,           1,           1,           1,           1,           1,           1,           1,           1,\n",
            "                  1,           1,           1,           1,           1,           1,           1,           1,           1,           1,           1,           1,           1,           1,           1,           1,           1,           1,           1,           1,           1,           1,           1,\n",
            "                  1,           1,           1,           1,           1,           1,           1,           1,           1,           1,           1,           1,           1,           1,           1,           1,           1,           1,           1,           1,           1,           1,           1,\n",
            "                  1,           1,           1,           1,           1,           1,           1,           1,           1,           1,           1]]), 'Confidence', 'Precision'], [array([          0,    0.001001,    0.002002,    0.003003,    0.004004,    0.005005,    0.006006,    0.007007,    0.008008,    0.009009,     0.01001,    0.011011,    0.012012,    0.013013,    0.014014,    0.015015,    0.016016,    0.017017,    0.018018,    0.019019,     0.02002,    0.021021,    0.022022,    0.023023,\n",
            "          0.024024,    0.025025,    0.026026,    0.027027,    0.028028,    0.029029,     0.03003,    0.031031,    0.032032,    0.033033,    0.034034,    0.035035,    0.036036,    0.037037,    0.038038,    0.039039,     0.04004,    0.041041,    0.042042,    0.043043,    0.044044,    0.045045,    0.046046,    0.047047,\n",
            "          0.048048,    0.049049,     0.05005,    0.051051,    0.052052,    0.053053,    0.054054,    0.055055,    0.056056,    0.057057,    0.058058,    0.059059,     0.06006,    0.061061,    0.062062,    0.063063,    0.064064,    0.065065,    0.066066,    0.067067,    0.068068,    0.069069,     0.07007,    0.071071,\n",
            "          0.072072,    0.073073,    0.074074,    0.075075,    0.076076,    0.077077,    0.078078,    0.079079,     0.08008,    0.081081,    0.082082,    0.083083,    0.084084,    0.085085,    0.086086,    0.087087,    0.088088,    0.089089,     0.09009,    0.091091,    0.092092,    0.093093,    0.094094,    0.095095,\n",
            "          0.096096,    0.097097,    0.098098,    0.099099,      0.1001,      0.1011,      0.1021,      0.1031,      0.1041,     0.10511,     0.10611,     0.10711,     0.10811,     0.10911,     0.11011,     0.11111,     0.11211,     0.11311,     0.11411,     0.11512,     0.11612,     0.11712,     0.11812,     0.11912,\n",
            "           0.12012,     0.12112,     0.12212,     0.12312,     0.12412,     0.12513,     0.12613,     0.12713,     0.12813,     0.12913,     0.13013,     0.13113,     0.13213,     0.13313,     0.13413,     0.13514,     0.13614,     0.13714,     0.13814,     0.13914,     0.14014,     0.14114,     0.14214,     0.14314,\n",
            "           0.14414,     0.14515,     0.14615,     0.14715,     0.14815,     0.14915,     0.15015,     0.15115,     0.15215,     0.15315,     0.15415,     0.15516,     0.15616,     0.15716,     0.15816,     0.15916,     0.16016,     0.16116,     0.16216,     0.16316,     0.16416,     0.16517,     0.16617,     0.16717,\n",
            "           0.16817,     0.16917,     0.17017,     0.17117,     0.17217,     0.17317,     0.17417,     0.17518,     0.17618,     0.17718,     0.17818,     0.17918,     0.18018,     0.18118,     0.18218,     0.18318,     0.18418,     0.18519,     0.18619,     0.18719,     0.18819,     0.18919,     0.19019,     0.19119,\n",
            "           0.19219,     0.19319,     0.19419,      0.1952,      0.1962,      0.1972,      0.1982,      0.1992,      0.2002,      0.2012,      0.2022,      0.2032,      0.2042,     0.20521,     0.20621,     0.20721,     0.20821,     0.20921,     0.21021,     0.21121,     0.21221,     0.21321,     0.21421,     0.21522,\n",
            "           0.21622,     0.21722,     0.21822,     0.21922,     0.22022,     0.22122,     0.22222,     0.22322,     0.22422,     0.22523,     0.22623,     0.22723,     0.22823,     0.22923,     0.23023,     0.23123,     0.23223,     0.23323,     0.23423,     0.23524,     0.23624,     0.23724,     0.23824,     0.23924,\n",
            "           0.24024,     0.24124,     0.24224,     0.24324,     0.24424,     0.24525,     0.24625,     0.24725,     0.24825,     0.24925,     0.25025,     0.25125,     0.25225,     0.25325,     0.25425,     0.25526,     0.25626,     0.25726,     0.25826,     0.25926,     0.26026,     0.26126,     0.26226,     0.26326,\n",
            "           0.26426,     0.26527,     0.26627,     0.26727,     0.26827,     0.26927,     0.27027,     0.27127,     0.27227,     0.27327,     0.27427,     0.27528,     0.27628,     0.27728,     0.27828,     0.27928,     0.28028,     0.28128,     0.28228,     0.28328,     0.28428,     0.28529,     0.28629,     0.28729,\n",
            "           0.28829,     0.28929,     0.29029,     0.29129,     0.29229,     0.29329,     0.29429,      0.2953,      0.2963,      0.2973,      0.2983,      0.2993,      0.3003,      0.3013,      0.3023,      0.3033,      0.3043,     0.30531,     0.30631,     0.30731,     0.30831,     0.30931,     0.31031,     0.31131,\n",
            "           0.31231,     0.31331,     0.31431,     0.31532,     0.31632,     0.31732,     0.31832,     0.31932,     0.32032,     0.32132,     0.32232,     0.32332,     0.32432,     0.32533,     0.32633,     0.32733,     0.32833,     0.32933,     0.33033,     0.33133,     0.33233,     0.33333,     0.33433,     0.33534,\n",
            "           0.33634,     0.33734,     0.33834,     0.33934,     0.34034,     0.34134,     0.34234,     0.34334,     0.34434,     0.34535,     0.34635,     0.34735,     0.34835,     0.34935,     0.35035,     0.35135,     0.35235,     0.35335,     0.35435,     0.35536,     0.35636,     0.35736,     0.35836,     0.35936,\n",
            "           0.36036,     0.36136,     0.36236,     0.36336,     0.36436,     0.36537,     0.36637,     0.36737,     0.36837,     0.36937,     0.37037,     0.37137,     0.37237,     0.37337,     0.37437,     0.37538,     0.37638,     0.37738,     0.37838,     0.37938,     0.38038,     0.38138,     0.38238,     0.38338,\n",
            "           0.38438,     0.38539,     0.38639,     0.38739,     0.38839,     0.38939,     0.39039,     0.39139,     0.39239,     0.39339,     0.39439,      0.3954,      0.3964,      0.3974,      0.3984,      0.3994,      0.4004,      0.4014,      0.4024,      0.4034,      0.4044,     0.40541,     0.40641,     0.40741,\n",
            "           0.40841,     0.40941,     0.41041,     0.41141,     0.41241,     0.41341,     0.41441,     0.41542,     0.41642,     0.41742,     0.41842,     0.41942,     0.42042,     0.42142,     0.42242,     0.42342,     0.42442,     0.42543,     0.42643,     0.42743,     0.42843,     0.42943,     0.43043,     0.43143,\n",
            "           0.43243,     0.43343,     0.43443,     0.43544,     0.43644,     0.43744,     0.43844,     0.43944,     0.44044,     0.44144,     0.44244,     0.44344,     0.44444,     0.44545,     0.44645,     0.44745,     0.44845,     0.44945,     0.45045,     0.45145,     0.45245,     0.45345,     0.45445,     0.45546,\n",
            "           0.45646,     0.45746,     0.45846,     0.45946,     0.46046,     0.46146,     0.46246,     0.46346,     0.46446,     0.46547,     0.46647,     0.46747,     0.46847,     0.46947,     0.47047,     0.47147,     0.47247,     0.47347,     0.47447,     0.47548,     0.47648,     0.47748,     0.47848,     0.47948,\n",
            "           0.48048,     0.48148,     0.48248,     0.48348,     0.48448,     0.48549,     0.48649,     0.48749,     0.48849,     0.48949,     0.49049,     0.49149,     0.49249,     0.49349,     0.49449,      0.4955,      0.4965,      0.4975,      0.4985,      0.4995,      0.5005,      0.5015,      0.5025,      0.5035,\n",
            "            0.5045,     0.50551,     0.50651,     0.50751,     0.50851,     0.50951,     0.51051,     0.51151,     0.51251,     0.51351,     0.51451,     0.51552,     0.51652,     0.51752,     0.51852,     0.51952,     0.52052,     0.52152,     0.52252,     0.52352,     0.52452,     0.52553,     0.52653,     0.52753,\n",
            "           0.52853,     0.52953,     0.53053,     0.53153,     0.53253,     0.53353,     0.53453,     0.53554,     0.53654,     0.53754,     0.53854,     0.53954,     0.54054,     0.54154,     0.54254,     0.54354,     0.54454,     0.54555,     0.54655,     0.54755,     0.54855,     0.54955,     0.55055,     0.55155,\n",
            "           0.55255,     0.55355,     0.55455,     0.55556,     0.55656,     0.55756,     0.55856,     0.55956,     0.56056,     0.56156,     0.56256,     0.56356,     0.56456,     0.56557,     0.56657,     0.56757,     0.56857,     0.56957,     0.57057,     0.57157,     0.57257,     0.57357,     0.57457,     0.57558,\n",
            "           0.57658,     0.57758,     0.57858,     0.57958,     0.58058,     0.58158,     0.58258,     0.58358,     0.58458,     0.58559,     0.58659,     0.58759,     0.58859,     0.58959,     0.59059,     0.59159,     0.59259,     0.59359,     0.59459,      0.5956,      0.5966,      0.5976,      0.5986,      0.5996,\n",
            "            0.6006,      0.6016,      0.6026,      0.6036,      0.6046,     0.60561,     0.60661,     0.60761,     0.60861,     0.60961,     0.61061,     0.61161,     0.61261,     0.61361,     0.61461,     0.61562,     0.61662,     0.61762,     0.61862,     0.61962,     0.62062,     0.62162,     0.62262,     0.62362,\n",
            "           0.62462,     0.62563,     0.62663,     0.62763,     0.62863,     0.62963,     0.63063,     0.63163,     0.63263,     0.63363,     0.63463,     0.63564,     0.63664,     0.63764,     0.63864,     0.63964,     0.64064,     0.64164,     0.64264,     0.64364,     0.64464,     0.64565,     0.64665,     0.64765,\n",
            "           0.64865,     0.64965,     0.65065,     0.65165,     0.65265,     0.65365,     0.65465,     0.65566,     0.65666,     0.65766,     0.65866,     0.65966,     0.66066,     0.66166,     0.66266,     0.66366,     0.66466,     0.66567,     0.66667,     0.66767,     0.66867,     0.66967,     0.67067,     0.67167,\n",
            "           0.67267,     0.67367,     0.67467,     0.67568,     0.67668,     0.67768,     0.67868,     0.67968,     0.68068,     0.68168,     0.68268,     0.68368,     0.68468,     0.68569,     0.68669,     0.68769,     0.68869,     0.68969,     0.69069,     0.69169,     0.69269,     0.69369,     0.69469,      0.6957,\n",
            "            0.6967,      0.6977,      0.6987,      0.6997,      0.7007,      0.7017,      0.7027,      0.7037,      0.7047,     0.70571,     0.70671,     0.70771,     0.70871,     0.70971,     0.71071,     0.71171,     0.71271,     0.71371,     0.71471,     0.71572,     0.71672,     0.71772,     0.71872,     0.71972,\n",
            "           0.72072,     0.72172,     0.72272,     0.72372,     0.72472,     0.72573,     0.72673,     0.72773,     0.72873,     0.72973,     0.73073,     0.73173,     0.73273,     0.73373,     0.73473,     0.73574,     0.73674,     0.73774,     0.73874,     0.73974,     0.74074,     0.74174,     0.74274,     0.74374,\n",
            "           0.74474,     0.74575,     0.74675,     0.74775,     0.74875,     0.74975,     0.75075,     0.75175,     0.75275,     0.75375,     0.75475,     0.75576,     0.75676,     0.75776,     0.75876,     0.75976,     0.76076,     0.76176,     0.76276,     0.76376,     0.76476,     0.76577,     0.76677,     0.76777,\n",
            "           0.76877,     0.76977,     0.77077,     0.77177,     0.77277,     0.77377,     0.77477,     0.77578,     0.77678,     0.77778,     0.77878,     0.77978,     0.78078,     0.78178,     0.78278,     0.78378,     0.78478,     0.78579,     0.78679,     0.78779,     0.78879,     0.78979,     0.79079,     0.79179,\n",
            "           0.79279,     0.79379,     0.79479,      0.7958,      0.7968,      0.7978,      0.7988,      0.7998,      0.8008,      0.8018,      0.8028,      0.8038,      0.8048,     0.80581,     0.80681,     0.80781,     0.80881,     0.80981,     0.81081,     0.81181,     0.81281,     0.81381,     0.81481,     0.81582,\n",
            "           0.81682,     0.81782,     0.81882,     0.81982,     0.82082,     0.82182,     0.82282,     0.82382,     0.82482,     0.82583,     0.82683,     0.82783,     0.82883,     0.82983,     0.83083,     0.83183,     0.83283,     0.83383,     0.83483,     0.83584,     0.83684,     0.83784,     0.83884,     0.83984,\n",
            "           0.84084,     0.84184,     0.84284,     0.84384,     0.84484,     0.84585,     0.84685,     0.84785,     0.84885,     0.84985,     0.85085,     0.85185,     0.85285,     0.85385,     0.85485,     0.85586,     0.85686,     0.85786,     0.85886,     0.85986,     0.86086,     0.86186,     0.86286,     0.86386,\n",
            "           0.86486,     0.86587,     0.86687,     0.86787,     0.86887,     0.86987,     0.87087,     0.87187,     0.87287,     0.87387,     0.87487,     0.87588,     0.87688,     0.87788,     0.87888,     0.87988,     0.88088,     0.88188,     0.88288,     0.88388,     0.88488,     0.88589,     0.88689,     0.88789,\n",
            "           0.88889,     0.88989,     0.89089,     0.89189,     0.89289,     0.89389,     0.89489,      0.8959,      0.8969,      0.8979,      0.8989,      0.8999,      0.9009,      0.9019,      0.9029,      0.9039,      0.9049,     0.90591,     0.90691,     0.90791,     0.90891,     0.90991,     0.91091,     0.91191,\n",
            "           0.91291,     0.91391,     0.91491,     0.91592,     0.91692,     0.91792,     0.91892,     0.91992,     0.92092,     0.92192,     0.92292,     0.92392,     0.92492,     0.92593,     0.92693,     0.92793,     0.92893,     0.92993,     0.93093,     0.93193,     0.93293,     0.93393,     0.93493,     0.93594,\n",
            "           0.93694,     0.93794,     0.93894,     0.93994,     0.94094,     0.94194,     0.94294,     0.94394,     0.94494,     0.94595,     0.94695,     0.94795,     0.94895,     0.94995,     0.95095,     0.95195,     0.95295,     0.95395,     0.95495,     0.95596,     0.95696,     0.95796,     0.95896,     0.95996,\n",
            "           0.96096,     0.96196,     0.96296,     0.96396,     0.96496,     0.96597,     0.96697,     0.96797,     0.96897,     0.96997,     0.97097,     0.97197,     0.97297,     0.97397,     0.97497,     0.97598,     0.97698,     0.97798,     0.97898,     0.97998,     0.98098,     0.98198,     0.98298,     0.98398,\n",
            "           0.98498,     0.98599,     0.98699,     0.98799,     0.98899,     0.98999,     0.99099,     0.99199,     0.99299,     0.99399,     0.99499,       0.996,       0.997,       0.998,       0.999,           1]), array([[    0.95935,     0.95935,     0.95664,     0.95664,     0.95664,     0.95122,     0.95122,     0.95122,      0.9458,      0.9458,      0.9458,      0.9458,      0.9458,      0.9458,      0.9458,      0.9458,      0.9458,      0.9458,      0.9458,      0.9458,      0.9458,      0.9458,      0.9458,\n",
            "             0.9458,      0.9458,     0.94204,     0.94038,     0.94038,     0.94038,     0.94038,     0.94038,     0.94038,     0.94038,     0.94038,     0.94038,     0.94038,     0.94038,     0.94038,     0.94038,     0.94038,     0.94038,     0.94038,     0.94038,     0.94038,     0.94038,     0.94038,\n",
            "            0.94038,     0.94038,     0.94038,     0.94038,     0.94038,     0.94038,     0.94038,     0.93925,     0.93778,     0.93767,     0.93767,     0.93767,     0.93767,     0.93767,     0.93767,     0.93767,     0.93767,     0.93767,     0.93767,     0.93704,     0.93614,     0.93524,     0.93496,\n",
            "            0.93496,     0.93496,     0.93496,     0.93496,     0.93496,     0.93423,     0.93308,     0.93225,     0.93225,     0.93225,     0.93225,     0.93225,     0.93225,     0.93225,     0.93225,     0.93225,     0.93225,     0.93225,     0.93225,     0.93225,     0.93225,     0.93225,     0.93225,\n",
            "            0.93225,     0.93225,     0.93225,     0.93225,     0.93225,     0.93225,     0.93225,     0.93225,     0.93225,     0.93225,     0.93225,     0.93225,      0.9315,     0.93071,     0.92992,     0.92954,     0.92954,     0.92954,     0.92954,     0.92954,     0.92954,     0.92954,     0.92954,\n",
            "            0.92954,     0.92954,     0.92954,     0.92954,     0.92954,     0.92954,     0.92953,     0.92924,     0.92895,     0.92867,     0.92838,     0.92809,      0.9278,     0.92752,     0.92723,     0.92694,     0.92646,     0.92586,     0.92525,     0.92465,     0.92409,     0.92389,      0.9237,\n",
            "             0.9235,      0.9233,      0.9231,      0.9229,      0.9227,      0.9225,      0.9223,      0.9221,      0.9219,      0.9217,      0.9215,     0.92141,     0.92141,     0.92141,     0.92141,     0.92141,     0.92141,     0.92141,     0.92141,     0.92141,     0.92141,     0.92141,     0.92141,\n",
            "            0.92141,     0.92141,     0.92141,     0.92017,      0.9187,      0.9187,      0.9187,      0.9187,      0.9187,     0.91855,     0.91599,     0.91599,     0.91599,     0.91599,     0.91599,     0.91599,     0.91595,     0.91575,     0.91554,     0.91533,     0.91513,     0.91492,     0.91471,\n",
            "            0.91451,      0.9143,     0.91409,     0.91389,     0.91368,     0.91347,     0.91328,     0.91328,     0.91328,     0.91328,     0.91328,     0.91328,     0.91328,     0.91328,     0.91328,     0.91328,     0.91328,     0.91328,     0.91328,     0.91328,     0.91328,     0.91328,     0.91328,\n",
            "            0.91328,     0.91328,     0.91327,     0.91312,     0.91297,     0.91282,     0.91266,     0.91251,     0.91236,     0.91221,     0.91206,      0.9119,     0.91175,      0.9116,     0.91145,     0.91129,     0.91114,     0.91099,     0.91084,     0.91068,     0.91044,     0.90993,     0.90943,\n",
            "            0.90892,     0.90841,     0.90791,     0.90786,     0.90786,     0.90786,     0.90786,     0.90786,     0.90786,     0.90786,     0.90786,     0.90786,     0.90786,     0.90786,     0.90786,     0.90786,     0.90786,     0.90786,     0.90786,     0.90782,     0.90748,     0.90714,      0.9068,\n",
            "            0.90646,     0.90612,     0.90578,     0.90544,     0.90515,     0.90515,     0.90515,     0.90515,     0.90515,     0.90515,     0.90515,     0.90515,     0.90515,     0.90515,     0.90515,     0.90515,     0.90515,     0.90515,     0.90515,     0.90515,     0.90515,     0.90515,     0.90515,\n",
            "            0.90515,     0.90515,     0.90515,     0.90515,     0.90515,     0.90515,     0.90515,     0.90515,     0.90515,     0.90515,     0.90515,     0.90515,     0.90515,     0.90515,     0.90515,     0.90515,     0.90515,     0.90515,     0.90515,     0.90515,     0.90515,     0.90515,     0.90515,\n",
            "            0.90515,     0.90515,     0.90515,     0.90515,     0.90515,     0.90515,     0.90515,     0.90515,     0.90515,     0.90515,     0.90515,     0.90476,     0.90415,     0.90354,     0.90293,     0.90244,     0.90244,     0.90244,     0.90244,     0.90244,     0.90244,     0.90244,     0.90244,\n",
            "            0.90244,     0.90244,     0.90244,     0.90244,     0.90244,     0.90244,     0.90244,     0.90244,     0.90244,     0.90244,     0.90244,     0.90244,     0.90244,     0.90244,     0.89973,     0.89973,     0.89973,     0.89973,     0.89973,      0.8995,     0.89921,     0.89893,     0.89864,\n",
            "            0.89836,     0.89807,     0.89779,      0.8975,     0.89722,     0.89702,     0.89702,     0.89702,     0.89702,     0.89702,     0.89702,     0.89702,     0.89702,     0.89702,     0.89702,     0.89702,     0.89702,     0.89702,     0.89702,     0.89702,     0.89702,     0.89693,     0.89669,\n",
            "            0.89645,     0.89621,     0.89597,     0.89573,      0.8955,     0.89526,     0.89502,     0.89478,     0.89454,     0.89431,     0.89431,     0.89431,     0.89431,     0.89431,     0.89431,     0.89431,     0.89431,     0.89431,     0.89431,     0.89431,     0.89431,     0.89431,     0.89431,\n",
            "            0.89431,     0.89431,     0.89431,     0.89431,     0.89431,     0.89431,     0.89431,     0.89431,     0.89431,     0.89427,     0.89394,     0.89361,     0.89328,     0.89296,     0.89263,      0.8923,     0.89197,     0.89164,     0.89128,     0.89091,     0.89054,     0.89017,     0.88981,\n",
            "            0.88944,     0.88907,     0.88889,     0.88889,     0.88786,     0.88671,     0.88618,     0.88618,     0.88618,     0.88618,     0.88618,     0.88618,     0.88618,     0.88618,     0.88618,     0.88618,     0.88618,     0.88618,     0.88618,     0.88618,     0.88618,     0.88618,      0.8859,\n",
            "            0.88551,     0.88511,     0.88471,     0.88432,     0.88392,     0.88352,     0.88347,     0.88347,     0.88347,     0.88347,     0.88347,     0.88347,     0.88347,     0.88347,     0.88347,     0.88347,     0.88347,     0.88347,     0.88347,     0.88347,     0.88347,     0.88347,     0.88347,\n",
            "            0.88347,     0.88347,     0.88347,     0.88347,     0.88347,     0.88347,     0.88347,     0.88347,     0.88347,     0.88347,     0.88347,     0.88347,     0.88347,     0.88347,     0.88347,     0.88347,     0.88347,     0.88347,     0.88343,     0.88324,     0.88304,     0.88285,     0.88266,\n",
            "            0.88247,     0.88228,     0.88209,     0.88189,      0.8817,     0.88151,     0.88132,     0.88113,     0.88094,     0.88076,     0.88076,     0.88076,     0.88076,     0.88076,     0.88076,     0.88076,     0.88076,     0.88076,     0.88076,     0.88076,     0.88076,     0.88076,     0.88076,\n",
            "            0.88076,     0.88076,     0.88076,     0.88076,     0.88076,     0.88076,     0.88076,     0.88076,     0.88076,     0.88076,     0.88076,     0.88076,     0.88059,     0.88034,     0.88008,     0.87983,     0.87957,     0.87932,     0.87906,     0.87881,     0.87856,      0.8783,     0.87804,\n",
            "            0.87732,     0.87659,     0.87587,     0.87527,     0.87499,     0.87471,     0.87444,     0.87416,     0.87388,     0.87361,     0.87333,     0.87305,     0.87278,     0.87263,     0.87263,     0.87263,     0.87263,     0.87263,     0.87263,     0.87263,     0.87263,     0.87263,     0.87263,\n",
            "            0.87263,     0.87263,     0.87263,     0.87263,     0.87263,     0.87263,     0.87263,     0.87263,     0.87263,     0.87263,     0.87263,     0.87263,     0.87263,     0.87263,     0.87263,     0.87263,     0.87263,     0.87263,     0.87263,     0.86992,     0.86992,     0.86992,     0.86992,\n",
            "            0.86992,     0.86992,     0.86992,     0.86992,     0.86992,     0.86992,     0.86992,     0.86992,     0.86992,     0.86992,     0.86992,     0.86992,     0.86992,     0.86992,     0.86992,     0.86992,     0.86992,     0.86992,     0.86992,     0.86992,     0.86992,     0.86992,     0.86992,\n",
            "            0.86992,     0.86992,     0.86992,     0.86992,     0.86992,     0.86992,     0.86876,     0.86749,     0.86721,     0.86721,     0.86721,     0.86721,     0.86721,     0.86721,     0.86721,     0.86721,     0.86721,     0.86721,     0.86721,     0.86721,     0.86721,     0.86721,     0.86721,\n",
            "            0.86721,     0.86721,     0.86721,     0.86721,     0.86721,     0.86721,     0.86721,     0.86721,     0.86721,     0.86721,     0.86721,     0.86721,     0.86721,     0.86721,     0.86721,     0.86721,     0.86721,     0.86721,     0.86721,     0.86721,     0.86721,     0.86721,     0.86721,\n",
            "            0.86721,     0.86721,     0.86721,     0.86721,     0.86721,     0.86719,     0.86676,     0.86634,     0.86592,      0.8655,     0.86507,     0.86465,     0.86427,     0.86392,     0.86356,      0.8632,     0.86285,     0.86249,     0.86214,     0.86179,     0.86154,     0.86129,     0.86105,\n",
            "             0.8608,     0.86055,     0.86031,     0.86006,     0.85982,     0.85957,     0.85932,     0.85907,     0.85637,     0.85637,     0.85637,     0.85481,     0.85366,     0.85366,     0.85366,     0.85366,     0.85366,     0.85366,     0.85335,     0.85262,     0.85189,     0.85116,     0.85095,\n",
            "            0.85095,     0.85095,     0.85044,     0.84862,     0.84808,     0.84788,     0.84767,     0.84747,     0.84727,     0.84706,     0.84686,     0.84666,     0.84646,     0.84625,     0.84605,     0.84585,     0.84564,     0.84553,     0.84282,     0.84282,     0.83905,     0.83695,     0.83641,\n",
            "            0.83588,     0.83535,     0.83482,      0.8342,     0.83355,      0.8329,     0.83225,     0.83198,     0.83198,     0.83186,     0.83152,     0.83118,     0.83085,     0.83051,     0.83017,     0.82983,     0.82949,     0.82777,     0.82305,     0.82107,     0.82067,     0.82028,     0.81988,\n",
            "            0.81948,     0.81908,     0.81869,     0.81827,     0.81783,     0.81738,     0.81693,     0.81649,     0.81604,     0.81542,     0.81435,     0.81327,     0.80989,     0.80872,     0.80754,      0.8062,     0.80484,     0.80212,     0.80086,     0.79961,     0.79882,      0.7981,     0.79738,\n",
            "            0.79403,     0.79361,      0.7932,     0.79278,     0.79236,     0.79195,     0.79153,     0.79011,     0.78804,     0.78648,     0.78318,     0.78195,     0.78071,     0.78049,     0.78028,     0.77941,     0.77855,     0.77737,     0.76965,     0.76965,     0.76965,     0.76965,     0.76907,\n",
            "            0.76787,     0.76694,     0.76254,     0.75881,     0.75881,     0.75878,     0.75818,     0.75758,     0.75698,     0.75638,     0.75474,     0.74997,     0.74465,     0.74219,     0.74102,     0.73985,     0.73582,     0.73246,      0.7313,     0.73065,        0.73,     0.72935,     0.72795,\n",
            "             0.7258,       0.724,     0.71034,     0.70133,     0.69681,      0.6879,     0.68685,     0.68579,     0.67849,     0.67611,     0.66957,     0.66587,     0.66396,     0.66382,     0.66155,     0.65687,     0.64948,     0.64342,     0.63934,     0.63798,      0.6335,     0.62501,     0.62042,\n",
            "            0.61789,     0.61142,     0.60045,     0.59693,     0.59386,     0.58775,     0.58121,     0.57277,     0.56045,     0.54219,     0.53501,     0.52002,     0.51801,     0.50676,     0.50451,     0.49521,     0.48779,     0.48503,     0.47901,     0.46884,     0.46193,     0.45866,       0.456,\n",
            "            0.44704,     0.43442,     0.42458,     0.41552,     0.40329,     0.39949,     0.38905,      0.3842,     0.37079,      0.3632,     0.35309,     0.34019,     0.33084,     0.32326,     0.32027,     0.30608,     0.30174,     0.29783,     0.28632,     0.27237,     0.26018,     0.25796,     0.25143,\n",
            "            0.24222,      0.2362,      0.2305,     0.21812,     0.20575,     0.19804,     0.17881,     0.16791,     0.15801,     0.15071,     0.14311,     0.13791,     0.13437,     0.12954,      0.1257,     0.12027,     0.11172,     0.10347,     0.10146,    0.096649,    0.093707,    0.088392,    0.079058,\n",
            "           0.071727,    0.069512,    0.068193,    0.064659,    0.059439,    0.053937,    0.052742,    0.051547,    0.050519,      0.0495,    0.048455,    0.047349,    0.046243,    0.040999,     0.03121,    0.025704,     0.02345,    0.019198,    0.016256,    0.015268,     0.01428,    0.012766,    0.010377,\n",
            "          0.0090811,    0.005671,   0.0050142,   0.0045971,   0.0041799,   0.0037628,   0.0033456,   0.0029285,           0,           0,           0,           0,           0,           0,           0,           0,           0,           0,           0,           0,           0,           0,           0,\n",
            "                  0,           0,           0,           0,           0,           0,           0,           0,           0,           0,           0,           0,           0,           0,           0,           0,           0,           0,           0,           0,           0,           0,           0,\n",
            "                  0,           0,           0,           0,           0,           0,           0,           0,           0,           0,           0,           0,           0,           0,           0,           0,           0,           0,           0,           0,           0,           0,           0,\n",
            "                  0,           0,           0,           0,           0,           0,           0,           0,           0,           0,           0]]), 'Confidence', 'Recall']]\n",
            "fitness: 0.6031080926247638\n",
            "keys: ['metrics/precision(B)', 'metrics/recall(B)', 'metrics/mAP50(B)', 'metrics/mAP50-95(B)']\n",
            "maps: array([    0.56518])\n",
            "names: {0: 'drone'}\n",
            "plot: True\n",
            "results_dict: {'metrics/precision(B)': 0.941480051581143, 'metrics/recall(B)': 0.8672086720867209, 'metrics/mAP50(B)': 0.9445038580292547, 'metrics/mAP50-95(B)': 0.5651752298020425, 'fitness': 0.6031080926247638}\n",
            "save_dir: PosixPath('runs/detect/train2')\n",
            "speed: {'preprocess': 0.337743621738225, 'inference': 10.323620667031589, 'loss': 0.03936792313193725, 'postprocess': 3.5850884935010754}\n",
            "task: 'detect'\n"
          ]
        }
      ],
      "source": [
        "# ارزیابی مدل\n",
        "metrics = model.val(data=data_yaml_path)\n",
        "print(metrics)\n"
      ]
    }
  ],
  "metadata": {
    "accelerator": "GPU",
    "colab": {
      "gpuType": "T4",
      "provenance": []
    },
    "kernelspec": {
      "display_name": "Python 3",
      "name": "python3"
    },
    "language_info": {
      "codemirror_mode": {
        "name": "ipython",
        "version": 3
      },
      "file_extension": ".py",
      "mimetype": "text/x-python",
      "name": "python",
      "nbconvert_exporter": "python",
      "pygments_lexer": "ipython3",
      "version": "3.11.4"
    }
  },
  "nbformat": 4,
  "nbformat_minor": 0
}
